{
 "cells": [
  {
   "cell_type": "code",
   "execution_count": 1,
   "id": "694accb4-1958-4ec8-9b5d-28b88675a300",
   "metadata": {},
   "outputs": [],
   "source": [
    "import pandas as pd\n",
    "import csv as csv"
   ]
  },
  {
   "cell_type": "code",
   "execution_count": 2,
   "id": "12e171dd-39e4-4ca1-92b9-a199ddf25d06",
   "metadata": {},
   "outputs": [
    {
     "data": {
      "text/html": [
       "<div>\n",
       "<style scoped>\n",
       "    .dataframe tbody tr th:only-of-type {\n",
       "        vertical-align: middle;\n",
       "    }\n",
       "\n",
       "    .dataframe tbody tr th {\n",
       "        vertical-align: top;\n",
       "    }\n",
       "\n",
       "    .dataframe thead th {\n",
       "        text-align: right;\n",
       "    }\n",
       "</style>\n",
       "<table border=\"1\" class=\"dataframe\">\n",
       "  <thead>\n",
       "    <tr style=\"text-align: right;\">\n",
       "      <th></th>\n",
       "      <th>age</th>\n",
       "      <th>name</th>\n",
       "      <th>hobbies</th>\n",
       "      <th>nationality</th>\n",
       "      <th>location</th>\n",
       "    </tr>\n",
       "  </thead>\n",
       "  <tbody>\n",
       "  </tbody>\n",
       "</table>\n",
       "</div>"
      ],
      "text/plain": [
       "Empty DataFrame\n",
       "Columns: [age, name, hobbies, nationality, location]\n",
       "Index: []"
      ]
     },
     "execution_count": 2,
     "metadata": {},
     "output_type": "execute_result"
    }
   ],
   "source": [
    "import pandas as pd\n",
    "import csv as csv\n",
    "kel=['age','name','hobbies','nationality','location']\n",
    "with open('personal_infor.csv','w') as file:\n",
    "    write_file=csv.DictWriter(file,delimiter=',',fieldnames=kel)\n",
    "    write_file.writeheader()\n",
    "df=pd.read_csv('personal_infor.csv')\n",
    "df"
   ]
  },
  {
   "cell_type": "code",
   "execution_count": 3,
   "id": "3db3c8b8-4545-415d-bf2d-f02c910014ad",
   "metadata": {},
   "outputs": [
    {
     "data": {
      "text/html": [
       "<div>\n",
       "<style scoped>\n",
       "    .dataframe tbody tr th:only-of-type {\n",
       "        vertical-align: middle;\n",
       "    }\n",
       "\n",
       "    .dataframe tbody tr th {\n",
       "        vertical-align: top;\n",
       "    }\n",
       "\n",
       "    .dataframe thead th {\n",
       "        text-align: right;\n",
       "    }\n",
       "</style>\n",
       "<table border=\"1\" class=\"dataframe\">\n",
       "  <thead>\n",
       "    <tr style=\"text-align: right;\">\n",
       "      <th></th>\n",
       "      <th>age</th>\n",
       "      <th>name</th>\n",
       "      <th>hobbies</th>\n",
       "      <th>nationality</th>\n",
       "      <th>location</th>\n",
       "    </tr>\n",
       "  </thead>\n",
       "  <tbody>\n",
       "    <tr>\n",
       "      <th>0</th>\n",
       "      <td>12</td>\n",
       "      <td>john</td>\n",
       "      <td>chess</td>\n",
       "      <td>malawian</td>\n",
       "      <td>lilongwe</td>\n",
       "    </tr>\n",
       "  </tbody>\n",
       "</table>\n",
       "</div>"
      ],
      "text/plain": [
       "   age  name hobbies nationality  location\n",
       "0   12  john   chess    malawian  lilongwe"
      ]
     },
     "execution_count": 3,
     "metadata": {},
     "output_type": "execute_result"
    }
   ],
   "source": [
    "import pandas as pd\n",
    "import csv as csv\n",
    "data={'age':12,'name':'john','hobbies':'chess','nationality':'malawian','location':'lilongwe'}\n",
    "with open('personal_infor.csv','a') as file:\n",
    "    write_file=csv.DictWriter(file,delimiter=',',fieldnames=data)\n",
    "    write_file.writerow(data)\n",
    "df=pd.read_csv('personal_infor.csv')\n",
    "df"
   ]
  },
  {
   "cell_type": "code",
   "execution_count": 2,
   "id": "b2d2ab76-4e8b-401f-b223-504e5ab51a5a",
   "metadata": {},
   "outputs": [],
   "source": [
    "# details=['Name','age','email','location','nationality','gender','phone','M_status','salary']\n",
    "# with open('personal_details.csv','w') as file:\n",
    "#     write_file=csv.DictWriter(file,delimiter=',',fieldnames=details)\n",
    "#     write_file.writeheader()\n",
    "# df=pd.read_csv('personal_details.csv')\n",
    "# df \n",
    "# data={}\n",
    "# def add_details():\n",
    "    # if data.get() is None:\n",
    "    # data={'Name':Name,'age':age,'email':email,'location':location,'nationality':nationality,'gender':gender,'phone':phone,'M_status':M_status,'salary':salary}\n",
    "    Name=input('enter your full name:  ')\n",
    "    age=input('enter your age:  ')\n",
    "    email=input('type your email address:   ')\n",
    "    location=input('type your location:  ')\n",
    "    nationality=input('enter your country of origin:  ')\n",
    "    gender=input('enter your gender:  ')\n",
    "    phone=input('enter your phone:  ')\n",
    "    M_status=input('enter your maritual status:  ')\n",
    "    salary=input('enter your monthly salary:   ')\n",
    "    answer=input('do you want to continue:  ')\n",
    "    for i in answer:\n",
    "        if answer=='yes':\n",
    "            print('\\n====roll again then====')\n",
    "            continue\n",
    "        elif answer=='cancel':\n",
    "            quit()\n",
    "        data={'Name':Name,'age':age,'email':email,'location':location,'nationality':nationality,'gender':gender,'phone':phone,'M_status':M_status,'salary':salary}\n",
    "    \n",
    "    # with open('personal_infor.csv','a') as file:\n",
    "    # print(data)\n",
    "        with open('personal_details.csv', 'w', newline='') as file:\n",
    "        # Define the fieldnames (columns)\n",
    "            details = ['Name', 'Age', 'Email', 'Location', 'Nationality', 'Gender', 'Phone', 'M_Status', 'Salary']\n",
    "            writer = csv.DictWriter(file, fieldnames=data)\n",
    "\n",
    "        # Write header and row\n",
    "            writer.writeheader()\n",
    "            writer.writerow(data)\n",
    "\n",
    "    # Read the content of the CSV to verify\n",
    "        df = pd.read_csv('personal_details.csv')\n",
    "        print(df)\n",
    "        # with open('personal_details.csv','w') as file:\n",
    "        #     details=['Name','age','email','location','nationality','gender','phone','M_status','salary']\n",
    "        #     write_file=csv.DictWriter(file,delimiter=',',fieldnames=details)\n",
    "        #     write_file.writeheader()\n",
    "            # write_file.writerow(data)\n",
    "        # df=pd.read_csv('personal_details.csv')\n",
    "        # print(df) \n",
    "            # write_file=csv.DictWriter(file,delimiter=',',fieldnames=data)\n",
    "            # write_file.writerow(data)\n",
    "# df=pd.read_csv('personal_details.csv')\n",
    "# df\n"
   ]
  },
  {
   "cell_type": "code",
   "execution_count": 22,
   "id": "23e99b9c-f310-4b30-aed4-3965b2118f00",
   "metadata": {},
   "outputs": [],
   "source": [
    "import pandas as pd\n",
    "\n",
    "def display_details():\n",
    "    # add_details()\n",
    "    # data={'Name':Name,'age':age,'email':email,'location':location,'nationality':nationality,'gender':gender,'phone':phone,'M_status':M_status,'salary':salary}\n",
    "    # with open('personal_details.csv','a') as file:\n",
    "        # write_file=csv.DictWriter(file,delimiter=',',fieldnames=data)\n",
    "        # write_file.writeheader()\n",
    "        # write_file.writerow(data)\n",
    "    df=pd.read_csv('personal_details.csv')\n",
    "    df\n",
    "    print(pd)\n"
   ]
  },
  {
   "cell_type": "code",
   "execution_count": 1,
   "id": "a2f5f20d-40e5-4e71-92c5-0ac2065e76c5",
   "metadata": {},
   "outputs": [],
   "source": [
    "import csv\n",
    "import pandas as pd\n",
    "\n",
    "def add_details():\n",
    "    # Collect user inputs\n",
    "    while True:\n",
    "        Name = input('Enter your full name:  ')\n",
    "        age = input('Enter your age:  ')\n",
    "        email = input('Type your email address:   ')\n",
    "        location = input('Type your location:  ')\n",
    "        nationality = input('Enter your country of origin:  ')\n",
    "        gender = input('Enter your gender:  ')\n",
    "        phone = input('Enter your phone:  ')\n",
    "        M_status = input('Enter your marital status:  ')\n",
    "        salary = input('Enter your monthly salary:   ')\n",
    "\n",
    "\n",
    "        data = {'Name': Name, 'Age': age, 'Email': email, 'Location': location, 'Nationality': nationality, 'Gender': gender, 'Phone': phone, 'M_Status': M_status, 'Salary': salary}\n",
    "\n",
    "        with open('personal_details.csv', 'w', newline='') as file:\n",
    "        \n",
    "            fieldnames = ['Name', 'Age', 'Email', 'Location', 'Nationality', 'Gender', 'Phone', 'M_Status', 'Salary']\n",
    "            writer = csv.DictWriter(file, fieldnames=fieldnames)\n",
    "\n",
    "        \n",
    "            writer.writeheader()\n",
    "            writer.writerow(data)\n",
    "            answer=input('do you want to continue?:   ')\n",
    "            if answer!='yes':\n",
    "                print('thank you!')\n",
    "                break\n",
    "            else:\n",
    "                continue\n",
    "                print('\\n==starting a new details===')\n",
    "\n",
    "\n"
   ]
  },
  {
   "cell_type": "code",
   "execution_count": 2,
   "id": "062ad78f-2e7f-48b0-a255-1ead724e8d1a",
   "metadata": {},
   "outputs": [
    {
     "name": "stdin",
     "output_type": "stream",
     "text": [
      "Enter your full name:   q\n",
      "Enter your age:   q\n",
      "Type your email address:    q\n",
      "Type your location:   q\n",
      "Enter your country of origin:   q\n",
      "Enter your gender:   q\n",
      "Enter your phone:   q\n",
      "Enter your marital status:   q\n",
      "Enter your monthly salary:    q\n",
      "do you want to continue?:    yes\n",
      "Enter your full name:   e\n",
      "Enter your age:   e\n",
      "Type your email address:    e\n",
      "Type your location:   e\n",
      "Enter your country of origin:   e\n",
      "Enter your gender:   e\n",
      "Enter your phone:   e\n",
      "Enter your marital status:   e\n",
      "Enter your monthly salary:    e\n",
      "do you want to continue?:    e\n"
     ]
    },
    {
     "name": "stdout",
     "output_type": "stream",
     "text": [
      "thank you!\n"
     ]
    }
   ],
   "source": [
    "add_details()"
   ]
  },
  {
   "cell_type": "code",
   "execution_count": 3,
   "id": "d5856397-589a-443f-8c74-c481f307f342",
   "metadata": {},
   "outputs": [],
   "source": [
    "def view_details():\n",
    "    df = pd.read_csv('personal_details.csv')\n",
    "    print(df)"
   ]
  },
  {
   "cell_type": "code",
   "execution_count": 4,
   "id": "c8552b3a-9547-4cbe-bff6-b7b06aae057f",
   "metadata": {},
   "outputs": [
    {
     "name": "stdout",
     "output_type": "stream",
     "text": [
      "  Name Age Email Location Nationality Gender Phone M_Status Salary\n",
      "0    e   e     e        e           e      e     e        e      e\n"
     ]
    }
   ],
   "source": [
    "view_details()"
   ]
  },
  {
   "cell_type": "code",
   "execution_count": null,
   "id": "988e70d6-1885-426c-95a1-81358276a1e1",
   "metadata": {},
   "outputs": [],
   "source": [
    "def menu():"
   ]
  }
 ],
 "metadata": {
  "kernelspec": {
   "display_name": "Python 3 (ipykernel)",
   "language": "python",
   "name": "python3"
  },
  "language_info": {
   "codemirror_mode": {
    "name": "ipython",
    "version": 3
   },
   "file_extension": ".py",
   "mimetype": "text/x-python",
   "name": "python",
   "nbconvert_exporter": "python",
   "pygments_lexer": "ipython3",
   "version": "3.13.2"
  }
 },
 "nbformat": 4,
 "nbformat_minor": 5
}
