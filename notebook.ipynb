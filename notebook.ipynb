{
 "cells": [
  {
   "cell_type": "code",
   "execution_count": 4,
   "metadata": {},
   "outputs": [],
   "source": [
    "import pandas as pd\n",
    "\n",
    "# 1. Load dataset\n",
    "df = pd.read_csv('imdb_top_1000.csv')\n",
    "\n",
    "# 2. Select relevant features\n",
    "selected_features = ['Series_Title', 'Genre', 'Director', \n",
    "                    'Overview', 'IMDB_Rating']\n",
    "\n",
    "movies_df = df[selected_features].copy()\n",
    "\n",
    "# 3. Handle missing values\n",
    "# Drop rows with missing values in critical fields\n",
    "movies_df.dropna(subset=['Series_Title', 'Genre', 'Director', \n",
    "                         'Overview', 'IMDB_Rating'], \n",
    "                inplace=True)\n",
    "\n",
    "# 4. Clean text data\n",
    "def clean_text(text):\n",
    "    if isinstance(text, str):\n",
    "        return text.lower().strip()\n",
    "    return text\n",
    "\n",
    "# Apply cleaning to text columns\n",
    "text_columns = ['Series_Title', 'Genre', 'Director','Overview']\n",
    "\n",
    "for col in text_columns:\n",
    "    movies_df[col] = movies_df[col].apply(clean_text)\n",
    "\n",
    "# Select final columns\n",
    "final_columns = ['Series_Title', 'Genre', 'Director', \n",
    "                'Overview', 'IMDB_Rating']\n",
    "\n",
    "movies_df = movies_df[final_columns]\n",
    "\n"
   ]
  },
  {
   "cell_type": "code",
   "execution_count": 5,
   "metadata": {},
   "outputs": [
    {
     "data": {
      "text/plain": [
       "{'movies you might like': [{'Series_Title': 'the shawshank redemption',\n",
       "   'Genre': 'drama'},\n",
       "  {'Series_Title': 'the dark knight', 'Genre': 'action, crime, drama'},\n",
       "  {'Series_Title': '12 angry men', 'Genre': 'crime, drama'},\n",
       "  {'Series_Title': 'the lord of the rings: the return of the king',\n",
       "   'Genre': 'action, adventure, drama'},\n",
       "  {'Series_Title': 'pulp fiction', 'Genre': 'crime, drama'},\n",
       "  {'Series_Title': \"schindler's list\", 'Genre': 'biography, drama, history'},\n",
       "  {'Series_Title': 'fight club', 'Genre': 'drama'},\n",
       "  {'Series_Title': 'the lord of the rings: the fellowship of the ring',\n",
       "   'Genre': 'action, adventure, drama'},\n",
       "  {'Series_Title': 'forrest gump', 'Genre': 'drama, romance'},\n",
       "  {'Series_Title': 'the lord of the rings: the two towers',\n",
       "   'Genre': 'action, adventure, drama'},\n",
       "  {'Series_Title': 'goodfellas', 'Genre': 'biography, crime, drama'},\n",
       "  {'Series_Title': \"one flew over the cuckoo's nest\", 'Genre': 'drama'},\n",
       "  {'Series_Title': 'hamilton', 'Genre': 'biography, drama, history'},\n",
       "  {'Series_Title': 'gisaengchung', 'Genre': 'comedy, drama, thriller'},\n",
       "  {'Series_Title': 'soorarai pottru', 'Genre': 'drama'},\n",
       "  {'Series_Title': 'interstellar', 'Genre': 'adventure, drama, sci-fi'},\n",
       "  {'Series_Title': 'cidade de deus', 'Genre': 'crime, drama'},\n",
       "  {'Series_Title': 'saving private ryan', 'Genre': 'drama, war'},\n",
       "  {'Series_Title': 'the green mile', 'Genre': 'crime, drama, fantasy'},\n",
       "  {'Series_Title': 'la vita è bella', 'Genre': 'comedy, drama, romance'},\n",
       "  {'Series_Title': 'se7en', 'Genre': 'crime, drama, mystery'},\n",
       "  {'Series_Title': 'the silence of the lambs',\n",
       "   'Genre': 'crime, drama, thriller'},\n",
       "  {'Series_Title': 'seppuku', 'Genre': 'action, drama, mystery'},\n",
       "  {'Series_Title': 'shichinin no samurai',\n",
       "   'Genre': 'action, adventure, drama'},\n",
       "  {'Series_Title': \"it's a wonderful life\", 'Genre': 'drama, family, fantasy'},\n",
       "  {'Series_Title': 'joker', 'Genre': 'crime, drama, thriller'},\n",
       "  {'Series_Title': 'whiplash', 'Genre': 'drama, music'},\n",
       "  {'Series_Title': 'the intouchables', 'Genre': 'biography, comedy, drama'},\n",
       "  {'Series_Title': 'the prestige', 'Genre': 'drama, mystery, sci-fi'},\n",
       "  {'Series_Title': 'the departed', 'Genre': 'crime, drama, thriller'},\n",
       "  {'Series_Title': 'the pianist', 'Genre': 'biography, drama, music'},\n",
       "  {'Series_Title': 'gladiator', 'Genre': 'action, adventure, drama'},\n",
       "  {'Series_Title': 'american history x', 'Genre': 'drama'},\n",
       "  {'Series_Title': 'the usual suspects', 'Genre': 'crime, mystery, thriller'},\n",
       "  {'Series_Title': 'léon', 'Genre': 'action, crime, drama'},\n",
       "  {'Series_Title': 'the lion king', 'Genre': 'animation, adventure, drama'},\n",
       "  {'Series_Title': 'nuovo cinema paradiso', 'Genre': 'drama, romance'},\n",
       "  {'Series_Title': 'hotaru no haka', 'Genre': 'animation, drama, war'},\n",
       "  {'Series_Title': 'casablanca', 'Genre': 'drama, romance, war'},\n",
       "  {'Series_Title': 'modern times', 'Genre': 'comedy, drama, family'},\n",
       "  {'Series_Title': 'city lights', 'Genre': 'comedy, drama, romance'},\n",
       "  {'Series_Title': 'capharnaüm', 'Genre': 'drama'},\n",
       "  {'Series_Title': 'ayla: the daughter of war',\n",
       "   'Genre': 'biography, drama, history'},\n",
       "  {'Series_Title': 'vikram vedha', 'Genre': 'action, crime, drama'},\n",
       "  {'Series_Title': 'kimi no na wa.', 'Genre': 'animation, drama, fantasy'},\n",
       "  {'Series_Title': 'dangal', 'Genre': 'action, biography, drama'},\n",
       "  {'Series_Title': 'avengers: endgame', 'Genre': 'action, adventure, drama'},\n",
       "  {'Series_Title': 'django unchained', 'Genre': 'drama, western'},\n",
       "  {'Series_Title': '3 idiots', 'Genre': 'comedy, drama'},\n",
       "  {'Series_Title': 'taare zameen par', 'Genre': 'drama, family'},\n",
       "  {'Series_Title': 'the lives of others', 'Genre': 'drama, mystery, thriller'},\n",
       "  {'Series_Title': 'oldeuboi', 'Genre': 'action, drama, mystery'},\n",
       "  {'Series_Title': 'once upon a time in america', 'Genre': 'crime, drama'},\n",
       "  {'Series_Title': 'the shining', 'Genre': 'drama, horror'},\n",
       "  {'Series_Title': 'apocalypse now', 'Genre': 'drama, mystery, war'},\n",
       "  {'Series_Title': 'anand', 'Genre': 'drama, musical'},\n",
       "  {'Series_Title': 'tengoku to jigoku', 'Genre': 'crime, drama, mystery'},\n",
       "  {'Series_Title': 'witness for the prosecution',\n",
       "   'Genre': 'crime, drama, mystery'},\n",
       "  {'Series_Title': 'paths of glory', 'Genre': 'drama, war'},\n",
       "  {'Series_Title': 'sunset blvd.', 'Genre': 'drama, film-noir'},\n",
       "  {'Series_Title': 'the great dictator', 'Genre': 'comedy, drama, war'},\n",
       "  {'Series_Title': '1917', 'Genre': 'drama, thriller, war'},\n",
       "  {'Series_Title': 'tumbbad', 'Genre': 'drama, fantasy, horror'},\n",
       "  {'Series_Title': 'andhadhun', 'Genre': 'crime, drama, music'},\n",
       "  {'Series_Title': 'drishyam', 'Genre': 'crime, drama, thriller'},\n",
       "  {'Series_Title': 'jagten', 'Genre': 'drama'},\n",
       "  {'Series_Title': 'jodaeiye nader az simin', 'Genre': 'drama'},\n",
       "  {'Series_Title': 'incendies', 'Genre': 'drama, mystery, war'},\n",
       "  {'Series_Title': 'miracle in cell no.7', 'Genre': 'drama'},\n",
       "  {'Series_Title': 'babam ve oglum', 'Genre': 'drama, family'},\n",
       "  {'Series_Title': 'inglourious basterds', 'Genre': 'adventure, drama, war'},\n",
       "  {'Series_Title': 'eternal sunshine of the spotless mind',\n",
       "   'Genre': 'drama, romance, sci-fi'},\n",
       "  {'Series_Title': 'snatch', 'Genre': 'comedy, crime'},\n",
       "  {'Series_Title': 'requiem for a dream', 'Genre': 'drama'},\n",
       "  {'Series_Title': 'american beauty', 'Genre': 'drama'},\n",
       "  {'Series_Title': 'good will hunting', 'Genre': 'drama, romance'},\n",
       "  {'Series_Title': 'bacheha-ye aseman', 'Genre': 'drama, family, sport'},\n",
       "  {'Series_Title': 'braveheart', 'Genre': 'biography, drama, history'},\n",
       "  {'Series_Title': 'reservoir dogs', 'Genre': 'crime, drama, thriller'},\n",
       "  {'Series_Title': 'full metal jacket', 'Genre': 'drama, war'},\n",
       "  {'Series_Title': 'idi i smotri', 'Genre': 'drama, thriller, war'},\n",
       "  {'Series_Title': 'amadeus', 'Genre': 'biography, drama, history'},\n",
       "  {'Series_Title': 'scarface', 'Genre': 'crime, drama'},\n",
       "  {'Series_Title': 'das boot', 'Genre': 'adventure, drama, thriller'},\n",
       "  {'Series_Title': 'taxi driver', 'Genre': 'crime, drama'},\n",
       "  {'Series_Title': 'the sting', 'Genre': 'comedy, crime, drama'},\n",
       "  {'Series_Title': 'a clockwork orange', 'Genre': 'crime, drama, sci-fi'},\n",
       "  {'Series_Title': 'lawrence of arabia',\n",
       "   'Genre': 'adventure, biography, drama'},\n",
       "  {'Series_Title': 'the apartment', 'Genre': 'comedy, drama, romance'},\n",
       "  {'Series_Title': 'ikiru', 'Genre': 'drama'},\n",
       "  {'Series_Title': 'ladri di biciclette', 'Genre': 'drama'},\n",
       "  {'Series_Title': 'double indemnity', 'Genre': 'crime, drama, film-noir'},\n",
       "  {'Series_Title': 'citizen kane', 'Genre': 'drama, mystery'},\n",
       "  {'Series_Title': 'm - eine stadt sucht einen mörder',\n",
       "   'Genre': 'crime, mystery, thriller'},\n",
       "  {'Series_Title': 'metropolis', 'Genre': 'drama, sci-fi'},\n",
       "  {'Series_Title': 'the kid', 'Genre': 'comedy, drama, family'},\n",
       "  {'Series_Title': 'chhichhore', 'Genre': 'comedy, drama'},\n",
       "  {'Series_Title': 'uri: the surgical strike', 'Genre': 'action, drama, war'},\n",
       "  {'Series_Title': 'k.g.f: chapter 1', 'Genre': 'action, drama'},\n",
       "  {'Series_Title': 'green book', 'Genre': 'biography, comedy, drama'},\n",
       "  {'Series_Title': 'three billboards outside ebbing, missouri',\n",
       "   'Genre': 'comedy, crime, drama'},\n",
       "  {'Series_Title': 'talvar', 'Genre': 'crime, drama, mystery'},\n",
       "  {'Series_Title': 'baahubali 2: the conclusion', 'Genre': 'action, drama'},\n",
       "  {'Series_Title': 'drishyam', 'Genre': 'crime, drama, mystery'},\n",
       "  {'Series_Title': 'queen', 'Genre': 'adventure, comedy, drama'},\n",
       "  {'Series_Title': 'mandariinid', 'Genre': 'drama, war'},\n",
       "  {'Series_Title': 'bhaag milkha bhaag', 'Genre': 'biography, drama, sport'},\n",
       "  {'Series_Title': 'gangs of wasseypur', 'Genre': 'action, comedy, crime'},\n",
       "  {'Series_Title': 'udaan', 'Genre': 'drama'},\n",
       "  {'Series_Title': 'paan singh tomar', 'Genre': 'action, biography, crime'},\n",
       "  {'Series_Title': 'el secreto de sus ojos',\n",
       "   'Genre': 'drama, mystery, romance'},\n",
       "  {'Series_Title': 'warrior', 'Genre': 'action, drama, sport'},\n",
       "  {'Series_Title': 'the wolf of wall street',\n",
       "   'Genre': 'biography, crime, drama'},\n",
       "  {'Series_Title': 'chak de! india', 'Genre': 'drama, family, sport'},\n",
       "  {'Series_Title': 'there will be blood', 'Genre': 'drama'},\n",
       "  {'Series_Title': \"pan's labyrinth\", 'Genre': 'drama, fantasy, war'},\n",
       "  {'Series_Title': 'v for vendetta', 'Genre': 'action, drama, sci-fi'},\n",
       "  {'Series_Title': 'rang de basanti', 'Genre': 'comedy, crime, drama'},\n",
       "  {'Series_Title': 'black', 'Genre': 'drama'},\n",
       "  {'Series_Title': 'swades: we, the people', 'Genre': 'drama'},\n",
       "  {'Series_Title': 'der untergang', 'Genre': 'biography, drama, history'},\n",
       "  {'Series_Title': 'a beautiful mind', 'Genre': 'biography, drama'},\n",
       "  {'Series_Title': 'hera pheri', 'Genre': 'action, comedy, crime'},\n",
       "  {'Series_Title': 'lock, stock and two smoking barrels',\n",
       "   'Genre': 'action, comedy, crime'},\n",
       "  {'Series_Title': 'l.a. confidential', 'Genre': 'crime, drama, mystery'},\n",
       "  {'Series_Title': 'eskiya', 'Genre': 'crime, drama, thriller'},\n",
       "  {'Series_Title': 'heat', 'Genre': 'crime, drama, thriller'},\n",
       "  {'Series_Title': 'casino', 'Genre': 'crime, drama'},\n",
       "  {'Series_Title': 'unforgiven', 'Genre': 'drama, western'},\n",
       "  {'Series_Title': 'dom za vesanje', 'Genre': 'comedy, crime, drama'},\n",
       "  {'Series_Title': 'ran', 'Genre': 'action, drama, war'},\n",
       "  {'Series_Title': 'raging bull', 'Genre': 'biography, drama, sport'},\n",
       "  {'Series_Title': 'stalker', 'Genre': 'drama, sci-fi'},\n",
       "  {'Series_Title': 'höstsonaten', 'Genre': 'drama, music'},\n",
       "  {'Series_Title': 'the message', 'Genre': 'biography, drama, history'},\n",
       "  {'Series_Title': 'the great escape', 'Genre': 'adventure, drama, history'},\n",
       "  {'Series_Title': 'to kill a mockingbird', 'Genre': 'crime, drama'},\n",
       "  {'Series_Title': 'yôjinbô', 'Genre': 'action, drama, thriller'},\n",
       "  {'Series_Title': 'judgment at nuremberg', 'Genre': 'drama, war'},\n",
       "  {'Series_Title': 'smultronstället', 'Genre': 'drama, romance'},\n",
       "  {'Series_Title': 'det sjunde inseglet', 'Genre': 'drama, fantasy, history'},\n",
       "  {'Series_Title': 'du rififi chez les hommes',\n",
       "   'Genre': 'crime, drama, thriller'},\n",
       "  {'Series_Title': 'dial m for murder', 'Genre': 'crime, thriller'},\n",
       "  {'Series_Title': 'tôkyô monogatari', 'Genre': 'drama'},\n",
       "  {'Series_Title': 'rashômon', 'Genre': 'crime, drama, mystery'},\n",
       "  {'Series_Title': 'all about eve', 'Genre': 'drama'},\n",
       "  {'Series_Title': 'the treasure of the sierra madre',\n",
       "   'Genre': 'adventure, drama, western'},\n",
       "  {'Series_Title': 'the gold rush', 'Genre': 'adventure, comedy, drama'},\n",
       "  {'Series_Title': 'portrait de la jeune fille en feu',\n",
       "   'Genre': 'drama, romance'},\n",
       "  {'Series_Title': 'pink', 'Genre': 'drama, thriller'},\n",
       "  {'Series_Title': 'koe no katachi', 'Genre': 'animation, drama, family'},\n",
       "  {'Series_Title': 'contratiempo', 'Genre': 'crime, drama, mystery'},\n",
       "  {'Series_Title': 'ah-ga-ssi', 'Genre': 'drama, romance, thriller'},\n",
       "  {'Series_Title': 'mommy', 'Genre': 'drama'},\n",
       "  {'Series_Title': 'haider', 'Genre': 'action, crime, drama'},\n",
       "  {'Series_Title': 'logan', 'Genre': 'action, drama, sci-fi'},\n",
       "  {'Series_Title': 'room', 'Genre': 'drama, thriller'},\n",
       "  {'Series_Title': 'relatos salvajes', 'Genre': 'comedy, drama, thriller'},\n",
       "  {'Series_Title': 'kis uykusu', 'Genre': 'drama'},\n",
       "  {'Series_Title': 'pk', 'Genre': 'comedy, drama, musical'},\n",
       "  {'Series_Title': 'omg: oh my god!', 'Genre': 'comedy, drama, fantasy'},\n",
       "  {'Series_Title': 'the grand budapest hotel',\n",
       "   'Genre': 'adventure, comedy, crime'},\n",
       "  {'Series_Title': 'gone girl', 'Genre': 'drama, mystery, thriller'},\n",
       "  {'Series_Title': 'ôkami kodomo no ame to yuki',\n",
       "   'Genre': 'animation, drama, fantasy'},\n",
       "  {'Series_Title': 'hacksaw ridge', 'Genre': 'biography, drama, history'},\n",
       "  {'Series_Title': 'barfi!', 'Genre': 'comedy, drama, romance'},\n",
       "  {'Series_Title': '12 years a slave', 'Genre': 'biography, drama, history'},\n",
       "  {'Series_Title': 'rush', 'Genre': 'action, biography, drama'},\n",
       "  {'Series_Title': 'ford v ferrari', 'Genre': 'action, biography, drama'},\n",
       "  {'Series_Title': 'spotlight', 'Genre': 'biography, crime, drama'},\n",
       "  {'Series_Title': 'song of the sea', 'Genre': 'animation, adventure, drama'},\n",
       "  {'Series_Title': 'zindagi na milegi dobara', 'Genre': 'comedy, drama'},\n",
       "  {'Series_Title': 'prisoners', 'Genre': 'crime, drama, mystery'},\n",
       "  {'Series_Title': 'a wednesday', 'Genre': 'action, crime, drama'},\n",
       "  {'Series_Title': 'gran torino', 'Genre': 'drama'},\n",
       "  {'Series_Title': 'harry potter and the deathly hallows: part 2',\n",
       "   'Genre': 'adventure, drama, fantasy'},\n",
       "  {'Series_Title': 'okuribito', 'Genre': 'drama, music'},\n",
       "  {'Series_Title': \"hachi: a dog's tale\", 'Genre': 'biography, drama, family'},\n",
       "  {'Series_Title': 'mary and max', 'Genre': 'animation, comedy, drama'},\n",
       "  {'Series_Title': 'into the wild', 'Genre': 'adventure, biography, drama'},\n",
       "  {'Series_Title': 'no country for old men',\n",
       "   'Genre': 'crime, drama, thriller'},\n",
       "  {'Series_Title': 'lage raho munna bhai', 'Genre': 'comedy, drama, romance'},\n",
       "  {'Series_Title': 'million dollar baby', 'Genre': 'drama, sport'},\n",
       "  {'Series_Title': 'hotel rwanda', 'Genre': 'biography, drama, history'},\n",
       "  {'Series_Title': 'taegukgi hwinalrimyeo', 'Genre': 'action, drama, war'},\n",
       "  {'Series_Title': 'before sunset', 'Genre': 'drama, romance'},\n",
       "  {'Series_Title': 'munna bhai m.b.b.s.', 'Genre': 'comedy, drama, musical'},\n",
       "  {'Series_Title': 'salinui chueok', 'Genre': 'crime, drama, mystery'},\n",
       "  {'Series_Title': 'dil chahta hai', 'Genre': 'comedy, drama, romance'},\n",
       "  {'Series_Title': 'kill bill: vol. 1', 'Genre': 'action, crime, drama'},\n",
       "  {'Series_Title': 'catch me if you can', 'Genre': 'biography, crime, drama'},\n",
       "  {'Series_Title': 'amores perros', 'Genre': 'drama, thriller'},\n",
       "  {'Series_Title': 'shin seiki evangelion gekijô-ban: air/magokoro wo, kimi ni',\n",
       "   'Genre': 'animation, action, drama'},\n",
       "  {'Series_Title': 'lagaan: once upon a time in india',\n",
       "   'Genre': 'adventure, drama, musical'},\n",
       "  {'Series_Title': 'the sixth sense', 'Genre': 'drama, mystery, thriller'},\n",
       "  {'Series_Title': \"la leggenda del pianista sull'oceano\",\n",
       "   'Genre': 'drama, music, romance'},\n",
       "  {'Series_Title': 'the truman show', 'Genre': 'comedy, drama'},\n",
       "  {'Series_Title': 'crna macka, beli macor',\n",
       "   'Genre': 'comedy, crime, romance'},\n",
       "  {'Series_Title': 'the big lebowski', 'Genre': 'comedy, crime, sport'},\n",
       "  {'Series_Title': 'fa yeung nin wah', 'Genre': 'drama, romance'},\n",
       "  {'Series_Title': 'trainspotting', 'Genre': 'drama'},\n",
       "  {'Series_Title': 'fargo', 'Genre': 'crime, drama, thriller'},\n",
       "  {'Series_Title': 'underground', 'Genre': 'comedy, drama, war'},\n",
       "  {'Series_Title': 'la haine', 'Genre': 'crime, drama'},\n",
       "  {'Series_Title': 'dilwale dulhania le jayenge', 'Genre': 'drama, romance'},\n",
       "  {'Series_Title': 'before sunrise', 'Genre': 'drama, romance'},\n",
       "  {'Series_Title': 'trois couleurs: rouge',\n",
       "   'Genre': 'drama, mystery, romance'},\n",
       "  {'Series_Title': 'chung hing sam lam', 'Genre': 'comedy, crime, drama'},\n",
       "  {'Series_Title': 'in the name of the father',\n",
       "   'Genre': 'biography, crime, drama'},\n",
       "  {'Series_Title': 'ba wang bie ji', 'Genre': 'drama, music, romance'},\n",
       "  {'Series_Title': 'dà hóng denglong gaogao guà',\n",
       "   'Genre': 'drama, history, romance'},\n",
       "  {'Series_Title': 'dead poets society', 'Genre': 'comedy, drama'},\n",
       "  {'Series_Title': 'stand by me', 'Genre': 'adventure, drama'},\n",
       "  {'Series_Title': 'platoon', 'Genre': 'drama, war'},\n",
       "  {'Series_Title': 'paris, texas', 'Genre': 'drama'},\n",
       "  {'Series_Title': 'pink floyd: the wall', 'Genre': 'drama, fantasy, music'},\n",
       "  {'Series_Title': 'fitzcarraldo', 'Genre': 'adventure, drama'},\n",
       "  {'Series_Title': 'fanny och alexander', 'Genre': 'drama'},\n",
       "  {'Series_Title': 'the elephant man', 'Genre': 'biography, drama'},\n",
       "  {'Series_Title': 'the deer hunter', 'Genre': 'drama, war'},\n",
       "  {'Series_Title': 'rocky', 'Genre': 'drama, sport'},\n",
       "  {'Series_Title': 'network', 'Genre': 'drama'},\n",
       "  {'Series_Title': 'barry lyndon', 'Genre': 'adventure, drama, history'},\n",
       "  {'Series_Title': 'zerkalo', 'Genre': 'biography, drama'},\n",
       "  {'Series_Title': 'chinatown', 'Genre': 'drama, mystery, thriller'},\n",
       "  {'Series_Title': 'paper moon', 'Genre': 'comedy, crime, drama'},\n",
       "  {'Series_Title': 'viskningar och rop', 'Genre': 'drama'},\n",
       "  {'Series_Title': 'solaris', 'Genre': 'drama, mystery, sci-fi'},\n",
       "  {'Series_Title': 'le samouraï', 'Genre': 'crime, drama, mystery'},\n",
       "  {'Series_Title': 'cool hand luke', 'Genre': 'crime, drama'},\n",
       "  {'Series_Title': 'persona', 'Genre': 'drama, thriller'},\n",
       "  {'Series_Title': 'andrei rublev', 'Genre': 'biography, drama, history'},\n",
       "  {'Series_Title': 'la battaglia di algeri', 'Genre': 'drama, war'},\n",
       "  {'Series_Title': 'el ángel exterminador', 'Genre': 'drama, fantasy'},\n",
       "  {'Series_Title': 'what ever happened to baby jane?',\n",
       "   'Genre': 'drama, horror, thriller'},\n",
       "  {'Series_Title': 'sanjuro', 'Genre': 'action, comedy, crime'},\n",
       "  {'Series_Title': 'the man who shot liberty valance',\n",
       "   'Genre': 'drama, western'},\n",
       "  {'Series_Title': 'ivanovo detstvo', 'Genre': 'drama, war'},\n",
       "  {'Series_Title': 'jungfrukällan', 'Genre': 'drama'},\n",
       "  {'Series_Title': 'inherit the wind', 'Genre': 'biography, drama, history'},\n",
       "  {'Series_Title': 'les quatre cents coups', 'Genre': 'crime, drama'},\n",
       "  {'Series_Title': 'ben-hur', 'Genre': 'adventure, drama, history'},\n",
       "  {'Series_Title': 'kakushi-toride no san-akunin',\n",
       "   'Genre': 'adventure, drama'},\n",
       "  {'Series_Title': 'le notti di cabiria', 'Genre': 'drama'},\n",
       "  {'Series_Title': 'kumonosu-jô', 'Genre': 'drama, history'},\n",
       "  {'Series_Title': 'the bridge on the river kwai',\n",
       "   'Genre': 'adventure, drama, war'},\n",
       "  {'Series_Title': 'on the waterfront', 'Genre': 'crime, drama, thriller'},\n",
       "  {'Series_Title': 'le salaire de la peur',\n",
       "   'Genre': 'adventure, drama, thriller'},\n",
       "  {'Series_Title': 'ace in the hole', 'Genre': 'drama, film-noir'},\n",
       "  {'Series_Title': 'white heat', 'Genre': 'action, crime, drama'},\n",
       "  {'Series_Title': 'the red shoes', 'Genre': 'drama, music, romance'},\n",
       "  {'Series_Title': 'the shop around the corner',\n",
       "   'Genre': 'comedy, drama, romance'},\n",
       "  {'Series_Title': 'rebecca', 'Genre': 'drama, mystery, romance'},\n",
       "  {'Series_Title': 'mr. smith goes to washington', 'Genre': 'comedy, drama'},\n",
       "  {'Series_Title': 'gone with the wind', 'Genre': 'drama, history, romance'},\n",
       "  {'Series_Title': 'la grande illusion', 'Genre': 'drama, war'},\n",
       "  {'Series_Title': \"la passion de jeanne d'arc\",\n",
       "   'Genre': 'biography, drama, history'},\n",
       "  {'Series_Title': 'sunrise: a song of two humans', 'Genre': 'drama, romance'},\n",
       "  {'Series_Title': 'badhaai ho', 'Genre': 'comedy, drama'},\n",
       "  {'Series_Title': 'togo', 'Genre': 'adventure, biography, drama'},\n",
       "  {'Series_Title': 'airlift', 'Genre': 'drama, history'},\n",
       "  {'Series_Title': 'baby', 'Genre': 'action, crime, thriller'},\n",
       "  {'Series_Title': 'la la land', 'Genre': 'comedy, drama, music'},\n",
       "  {'Series_Title': 'lion', 'Genre': 'biography, drama'},\n",
       "  {'Series_Title': 'the martian', 'Genre': 'adventure, drama, sci-fi'},\n",
       "  {'Series_Title': 'bãhubali: the beginning', 'Genre': 'action, drama'},\n",
       "  {'Series_Title': 'kaguyahime no monogatari',\n",
       "   'Genre': 'animation, adventure, drama'},\n",
       "  {'Series_Title': 'wonder', 'Genre': 'drama, family'},\n",
       "  {'Series_Title': 'gully boy', 'Genre': 'drama, music, romance'},\n",
       "  {'Series_Title': 'special chabbis', 'Genre': 'crime, drama, thriller'},\n",
       "  {'Series_Title': 'short term 12', 'Genre': 'drama'},\n",
       "  {'Series_Title': 'serbuan maut 2: berandal',\n",
       "   'Genre': 'action, crime, thriller'},\n",
       "  {'Series_Title': 'the imitation game',\n",
       "   'Genre': 'biography, drama, thriller'},\n",
       "  {'Series_Title': 'blade runner 2049', 'Genre': 'action, drama, mystery'},\n",
       "  {'Series_Title': 'her', 'Genre': 'drama, romance, sci-fi'},\n",
       "  {'Series_Title': 'bohemian rhapsody', 'Genre': 'biography, drama, music'},\n",
       "  {'Series_Title': 'the revenant', 'Genre': 'action, adventure, drama'},\n",
       "  {'Series_Title': 'the perks of being a wallflower',\n",
       "   'Genre': 'drama, romance'},\n",
       "  {'Series_Title': 'tropa de elite 2: o inimigo agora é outro',\n",
       "   'Genre': 'action, crime, drama'},\n",
       "  {'Series_Title': \"the king's speech\", 'Genre': 'biography, drama, history'},\n",
       "  {'Series_Title': 'the help', 'Genre': 'drama'},\n",
       "  {'Series_Title': 'darbareye elly', 'Genre': 'drama, mystery'},\n",
       "  {'Series_Title': 'dev.d', 'Genre': 'drama, romance'},\n",
       "  {'Series_Title': 'yip man', 'Genre': 'action, biography, drama'},\n",
       "  {'Series_Title': 'my name is khan', 'Genre': 'drama'},\n",
       "  {'Series_Title': 'nefes: vatan sagolsun',\n",
       "   'Genre': 'action, drama, thriller'},\n",
       "  {'Series_Title': 'slumdog millionaire', 'Genre': 'drama, romance'},\n",
       "  {'Series_Title': 'black swan', 'Genre': 'drama, thriller'},\n",
       "  {'Series_Title': 'tropa de elite', 'Genre': 'action, crime, drama'},\n",
       "  {'Series_Title': 'persepolis', 'Genre': 'animation, biography, drama'},\n",
       "  {'Series_Title': 'dallas buyers club', 'Genre': 'biography, drama'},\n",
       "  {'Series_Title': 'the pursuit of happyness', 'Genre': 'biography, drama'},\n",
       "  {'Series_Title': 'blood diamond', 'Genre': 'adventure, drama, thriller'},\n",
       "  {'Series_Title': 'bin-jip', 'Genre': 'crime, drama, romance'},\n",
       "  {'Series_Title': 'sin city', 'Genre': 'crime, thriller'},\n",
       "  {'Series_Title': 'le scaphandre et le papillon',\n",
       "   'Genre': 'biography, drama'},\n",
       "  {'Series_Title': 'kill bill: vol. 2', 'Genre': 'action, crime, thriller'},\n",
       "  {'Series_Title': 'vozvrashchenie', 'Genre': 'drama'},\n",
       "  {'Series_Title': 'bom yeoareum gaeul gyeoul geurigo bom',\n",
       "   'Genre': 'drama, romance'},\n",
       "  {'Series_Title': 'mar adentro', 'Genre': 'biography, drama'},\n",
       "  {'Series_Title': 'cinderella man', 'Genre': 'biography, drama, history'},\n",
       "  {'Series_Title': 'kal ho naa ho', 'Genre': 'comedy, drama, musical'},\n",
       "  {'Series_Title': 'mou gaan dou', 'Genre': 'action, crime, drama'},\n",
       "  {'Series_Title': 'big fish', 'Genre': 'adventure, drama, fantasy'},\n",
       "  {'Series_Title': 'yeopgijeogin geunyeo', 'Genre': 'comedy, drama, romance'},\n",
       "  {'Series_Title': 'dogville', 'Genre': 'crime, drama'},\n",
       "  {'Series_Title': 'vizontele', 'Genre': 'comedy, drama'},\n",
       "  {'Series_Title': 'donnie darko', 'Genre': 'drama, mystery, sci-fi'},\n",
       "  {'Series_Title': 'magnolia', 'Genre': 'drama'},\n",
       "  {'Series_Title': 'dancer in the dark', 'Genre': 'crime, drama, musical'},\n",
       "  {'Series_Title': 'the straight story', 'Genre': 'biography, drama'},\n",
       "  {'Series_Title': 'pâfekuto burû', 'Genre': 'animation, crime, mystery'},\n",
       "  {'Series_Title': 'festen', 'Genre': 'drama'},\n",
       "  {'Series_Title': 'central do brasil', 'Genre': 'drama'},\n",
       "  {'Series_Title': \"knockin' on heaven's door\",\n",
       "   'Genre': 'action, crime, comedy'},\n",
       "  {'Series_Title': 'sling blade', 'Genre': 'drama'},\n",
       "  {'Series_Title': 'secrets & lies', 'Genre': 'comedy, drama'},\n",
       "  {'Series_Title': 'kôkaku kidôtai', 'Genre': 'animation, action, crime'},\n",
       "  {'Series_Title': 'bound by honor', 'Genre': 'crime, drama'},\n",
       "  {'Series_Title': 'scent of a woman', 'Genre': 'drama'},\n",
       "  {'Series_Title': 'jfk', 'Genre': 'drama, history, thriller'},\n",
       "  {'Series_Title': 'dances with wolves', 'Genre': 'adventure, drama, western'},\n",
       "  {'Series_Title': 'do the right thing', 'Genre': 'comedy, drama'},\n",
       "  {'Series_Title': 'rain man', 'Genre': 'drama'},\n",
       "  {'Series_Title': 'der himmel über berlin',\n",
       "   'Genre': 'drama, fantasy, romance'},\n",
       "  {'Series_Title': 'au revoir les enfants', 'Genre': 'drama, war'},\n",
       "  {'Series_Title': 'tenkû no shiro rapyuta',\n",
       "   'Genre': 'animation, adventure, drama'},\n",
       "  {'Series_Title': 'gandhi', 'Genre': 'biography, drama, history'},\n",
       "  {'Series_Title': 'kagemusha', 'Genre': 'drama, history, war'},\n",
       "  {'Series_Title': 'being there', 'Genre': 'comedy, drama'},\n",
       "  {'Series_Title': 'dog day afternoon', 'Genre': 'biography, crime, drama'},\n",
       "  {'Series_Title': 'papillon', 'Genre': 'biography, crime, drama'},\n",
       "  {'Series_Title': 'the last picture show', 'Genre': 'drama, romance'},\n",
       "  {'Series_Title': 'fiddler on the roof', 'Genre': 'drama, family, musical'},\n",
       "  {'Series_Title': 'il conformista', 'Genre': 'drama'},\n",
       "  {'Series_Title': 'butch cassidy and the sundance kid',\n",
       "   'Genre': 'biography, crime, drama'},\n",
       "  {'Series_Title': \"rosemary's baby\", 'Genre': 'drama, horror'},\n",
       "  {'Series_Title': 'the graduate', 'Genre': 'comedy, drama, romance'},\n",
       "  {'Series_Title': \"who's afraid of virginia woolf?\", 'Genre': 'drama'},\n",
       "  {'Series_Title': 'the sound of music', 'Genre': 'biography, drama, family'},\n",
       "  {'Series_Title': 'doctor zhivago', 'Genre': 'drama, romance, war'},\n",
       "  {'Series_Title': 'per un pugno di dollari',\n",
       "   'Genre': 'action, drama, western'},\n",
       "  {'Series_Title': '8½', 'Genre': 'drama'},\n",
       "  {'Series_Title': 'vivre sa vie: film en douze tableaux', 'Genre': 'drama'},\n",
       "  {'Series_Title': 'the hustler', 'Genre': 'drama, sport'},\n",
       "  {'Series_Title': 'la dolce vita', 'Genre': 'comedy, drama'},\n",
       "  {'Series_Title': 'rio bravo', 'Genre': 'action, drama, western'},\n",
       "  {'Series_Title': 'anatomy of a murder', 'Genre': 'crime, drama, mystery'},\n",
       "  {'Series_Title': 'touch of evil', 'Genre': 'crime, drama, film-noir'},\n",
       "  {'Series_Title': 'cat on a hot tin roof', 'Genre': 'drama'},\n",
       "  {'Series_Title': 'sweet smell of success', 'Genre': 'drama, film-noir'},\n",
       "  {'Series_Title': 'the killing', 'Genre': 'crime, drama, film-noir'},\n",
       "  {'Series_Title': 'the night of the hunter',\n",
       "   'Genre': 'crime, drama, film-noir'},\n",
       "  {'Series_Title': 'la strada', 'Genre': 'drama'},\n",
       "  {'Series_Title': 'les diaboliques', 'Genre': 'crime, drama, horror'},\n",
       "  {'Series_Title': 'stalag 17', 'Genre': 'comedy, drama, war'},\n",
       "  {'Series_Title': 'a streetcar named desire', 'Genre': 'drama'},\n",
       "  {'Series_Title': 'in a lonely place', 'Genre': 'drama, film-noir, mystery'},\n",
       "  {'Series_Title': 'kind hearts and coronets', 'Genre': 'comedy, crime'},\n",
       "  {'Series_Title': 'rope', 'Genre': 'crime, drama, mystery'},\n",
       "  {'Series_Title': 'out of the past', 'Genre': 'crime, drama, film-noir'},\n",
       "  {'Series_Title': 'brief encounter', 'Genre': 'drama, romance'},\n",
       "  {'Series_Title': 'laura', 'Genre': 'drama, film-noir, mystery'},\n",
       "  {'Series_Title': 'the best years of our lives',\n",
       "   'Genre': 'drama, romance, war'},\n",
       "  {'Series_Title': 'arsenic and old lace', 'Genre': 'comedy, crime, thriller'},\n",
       "  {'Series_Title': 'the grapes of wrath', 'Genre': 'drama, history'},\n",
       "  {'Series_Title': 'la règle du jeu', 'Genre': 'comedy, drama'},\n",
       "  {'Series_Title': 'the thin man', 'Genre': 'comedy, crime, mystery'},\n",
       "  {'Series_Title': 'all quiet on the western front', 'Genre': 'drama, war'},\n",
       "  {'Series_Title': 'bronenosets potemkin',\n",
       "   'Genre': 'drama, history, thriller'},\n",
       "  {'Series_Title': 'knives out', 'Genre': 'comedy, crime, drama'},\n",
       "  {'Series_Title': 'dil bechara', 'Genre': 'comedy, drama, romance'},\n",
       "  {'Series_Title': 'manbiki kazoku', 'Genre': 'crime, drama'},\n",
       "  {'Series_Title': 'marriage story', 'Genre': 'comedy, drama, romance'},\n",
       "  {'Series_Title': 'call me by your name', 'Genre': 'drama, romance'},\n",
       "  {'Series_Title': 'i, daniel blake', 'Genre': 'drama'},\n",
       "  {'Series_Title': 'hunt for the wilderpeople',\n",
       "   'Genre': 'adventure, comedy, drama'},\n",
       "  {'Series_Title': 'captain fantastic', 'Genre': 'comedy, drama'},\n",
       "  {'Series_Title': 'sing street', 'Genre': 'comedy, drama, music'},\n",
       "  {'Series_Title': 'nightcrawler', 'Genre': 'crime, drama, thriller'},\n",
       "  {'Series_Title': 'jojo rabbit', 'Genre': 'comedy, drama, war'},\n",
       "  {'Series_Title': 'arrival', 'Genre': 'drama, sci-fi'},\n",
       "  {'Series_Title': 'before midnight', 'Genre': 'drama, romance'},\n",
       "  {'Series_Title': \"bir zamanlar anadolu'da\", 'Genre': 'crime, drama'},\n",
       "  {'Series_Title': 'the artist', 'Genre': 'comedy, drama, romance'},\n",
       "  {'Series_Title': 'amour', 'Genre': 'drama, romance'},\n",
       "  {'Series_Title': 'the irishman', 'Genre': 'biography, crime, drama'},\n",
       "  {'Series_Title': 'un prophète', 'Genre': 'crime, drama'},\n",
       "  {'Series_Title': 'moon', 'Genre': 'drama, mystery, sci-fi'},\n",
       "  {'Series_Title': 'låt den rätte komma in', 'Genre': 'crime, drama, fantasy'},\n",
       "  {'Series_Title': 'the wrestler', 'Genre': 'drama, sport'},\n",
       "  {'Series_Title': 'jab we met', 'Genre': 'comedy, drama, romance'},\n",
       "  {'Series_Title': 'boyhood', 'Genre': 'drama'},\n",
       "  {'Series_Title': '4 luni, 3 saptamâni si 2 zile', 'Genre': 'drama'},\n",
       "  {'Series_Title': 'in bruges', 'Genre': 'comedy, crime, drama'},\n",
       "  {'Series_Title': 'the man from earth', 'Genre': 'drama, fantasy, mystery'},\n",
       "  {'Series_Title': 'letters from iwo jima',\n",
       "   'Genre': 'action, adventure, drama'},\n",
       "  {'Series_Title': 'the fall', 'Genre': 'adventure, drama, fantasy'},\n",
       "  {'Series_Title': 'life of pi', 'Genre': 'adventure, drama, fantasy'},\n",
       "  {'Series_Title': 'c.r.a.z.y.', 'Genre': 'comedy, drama'},\n",
       "  {'Series_Title': 'les choristes', 'Genre': 'drama, music'},\n",
       "  {'Series_Title': 'gegen die wand', 'Genre': 'drama, romance'},\n",
       "  {'Series_Title': 'mystic river', 'Genre': 'crime, drama, mystery'},\n",
       "  {'Series_Title': 'hable con ella', 'Genre': 'drama, mystery, romance'},\n",
       "  {'Series_Title': \"no man's land\", 'Genre': 'comedy, drama, war'},\n",
       "  {'Series_Title': 'cowboy bebop: tengoku no tobira',\n",
       "   'Genre': 'animation, action, crime'},\n",
       "  {'Series_Title': 'nueve reinas', 'Genre': 'crime, drama, thriller'},\n",
       "  {'Series_Title': 'children of men', 'Genre': 'adventure, drama, sci-fi'},\n",
       "  {'Series_Title': 'almost famous', 'Genre': 'adventure, comedy, drama'},\n",
       "  {'Series_Title': 'mulholland dr.', 'Genre': 'drama, mystery, thriller'},\n",
       "  {'Series_Title': 'boogie nights', 'Genre': 'drama'},\n",
       "  {'Series_Title': 'mimi wo sumaseba', 'Genre': 'animation, drama, family'},\n",
       "  {'Series_Title': 'once were warriors', 'Genre': 'crime, drama'},\n",
       "  {'Series_Title': 'true romance', 'Genre': 'crime, drama, romance'},\n",
       "  {'Series_Title': 'trois couleurs: bleu', 'Genre': 'drama, music, mystery'},\n",
       "  {'Series_Title': \"carlito's way\", 'Genre': 'crime, drama, thriller'},\n",
       "  {'Series_Title': 'edward scissorhands', 'Genre': 'drama, fantasy, romance'},\n",
       "  {'Series_Title': 'my left foot: the story of christy brown',\n",
       "   'Genre': 'biography, drama'},\n",
       "  {'Series_Title': 'crimes and misdemeanors', 'Genre': 'comedy, drama'},\n",
       "  {'Series_Title': 'the untouchables', 'Genre': 'crime, drama, thriller'},\n",
       "  {'Series_Title': 'hannah and her sisters', 'Genre': 'comedy, drama'},\n",
       "  {'Series_Title': 'brazil', 'Genre': 'drama, sci-fi'},\n",
       "  {'Series_Title': 'manhattan', 'Genre': 'comedy, drama, romance'},\n",
       "  {'Series_Title': 'all that jazz', 'Genre': 'drama, music, musical'},\n",
       "  {'Series_Title': \"all the president's men\",\n",
       "   'Genre': 'biography, drama, history'},\n",
       "  {'Series_Title': 'la montaña sagrada', 'Genre': 'adventure, drama, fantasy'},\n",
       "  {'Series_Title': 'amarcord', 'Genre': 'comedy, drama, family'},\n",
       "  {'Series_Title': 'harold and maude', 'Genre': 'comedy, drama, romance'},\n",
       "  {'Series_Title': 'patton', 'Genre': 'biography, drama, war'},\n",
       "  {'Series_Title': 'the lion in winter', 'Genre': 'biography, drama, history'},\n",
       "  {'Series_Title': 'in the heat of the night',\n",
       "   'Genre': 'crime, drama, mystery'},\n",
       "  {'Series_Title': 'the manchurian candidate', 'Genre': 'drama, thriller'},\n",
       "  {'Series_Title': 'spartacus', 'Genre': 'adventure, biography, drama'},\n",
       "  {'Series_Title': \"l'avventura\", 'Genre': 'drama, mystery'},\n",
       "  {'Series_Title': 'hiroshima mon amour', 'Genre': 'drama, romance'},\n",
       "  {'Series_Title': 'the ten commandments', 'Genre': 'adventure, drama'},\n",
       "  {'Series_Title': 'the searchers', 'Genre': 'adventure, drama, western'},\n",
       "  {'Series_Title': 'east of eden', 'Genre': 'drama'},\n",
       "  {'Series_Title': 'high noon', 'Genre': 'drama, thriller, western'},\n",
       "  {'Series_Title': 'strangers on a train',\n",
       "   'Genre': 'crime, film-noir, thriller'},\n",
       "  {'Series_Title': 'harvey', 'Genre': 'comedy, drama, fantasy'},\n",
       "  {'Series_Title': 'miracle on 34th street', 'Genre': 'comedy, drama, family'},\n",
       "  {'Series_Title': 'notorious', 'Genre': 'drama, film-noir, romance'},\n",
       "  {'Series_Title': 'the big sleep', 'Genre': 'crime, film-noir, mystery'},\n",
       "  {'Series_Title': 'the lost weekend', 'Genre': 'drama, film-noir'},\n",
       "  {'Series_Title': 'his girl friday', 'Genre': 'comedy, drama, romance'},\n",
       "  {'Series_Title': 'freaks', 'Genre': 'drama, horror'},\n",
       "  {'Series_Title': 'the gentlemen', 'Genre': 'action, comedy, crime'},\n",
       "  {'Series_Title': 'raazi', 'Genre': 'action, drama, thriller'},\n",
       "  {'Series_Title': 'sound of metal', 'Genre': 'drama, music'},\n",
       "  {'Series_Title': 'forushande', 'Genre': 'drama'},\n",
       "  {'Series_Title': 'dunkirk', 'Genre': 'action, drama, history'},\n",
       "  {'Series_Title': 'perfetti sconosciuti', 'Genre': 'comedy, drama'},\n",
       "  {'Series_Title': 'hidden figures', 'Genre': 'biography, drama, history'},\n",
       "  {'Series_Title': 'udta punjab', 'Genre': 'action, crime, drama'},\n",
       "  {'Series_Title': 'm.s. dhoni: the untold story',\n",
       "   'Genre': 'biography, drama, sport'},\n",
       "  {'Series_Title': 'manchester by the sea', 'Genre': 'drama'},\n",
       "  {'Series_Title': 'under sandet', 'Genre': 'drama, history, war'},\n",
       "  {'Series_Title': 'the hateful eight', 'Genre': 'crime, drama, mystery'},\n",
       "  {'Series_Title': 'little women', 'Genre': 'drama, romance'},\n",
       "  {'Series_Title': 'loving vincent', 'Genre': 'animation, biography, crime'},\n",
       "  {'Series_Title': 'pride', 'Genre': 'biography, comedy, drama'},\n",
       "  {'Series_Title': 'le passé', 'Genre': 'drama, mystery'},\n",
       "  {'Series_Title': 'la grande bellezza', 'Genre': 'drama'},\n",
       "  {'Series_Title': 'the lunchbox', 'Genre': 'drama, romance'},\n",
       "  {'Series_Title': 'about time', 'Genre': 'comedy, drama, fantasy'},\n",
       "  {'Series_Title': 'english vinglish', 'Genre': 'comedy, drama, family'},\n",
       "  {'Series_Title': 'kaze tachinu', 'Genre': 'animation, biography, drama'},\n",
       "  {'Series_Title': 'la migliore offerta', 'Genre': 'crime, drama, mystery'},\n",
       "  {'Series_Title': 'moonrise kingdom', 'Genre': 'comedy, drama, romance'},\n",
       "  {'Series_Title': 'the big short', 'Genre': 'biography, comedy, drama'},\n",
       "  {'Series_Title': 'kokuhaku', 'Genre': 'drama, thriller'},\n",
       "  {'Series_Title': 'ang-ma-reul bo-at-da', 'Genre': 'action, crime, drama'},\n",
       "  {'Series_Title': 'the girl with the dragon tattoo',\n",
       "   'Genre': 'crime, drama, mystery'},\n",
       "  {'Series_Title': 'captain phillips', 'Genre': 'adventure, biography, crime'},\n",
       "  {'Series_Title': 'ajeossi', 'Genre': 'action, crime, drama'},\n",
       "  {'Series_Title': 'straight outta compton',\n",
       "   'Genre': 'biography, drama, history'},\n",
       "  {'Series_Title': 'madeo', 'Genre': 'crime, drama, mystery'},\n",
       "  {'Series_Title': 'chugyeokja', 'Genre': 'action, crime, thriller'},\n",
       "  {'Series_Title': 'das weiße band - eine deutsche kindergeschichte',\n",
       "   'Genre': 'drama, history, mystery'},\n",
       "  {'Series_Title': 'män som hatar kvinnor', 'Genre': 'crime, drama, mystery'},\n",
       "  {'Series_Title': 'the trial of the chicago 7',\n",
       "   'Genre': 'drama, history, thriller'},\n",
       "  {'Series_Title': 'druk', 'Genre': 'comedy, drama'},\n",
       "  {'Series_Title': 'the fighter', 'Genre': 'biography, drama, sport'},\n",
       "  {'Series_Title': 'the boy in the striped pyjamas',\n",
       "   'Genre': 'drama, history, war'},\n",
       "  {'Series_Title': 'once', 'Genre': 'drama, music, romance'},\n",
       "  {'Series_Title': 'auf der anderen seite', 'Genre': 'drama'},\n",
       "  {'Series_Title': 'atonement', 'Genre': 'drama, mystery, romance'},\n",
       "  {'Series_Title': 'drive', 'Genre': 'crime, drama'},\n",
       "  {'Series_Title': 'american gangster', 'Genre': 'biography, crime, drama'},\n",
       "  {'Series_Title': 'mr. nobody', 'Genre': 'drama, fantasy, romance'},\n",
       "  {'Series_Title': 'apocalypto', 'Genre': 'action, adventure, drama'},\n",
       "  {'Series_Title': 'little miss sunshine', 'Genre': 'comedy, drama'},\n",
       "  {'Series_Title': 'the curious case of benjamin button',\n",
       "   'Genre': 'drama, fantasy, romance'},\n",
       "  {'Series_Title': 'veer-zaara', 'Genre': 'drama, family, musical'},\n",
       "  {'Series_Title': 'adams æbler', 'Genre': 'comedy, crime, drama'},\n",
       "  {'Series_Title': 'pride & prejudice', 'Genre': 'drama, romance'},\n",
       "  {'Series_Title': \"the world's fastest indian\",\n",
       "   'Genre': 'biography, drama, sport'},\n",
       "  {'Series_Title': 'walk the line', 'Genre': 'biography, drama, music'},\n",
       "  {'Series_Title': 'ondskan', 'Genre': 'drama'},\n",
       "  {'Series_Title': 'the notebook', 'Genre': 'drama, romance'},\n",
       "  {'Series_Title': 'diarios de motocicleta',\n",
       "   'Genre': 'adventure, biography, drama'},\n",
       "  {'Series_Title': 'lilja 4-ever', 'Genre': 'crime, drama'},\n",
       "  {'Series_Title': 'les triplettes de belleville',\n",
       "   'Genre': 'animation, comedy, drama'},\n",
       "  {'Series_Title': 'gongdong gyeongbi guyeok jsa',\n",
       "   'Genre': 'action, drama, thriller'},\n",
       "  {'Series_Title': 'the count of monte cristo',\n",
       "   'Genre': 'action, adventure, drama'},\n",
       "  {'Series_Title': 'waking life', 'Genre': 'animation, drama, fantasy'},\n",
       "  {'Series_Title': 'remember the titans', 'Genre': 'biography, drama, sport'},\n",
       "  {'Series_Title': 'todo sobre mi madre', 'Genre': 'drama'},\n",
       "  {'Series_Title': 'cast away', 'Genre': 'adventure, drama, romance'},\n",
       "  {'Series_Title': 'the boondock saints', 'Genre': 'action, crime, thriller'},\n",
       "  {'Series_Title': 'the insider', 'Genre': 'biography, drama, thriller'},\n",
       "  {'Series_Title': 'october sky', 'Genre': 'biography, drama, family'},\n",
       "  {'Series_Title': 'titanic', 'Genre': 'drama, romance'},\n",
       "  {'Series_Title': 'hana-bi', 'Genre': 'crime, drama, romance'},\n",
       "  {'Series_Title': 'gattaca', 'Genre': 'drama, sci-fi, thriller'},\n",
       "  {'Series_Title': 'the game', 'Genre': 'action, drama, mystery'},\n",
       "  {'Series_Title': 'breaking the waves', 'Genre': 'drama'},\n",
       "  {'Series_Title': 'ed wood', 'Genre': 'biography, comedy, drama'},\n",
       "  {'Series_Title': \"what's eating gilbert grape\", 'Genre': 'drama'},\n",
       "  {'Series_Title': 'tombstone', 'Genre': 'action, biography, drama'},\n",
       "  {'Series_Title': 'the sandlot', 'Genre': 'comedy, drama, family'},\n",
       "  {'Series_Title': 'the remains of the day', 'Genre': 'drama, romance'},\n",
       "  {'Series_Title': 'naked', 'Genre': 'comedy, drama'},\n",
       "  {'Series_Title': 'the fugitive', 'Genre': 'action, crime, drama'},\n",
       "  {'Series_Title': 'a bronx tale', 'Genre': 'crime, drama, romance'},\n",
       "  {'Series_Title': 'batman: mask of the phantasm',\n",
       "   'Genre': 'animation, action, crime'},\n",
       "  {'Series_Title': 'lat sau san taam', 'Genre': 'action, crime, thriller'},\n",
       "  {'Series_Title': 'night on earth', 'Genre': 'comedy, drama'},\n",
       "  {'Series_Title': 'la double vie de véronique',\n",
       "   'Genre': 'drama, fantasy, music'},\n",
       "  {'Series_Title': 'boyz n the hood', 'Genre': 'crime, drama'},\n",
       "  {'Series_Title': 'misery', 'Genre': 'drama, thriller'},\n",
       "  {'Series_Title': 'awakenings', 'Genre': 'biography, drama'},\n",
       "  {'Series_Title': 'majo no takkyûbin',\n",
       "   'Genre': 'animation, adventure, drama'},\n",
       "  {'Series_Title': 'glory', 'Genre': 'biography, drama, history'},\n",
       "  {'Series_Title': 'dip huet seung hung', 'Genre': 'action, crime, drama'},\n",
       "  {'Series_Title': 'mississippi burning', 'Genre': 'crime, drama, history'},\n",
       "  {'Series_Title': 'down by law', 'Genre': 'comedy, crime, drama'},\n",
       "  {'Series_Title': 'the color purple', 'Genre': 'drama'},\n",
       "  {'Series_Title': 'the breakfast club', 'Genre': 'comedy, drama'},\n",
       "  {'Series_Title': 'the killing fields', 'Genre': 'biography, drama, history'},\n",
       "  {'Series_Title': 'the right stuff', 'Genre': 'adventure, biography, drama'},\n",
       "  {'Series_Title': 'the king of comedy', 'Genre': 'comedy, crime, drama'},\n",
       "  {'Series_Title': 'kramer vs. kramer', 'Genre': 'drama'},\n",
       "  {'Series_Title': 'days of heaven', 'Genre': 'drama, romance'},\n",
       "  {'Series_Title': 'the conversation', 'Genre': 'drama, mystery, thriller'},\n",
       "  {'Series_Title': 'the day of the jackal', 'Genre': 'crime, drama, thriller'},\n",
       "  {'Series_Title': 'badlands', 'Genre': 'action, crime, drama'},\n",
       "  {'Series_Title': 'cabaret', 'Genre': 'drama, music, musical'},\n",
       "  {'Series_Title': 'midnight cowboy', 'Genre': 'drama'},\n",
       "  {'Series_Title': \"guess who's coming to dinner\", 'Genre': 'comedy, drama'},\n",
       "  {'Series_Title': 'bonnie and clyde', 'Genre': 'action, biography, crime'},\n",
       "  {'Series_Title': 'my fair lady', 'Genre': 'drama, family, musical'},\n",
       "  {'Series_Title': 'the longest day', 'Genre': 'action, drama, history'},\n",
       "  {'Series_Title': 'jules et jim', 'Genre': 'drama, romance'},\n",
       "  {'Series_Title': 'à bout de souffle', 'Genre': 'crime, drama'},\n",
       "  {'Series_Title': 'red river', 'Genre': 'action, adventure, drama'},\n",
       "  {'Series_Title': 'key largo', 'Genre': 'action, crime, drama'},\n",
       "  {'Series_Title': 'stagecoach', 'Genre': 'adventure, drama, western'},\n",
       "  {'Series_Title': 'bride of frankenstein', 'Genre': 'drama, horror, sci-fi'},\n",
       "  {'Series_Title': 'scarface: the shame of the nation',\n",
       "   'Genre': 'action, crime, drama'},\n",
       "  {'Series_Title': 'frankenstein', 'Genre': 'drama, horror, sci-fi'},\n",
       "  {'Series_Title': 'roma', 'Genre': 'drama'},\n",
       "  {'Series_Title': \"god's own country\", 'Genre': 'drama, romance'},\n",
       "  {'Series_Title': 'wind river', 'Genre': 'crime, drama, mystery'},\n",
       "  {'Series_Title': 'en man som heter ove', 'Genre': 'comedy, drama, romance'},\n",
       "  {'Series_Title': 'omoide no mânî', 'Genre': 'animation, drama, family'},\n",
       "  {'Series_Title': 'the theory of everything',\n",
       "   'Genre': 'biography, drama, romance'},\n",
       "  {'Series_Title': 'the fault in our stars', 'Genre': 'drama, romance'},\n",
       "  {'Series_Title': 'me and earl and the dying girl', 'Genre': 'comedy, drama'},\n",
       "  {'Series_Title': 'birdman or (the unexpected virtue of ignorance)',\n",
       "   'Genre': 'comedy, drama'},\n",
       "  {'Series_Title': \"la vie d'adèle\", 'Genre': 'drama, romance'},\n",
       "  {'Series_Title': 'kai po che!', 'Genre': 'drama, sport'},\n",
       "  {'Series_Title': 'the broken circle breakdown',\n",
       "   'Genre': 'drama, music, romance'},\n",
       "  {'Series_Title': 'rockstar', 'Genre': 'drama, music, musical'},\n",
       "  {'Series_Title': 'nebraska', 'Genre': 'adventure, comedy, drama'},\n",
       "  {'Series_Title': 'le petit prince', 'Genre': 'animation, adventure, drama'},\n",
       "  {'Series_Title': 'detachment', 'Genre': 'drama'},\n",
       "  {'Series_Title': 'gravity', 'Genre': 'drama, sci-fi, thriller'},\n",
       "  {'Series_Title': 'beasts of no nation', 'Genre': 'drama, war'},\n",
       "  {'Series_Title': 'the social network', 'Genre': 'biography, drama'},\n",
       "  {'Series_Title': 'silver linings playbook',\n",
       "   'Genre': 'comedy, drama, romance'},\n",
       "  {'Series_Title': 'argo', 'Genre': 'biography, drama, thriller'},\n",
       "  {'Series_Title': '(500) days of summer', 'Genre': 'comedy, drama, romance'},\n",
       "  {'Series_Title': 'frost/nixon', 'Genre': 'biography, drama, history'},\n",
       "  {'Series_Title': 'papurika', 'Genre': 'animation, drama, fantasy'},\n",
       "  {'Series_Title': 'changeling', 'Genre': 'biography, crime, drama'},\n",
       "  {'Series_Title': 'flipped', 'Genre': 'comedy, drama, romance'},\n",
       "  {'Series_Title': 'death note: desu nôto', 'Genre': 'crime, drama, fantasy'},\n",
       "  {'Series_Title': 'this is england', 'Genre': 'crime, drama'},\n",
       "  {'Series_Title': 'ex machina', 'Genre': 'drama, sci-fi, thriller'},\n",
       "  {'Series_Title': 'efter brylluppet', 'Genre': 'drama'},\n",
       "  {'Series_Title': 'the last king of scotland',\n",
       "   'Genre': 'biography, drama, history'},\n",
       "  {'Series_Title': 'zodiac', 'Genre': 'crime, drama, mystery'},\n",
       "  {'Series_Title': 'lucky number slevin', 'Genre': 'action, crime, drama'},\n",
       "  {'Series_Title': 'joyeux noël', 'Genre': 'drama, history, music'},\n",
       "  {'Series_Title': 'control', 'Genre': 'biography, drama, music'},\n",
       "  {'Series_Title': 'zwartboek', 'Genre': 'drama, thriller, war'},\n",
       "  {'Series_Title': 'brokeback mountain', 'Genre': 'drama, romance'},\n",
       "  {'Series_Title': '3:10 to yuma', 'Genre': 'action, crime, drama'},\n",
       "  {'Series_Title': 'crash', 'Genre': 'crime, drama, thriller'},\n",
       "  {'Series_Title': 'the machinist', 'Genre': 'drama, thriller'},\n",
       "  {'Series_Title': 'ray', 'Genre': 'biography, drama, music'},\n",
       "  {'Series_Title': 'lost in translation', 'Genre': 'comedy, drama'},\n",
       "  {'Series_Title': 'man on fire', 'Genre': 'action, crime, drama'},\n",
       "  {'Series_Title': 'coraline', 'Genre': 'animation, drama, family'},\n",
       "  {'Series_Title': 'the last samurai', 'Genre': 'action, drama'},\n",
       "  {'Series_Title': 'the magdalene sisters', 'Genre': 'drama'},\n",
       "  {'Series_Title': 'good bye lenin!', 'Genre': 'comedy, drama, romance'},\n",
       "  {'Series_Title': 'in america', 'Genre': 'drama'},\n",
       "  {'Series_Title': 'i am sam', 'Genre': 'drama'},\n",
       "  {'Series_Title': 'adaptation.', 'Genre': 'comedy, drama'},\n",
       "  {'Series_Title': 'black hawk down', 'Genre': 'drama, history, war'},\n",
       "  {'Series_Title': 'road to perdition', 'Genre': 'crime, drama, thriller'},\n",
       "  {'Series_Title': 'das experiment', 'Genre': 'drama, thriller'},\n",
       "  {'Series_Title': 'billy elliot', 'Genre': 'drama, music'},\n",
       "  {'Series_Title': 'hedwig and the angry inch',\n",
       "   'Genre': 'comedy, drama, music'},\n",
       "  {'Series_Title': \"ocean's eleven\", 'Genre': 'crime, thriller'},\n",
       "  {'Series_Title': 'o brother, where art thou?',\n",
       "   'Genre': 'adventure, comedy, crime'},\n",
       "  {'Series_Title': 'interstate 60: episodes of the road',\n",
       "   'Genre': 'adventure, comedy, drama'},\n",
       "  {'Series_Title': 'happiness', 'Genre': 'comedy, drama'},\n",
       "  {'Series_Title': 'training day', 'Genre': 'crime, drama, thriller'},\n",
       "  {'Series_Title': 'rushmore', 'Genre': 'comedy, drama, romance'},\n",
       "  {'Series_Title': 'abre los ojos', 'Genre': 'drama, mystery, sci-fi'},\n",
       "  {'Series_Title': 'being john malkovich', 'Genre': 'comedy, drama, fantasy'},\n",
       "  {'Series_Title': 'as good as it gets', 'Genre': 'comedy, drama, romance'},\n",
       "  {'Series_Title': 'donnie brasco', 'Genre': 'biography, crime, drama'},\n",
       "  {'Series_Title': 'shine', 'Genre': 'biography, drama, music'},\n",
       "  {'Series_Title': 'primal fear', 'Genre': 'crime, drama, mystery'},\n",
       "  {'Series_Title': 'hamlet', 'Genre': 'drama'},\n",
       "  {'Series_Title': 'a little princess', 'Genre': 'drama, family, fantasy'},\n",
       "  {'Series_Title': 'do lok tin si', 'Genre': 'comedy, crime, drama'},\n",
       "  {'Series_Title': 'il postino', 'Genre': 'biography, comedy, drama'},\n",
       "  {'Series_Title': 'short cuts', 'Genre': 'comedy, drama'},\n",
       "  {'Series_Title': 'philadelphia', 'Genre': 'drama'},\n",
       "  {'Series_Title': 'the muppet christmas carol',\n",
       "   'Genre': 'comedy, drama, family'},\n",
       "  {'Series_Title': 'malcolm x', 'Genre': 'biography, drama, history'},\n",
       "  {'Series_Title': 'the last of the mohicans',\n",
       "   'Genre': 'action, adventure, drama'},\n",
       "  {'Series_Title': 'glengarry glen ross', 'Genre': 'crime, drama, mystery'},\n",
       "  {'Series_Title': 'a few good men', 'Genre': 'drama, thriller'},\n",
       "  {'Series_Title': 'fried green tomatoes', 'Genre': 'drama'},\n",
       "  {'Series_Title': 'barton fink', 'Genre': 'comedy, drama, thriller'},\n",
       "  {'Series_Title': \"miller's crossing\", 'Genre': 'crime, drama, thriller'},\n",
       "  {'Series_Title': 'withnail & i', 'Genre': 'comedy, drama'},\n",
       "  {'Series_Title': 'the last emperor', 'Genre': 'biography, drama, history'},\n",
       "  {'Series_Title': 'empire of the sun', 'Genre': 'action, drama, history'},\n",
       "  {'Series_Title': 'der name der rose', 'Genre': 'crime, drama, mystery'},\n",
       "  {'Series_Title': 'blue velvet', 'Genre': 'drama, mystery, thriller'},\n",
       "  {'Series_Title': 'after hours', 'Genre': 'comedy, crime, drama'},\n",
       "  {'Series_Title': 'the verdict', 'Genre': 'drama'},\n",
       "  {'Series_Title': 'ordinary people', 'Genre': 'drama'},\n",
       "  {'Series_Title': 'le locataire', 'Genre': 'drama, thriller'},\n",
       "  {'Series_Title': 'the taking of pelham one two three',\n",
       "   'Genre': 'action, crime, thriller'},\n",
       "  {'Series_Title': 'serpico', 'Genre': 'biography, crime, drama'},\n",
       "  {'Series_Title': 'enter the dragon', 'Genre': 'action, crime, drama'},\n",
       "  {'Series_Title': 'deliverance', 'Genre': 'adventure, drama, thriller'},\n",
       "  {'Series_Title': 'the french connection', 'Genre': 'action, crime, drama'},\n",
       "  {'Series_Title': 'dirty harry', 'Genre': 'action, crime, thriller'},\n",
       "  {'Series_Title': 'belle de jour', 'Genre': 'drama, romance'},\n",
       "  {'Series_Title': 'a man for all seasons',\n",
       "   'Genre': 'biography, drama, history'},\n",
       "  {'Series_Title': 'repulsion', 'Genre': 'drama, horror, thriller'},\n",
       "  {'Series_Title': 'zulu', 'Genre': 'drama, history, war'},\n",
       "  {'Series_Title': 'the birds', 'Genre': 'drama, horror, mystery'},\n",
       "  {'Series_Title': 'cape fear', 'Genre': 'drama, thriller'},\n",
       "  {'Series_Title': 'peeping tom', 'Genre': 'drama, horror, thriller'},\n",
       "  {'Series_Title': 'les yeux sans visage', 'Genre': 'drama, horror'},\n",
       "  {'Series_Title': 'invasion of the body snatchers',\n",
       "   'Genre': 'drama, horror, sci-fi'},\n",
       "  {'Series_Title': 'rebel without a cause', 'Genre': 'drama'},\n",
       "  {'Series_Title': 'the ladykillers', 'Genre': 'comedy, crime'},\n",
       "  {'Series_Title': 'sabrina', 'Genre': 'comedy, drama, romance'},\n",
       "  {'Series_Title': 'the quiet man', 'Genre': 'comedy, drama, romance'},\n",
       "  {'Series_Title': 'the day the earth stood still', 'Genre': 'drama, sci-fi'},\n",
       "  {'Series_Title': 'the african queen', 'Genre': 'adventure, drama, romance'},\n",
       "  {'Series_Title': 'gilda', 'Genre': 'drama, film-noir, romance'},\n",
       "  {'Series_Title': 'dark waters', 'Genre': 'biography, drama, history'},\n",
       "  {'Series_Title': 'searching', 'Genre': 'drama, mystery, thriller'},\n",
       "  {'Series_Title': 'once upon a time... in hollywood',\n",
       "   'Genre': 'comedy, drama'},\n",
       "  {'Series_Title': 'nelyubov', 'Genre': 'drama'},\n",
       "  {'Series_Title': 'the florida project', 'Genre': 'drama'},\n",
       "  {'Series_Title': 'just mercy', 'Genre': 'biography, crime, drama'},\n",
       "  {'Series_Title': 'gifted', 'Genre': 'drama'},\n",
       "  {'Series_Title': 'the peanut butter falcon',\n",
       "   'Genre': 'adventure, comedy, drama'},\n",
       "  {'Series_Title': 'victoria', 'Genre': 'crime, drama, romance'},\n",
       "  {'Series_Title': 'mustang', 'Genre': 'drama'},\n",
       "  {'Series_Title': 'baby driver', 'Genre': 'action, crime, drama'},\n",
       "  {'Series_Title': 'only the brave', 'Genre': 'action, biography, drama'},\n",
       "  {'Series_Title': 'bridge of spies', 'Genre': 'drama, history, thriller'},\n",
       "  {'Series_Title': 'sicario', 'Genre': 'action, crime, drama'},\n",
       "  {'Series_Title': 'creed', 'Genre': 'drama, sport'},\n",
       "  {'Series_Title': 'leviafan', 'Genre': 'crime, drama'},\n",
       "  {'Series_Title': 'hell or high water', 'Genre': 'action, crime, drama'},\n",
       "  {'Series_Title': 'philomena', 'Genre': 'biography, comedy, drama'},\n",
       "  {'Series_Title': 'dawn of the planet of the apes',\n",
       "   'Genre': 'action, adventure, drama'},\n",
       "  {'Series_Title': 'end of watch', 'Genre': 'action, crime, drama'},\n",
       "  {'Series_Title': 'a star is born', 'Genre': 'drama, music, romance'},\n",
       "  {'Series_Title': 'true grit', 'Genre': 'drama, western'},\n",
       "  {'Series_Title': 'hævnen', 'Genre': 'drama, romance'},\n",
       "  {'Series_Title': 'despicable me', 'Genre': 'animation, comedy, crime'},\n",
       "  {'Series_Title': '50/50', 'Genre': 'comedy, drama, romance'},\n",
       "  {'Series_Title': 'kick-ass', 'Genre': 'action, comedy, crime'},\n",
       "  {'Series_Title': 'celda 211', 'Genre': 'action, adventure, crime'},\n",
       "  {'Series_Title': 'moneyball', 'Genre': 'biography, drama, sport'},\n",
       "  {'Series_Title': 'la piel que habito', 'Genre': 'drama, horror, thriller'},\n",
       "  {'Series_Title': 'die welle', 'Genre': 'drama, thriller'},\n",
       "  {'Series_Title': 'the blind side', 'Genre': 'biography, drama, sport'},\n",
       "  {'Series_Title': 'the visitor', 'Genre': 'drama'},\n",
       "  {'Series_Title': 'seven pounds', 'Genre': 'drama'},\n",
       "  {'Series_Title': 'eastern promises', 'Genre': 'action, crime, drama'},\n",
       "  {'Series_Title': 'inside man', 'Genre': 'crime, drama, mystery'},\n",
       "  {'Series_Title': 'gone baby gone', 'Genre': 'crime, drama, mystery'},\n",
       "  {'Series_Title': 'la vie en rose', 'Genre': 'biography, drama, music'},\n",
       "  {'Series_Title': 'huo yuan jia', 'Genre': 'action, biography, drama'},\n",
       "  {'Series_Title': 'the illusionist', 'Genre': 'drama, fantasy, mystery'},\n",
       "  {'Series_Title': \"dead man's shoes\", 'Genre': 'crime, drama, thriller'},\n",
       "  {'Series_Title': '300', 'Genre': 'action, drama'},\n",
       "  {'Series_Title': 'match point', 'Genre': 'drama, romance, thriller'},\n",
       "  {'Series_Title': 'watchmen', 'Genre': 'action, drama, mystery'},\n",
       "  {'Series_Title': 'lord of war', 'Genre': 'action, crime, drama'},\n",
       "  {'Series_Title': 'synecdoche, new york', 'Genre': 'drama'},\n",
       "  {'Series_Title': 'mysterious skin', 'Genre': 'drama'},\n",
       "  {'Series_Title': \"jeux d'enfants\", 'Genre': 'comedy, drama, romance'},\n",
       "  {'Series_Title': 'un long dimanche de fiançailles',\n",
       "   'Genre': 'drama, mystery, romance'},\n",
       "  {'Series_Title': 'the station agent', 'Genre': 'comedy, drama'},\n",
       "  {'Series_Title': '21 grams', 'Genre': 'crime, drama, thriller'},\n",
       "  {'Series_Title': 'boksuneun naui geot', 'Genre': 'crime, drama, thriller'},\n",
       "  {'Series_Title': 'finding neverland', 'Genre': 'biography, drama, family'},\n",
       "  {'Series_Title': '25th hour', 'Genre': 'drama'},\n",
       "  {'Series_Title': 'the butterfly effect', 'Genre': 'drama, sci-fi, thriller'},\n",
       "  {'Series_Title': '28 days later...', 'Genre': 'drama, horror, sci-fi'},\n",
       "  {'Series_Title': 'batoru rowaiaru', 'Genre': 'action, adventure, drama'},\n",
       "  {'Series_Title': 'the royal tenenbaums', 'Genre': 'comedy, drama'},\n",
       "  {'Series_Title': 'y tu mamá también', 'Genre': 'drama'},\n",
       "  {'Series_Title': 'blow', 'Genre': 'biography, crime, drama'},\n",
       "  {'Series_Title': 'enemy at the gates', 'Genre': 'drama, history, war'},\n",
       "  {'Series_Title': 'minority report', 'Genre': 'action, crime, mystery'},\n",
       "  {'Series_Title': 'the hurricane', 'Genre': 'biography, drama, sport'},\n",
       "  {'Series_Title': 'american psycho', 'Genre': 'comedy, crime, drama'},\n",
       "  {'Series_Title': 'lola rennt', 'Genre': 'crime, drama, thriller'},\n",
       "  {'Series_Title': 'the thin red line', 'Genre': 'drama, war'},\n",
       "  {'Series_Title': 'fear and loathing in las vegas',\n",
       "   'Genre': 'adventure, comedy, drama'},\n",
       "  {'Series_Title': 'funny games', 'Genre': 'crime, drama, thriller'},\n",
       "  {'Series_Title': 'sleepers', 'Genre': 'crime, drama, thriller'},\n",
       "  {'Series_Title': 'sense and sensibility', 'Genre': 'drama, romance'},\n",
       "  {'Series_Title': 'dead man', 'Genre': 'adventure, drama, fantasy'},\n",
       "  {'Series_Title': 'the bridges of madison county', 'Genre': 'drama, romance'},\n",
       "  {'Series_Title': 'apollo 13', 'Genre': 'adventure, drama, history'},\n",
       "  {'Series_Title': 'trois couleurs: blanc', 'Genre': 'comedy, drama, romance'},\n",
       "  {'Series_Title': 'falling down', 'Genre': 'action, crime, drama'},\n",
       "  {'Series_Title': 'my cousin vinny', 'Genre': 'comedy, crime'},\n",
       "  {'Series_Title': 'omohide poro poro', 'Genre': 'animation, drama, romance'},\n",
       "  {'Series_Title': 'delicatessen', 'Genre': 'comedy, crime'},\n",
       "  {'Series_Title': 'when harry met sally...',\n",
       "   'Genre': 'comedy, drama, romance'},\n",
       "  {'Series_Title': 'the naked gun: from the files of police squad!',\n",
       "   'Genre': 'comedy, crime'},\n",
       "  {'Series_Title': 'planes, trains & automobiles', 'Genre': 'comedy, drama'},\n",
       "  {'Series_Title': 'lethal weapon', 'Genre': 'action, crime, thriller'},\n",
       "  {'Series_Title': 'blood simple', 'Genre': 'crime, drama, thriller'},\n",
       "  {'Series_Title': 'on golden pond', 'Genre': 'drama'},\n",
       "  {'Series_Title': 'the warriors', 'Genre': 'action, crime, thriller'},\n",
       "  {'Series_Title': 'escape from alcatraz',\n",
       "   'Genre': 'action, biography, crime'},\n",
       "  {'Series_Title': 'watership down', 'Genre': 'animation, adventure, drama'},\n",
       "  {'Series_Title': 'midnight express', 'Genre': 'biography, crime, drama'},\n",
       "  {'Series_Title': 'close encounters of the third kind',\n",
       "   'Genre': 'drama, sci-fi'},\n",
       "  {'Series_Title': 'the long goodbye', 'Genre': 'comedy, crime, drama'},\n",
       "  {'Series_Title': 'giù la testa', 'Genre': 'drama, war, western'},\n",
       "  {'Series_Title': 'blowup', 'Genre': 'drama, mystery, thriller'},\n",
       "  {'Series_Title': \"breakfast at tiffany's\",\n",
       "   'Genre': 'comedy, drama, romance'},\n",
       "  {'Series_Title': 'giant', 'Genre': 'drama, western'},\n",
       "  {'Series_Title': 'from here to eternity', 'Genre': 'drama, romance, war'},\n",
       "  {'Series_Title': 'lifeboat', 'Genre': 'drama, war'},\n",
       "  {'Series_Title': 'the 39 steps', 'Genre': 'crime, mystery, thriller'}]}"
      ]
     },
     "execution_count": 5,
     "metadata": {},
     "output_type": "execute_result"
    }
   ],
   "source": [
    "def movies_you_might_like(title) -> dict:\n",
    "    if title and len(title) > 4:\n",
    "        title_filter =movies_df['Series_Title'].str.contains(title, case=False,na=False)\n",
    "        matched_movies = movies_df[title_filter]\n",
    "        if matched_movies.empty:\n",
    "            return {'error': 'No movies found with that title try to use the movie genre'}\n",
    "        #getting genres from the first matching movie\n",
    "        input_movie = matched_movies.iloc[0]\n",
    "        input_genre = set(input_movie['Genre'].split(', '))\n",
    "        \n",
    "        other_movies = movies_df[~title_filter].copy()\n",
    "        other_movies['genres_overlap']= other_movies['Genre'].apply(\n",
    "            lambda x:len(set(x.split(', ')) & input_genre))\n",
    "        recommendations = other_movies[other_movies['genres_overlap'] >0]\n",
    "        # recommendations = recommendations.sort_values(\n",
    "        #     by=['genres_overlap', 'IMDB_Rating'],\n",
    "        #     ascending=[False, False]\n",
    "        # )\n",
    "        return{\n",
    "            'movies you might like': recommendations[['Series_Title', 'Genre',]].to_dict(\"records\")\n",
    "        }\n",
    "movies_you_might_like( 'the godfather')         "
   ]
  },
  {
   "cell_type": "markdown",
   "metadata": {},
   "source": [
    "# Data Preparation Practice Tasks  \n",
    "\n",
    "## 1. **Data Inspection & Profiling**  \n",
    "- Load the dataset and display the first 10 rows  \n",
    "- Check data types of all columns using `.dtypes`  \n",
    "- Generate summary statistics with `.describe(include='all')`  \n",
    "- Identify columns with missing values using `.isnull().sum()`  \n",
    "\n",
    "## 2. **Handling Duplicates**  \n",
    "- Find duplicate rows using `.duplicated().sum()`  \n",
    "- Remove duplicates while keeping the first occurrence  \n",
    "- Verify the dataset size before/after deduplication  \n",
    "\n",
    "## 3. **Missing Value Treatment**  \n",
    "- Fill missing directors with \"Unknown\"  \n",
    "- Drop rows with missing runtime values  \n",
    "- Impute missing genres using the mode  \n",
    "- Fill missing Meta_scores with column median  \n",
    "\n",
    "## 4. **Outlier Detection & Correction**  \n",
    "- Identify movies with IMDB_Rating > 10 or < 0  \n",
    "- Handle invalid runtimes (e.g., \"999 min\", \"10hrs\")  \n",
    "- Use boxplots to detect outliers in `No_of_Votes`  \n",
    "- Correct negative/invalid Gross values  \n",
    "\n",
    "## 5. **Format Standardization**  \n",
    "### Runtime:  \n",
    "- Extract numeric values (e.g., \"100 mins\" → 100)  \n",
    "- Convert to integer and standardize to minutes  \n",
    "\n",
    "### Year:  \n",
    "- Remove \"(re-release)\" and other suffixes  \n",
    "- Convert to 4-digit integer (e.g., \"1998 Original\" → 1998)  \n",
    "\n",
    "### Votes:  \n",
    "- Remove commas and \"K\" abbreviations (e.g., \"1.5K\" → 1500)  \n",
    "- Convert to integer  \n",
    "\n",
    "### Meta_score:  \n",
    "- Remove \"/10\" suffix and convert to numeric  \n",
    "\n",
    "### Gross:  \n",
    "- Remove \"$\", \"USD\", and commas  \n",
    "- Convert to numeric (handle \"million\" as 1,000,000)  \n",
    "\n",
    "## 6. **Categorical Data Handling**  \n",
    "- Normalize genre capitalization (e.g., \"drama\" → \"Drama\")  \n",
    "- Correct typos in genres (e.g., \"Dramaa\" → \"Drama\")  \n",
    "- Standardize certificates (e.g., \"PG13\" → \"PG-13\")  \n",
    "- One-hot encode certificate categories  \n",
    "\n",
    "## 7. **Data Type Conversion**  \n",
    "- Convert Runtime, Year, Votes, Meta_score, and Gross to numeric types  \n",
    "- Ensure Genre and Certificate are categorical types  \n",
    "\n",
    "## 8. **Complex Pattern Handling**  \n",
    "- Parse mixed-format runtimes (e.g., \"2h30m\" → 150)  \n",
    "- Handle currency conversions (e.g., \"€2.5M\" → 2,500,000)  \n",
    "\n",
    "## 9. **Final Validation**  \n",
    "- Check for remaining missing values  \n",
    "- Verify no invalid ratings (0 ≤ IMDB_Rating ≤ 10)  \n",
    "- Ensure all runtime values are reasonable (30 ≤ Runtime ≤ 300)  \n",
    "- Confirm standardized date formats  \n",
    " "
   ]
  },
  {
   "cell_type": "markdown",
   "metadata": {},
   "source": [
    "4. Outlier Detection & Correction\n",
    "Identify movies with IMDB_Rating > 10 or < 0\n",
    "Handle invalid runtimes (e.g., \"999 min\", \"10hrs\")\n",
    "Use boxplots to detect outliers in No_of_Votes\n",
    "Correct negative/invalid Gross values"
   ]
  },
  {
   "cell_type": "markdown",
   "metadata": {},
   "source": []
  },
  {
   "cell_type": "code",
   "execution_count": 1,
   "metadata": {},
   "outputs": [],
   "source": [
    "import pandas as pd"
   ]
  },
  {
   "cell_type": "code",
   "execution_count": 12,
   "metadata": {},
   "outputs": [
    {
     "name": "stdout",
     "output_type": "stream",
     "text": [
      "                                         Poster_Link  \\\n",
      "0  https://m.media-amazon.com/images/M/MV5BMDFkYT...   \n",
      "1  https://m.media-amazon.com/images/M/MV5BM2MyNj...   \n",
      "2  https://m.media-amazon.com/images/M/MV5BMTMxNT...   \n",
      "3  https://m.media-amazon.com/images/M/MV5BMWMwMG...   \n",
      "4  https://m.media-amazon.com/images/M/MV5BMWU4N2...   \n",
      "5  https://m.media-amazon.com/images/M/MV5BNzA5ZD...   \n",
      "6  https://m.media-amazon.com/images/M/MV5BNGNhMD...   \n",
      "7  https://m.media-amazon.com/images/M/MV5BNDE4OT...   \n",
      "8  https://m.media-amazon.com/images/M/MV5BMjAxMz...   \n",
      "9  https://m.media-amazon.com/images/M/MV5BMmEzNT...   \n",
      "\n",
      "                                    Series_Title Released_Year Certificate  \\\n",
      "0                       The Shawshank Redemption          1994           A   \n",
      "1                                  The Godfather          1972           A   \n",
      "2                                The Dark Knight          2008          UA   \n",
      "3                         The Godfather: Part II          1974           A   \n",
      "4                                   12 Angry Men          1957           U   \n",
      "5  The Lord of the Rings: The Return of the King          2003           U   \n",
      "6                                   Pulp Fiction          1994           A   \n",
      "7                               Schindler's List          1993           A   \n",
      "8                                      Inception          2010          UA   \n",
      "9                                     Fight Club          1999           A   \n",
      "\n",
      "   Runtime                      Genre  IMDB_Rating  \\\n",
      "0  142 min                      Drama          9.3   \n",
      "1  175 min               Crime, Drama          9.2   \n",
      "2  152 min       Action, Crime, Drama          9.0   \n",
      "3  202 min               Crime, Drama          9.0   \n",
      "4   96 min               Crime, Drama          9.0   \n",
      "5  201 min   Action, Adventure, Drama          8.9   \n",
      "6  154 min               Crime, Drama          8.9   \n",
      "7  195 min  Biography, Drama, History          8.9   \n",
      "8  148 min  Action, Adventure, Sci-Fi          8.8   \n",
      "9  139 min                      Drama          8.8   \n",
      "\n",
      "                                            Overview  Meta_score  \\\n",
      "0  Two imprisoned men bond over a number of years...        80.0   \n",
      "1  An organized crime dynasty's aging patriarch t...       100.0   \n",
      "2  When the menace known as the Joker wreaks havo...        84.0   \n",
      "3  The early life and career of Vito Corleone in ...        90.0   \n",
      "4  A jury holdout attempts to prevent a miscarria...        96.0   \n",
      "5  Gandalf and Aragorn lead the World of Men agai...        94.0   \n",
      "6  The lives of two mob hitmen, a boxer, a gangst...        94.0   \n",
      "7  In German-occupied Poland during World War II,...        94.0   \n",
      "8  A thief who steals corporate secrets through t...        74.0   \n",
      "9  An insomniac office worker and a devil-may-car...        66.0   \n",
      "\n",
      "               Director              Star1                 Star2  \\\n",
      "0        Frank Darabont        Tim Robbins        Morgan Freeman   \n",
      "1  Francis Ford Coppola      Marlon Brando             Al Pacino   \n",
      "2     Christopher Nolan     Christian Bale          Heath Ledger   \n",
      "3  Francis Ford Coppola          Al Pacino        Robert De Niro   \n",
      "4          Sidney Lumet        Henry Fonda           Lee J. Cobb   \n",
      "5         Peter Jackson        Elijah Wood       Viggo Mortensen   \n",
      "6     Quentin Tarantino      John Travolta           Uma Thurman   \n",
      "7      Steven Spielberg        Liam Neeson         Ralph Fiennes   \n",
      "8     Christopher Nolan  Leonardo DiCaprio  Joseph Gordon-Levitt   \n",
      "9         David Fincher          Brad Pitt         Edward Norton   \n",
      "\n",
      "               Star3             Star4  No_of_Votes        Gross  \n",
      "0         Bob Gunton    William Sadler      2343110   28,341,469  \n",
      "1         James Caan      Diane Keaton      1620367  134,966,411  \n",
      "2      Aaron Eckhart     Michael Caine      2303232  534,858,444  \n",
      "3      Robert Duvall      Diane Keaton      1129952   57,300,000  \n",
      "4      Martin Balsam      John Fiedler       689845    4,360,000  \n",
      "5       Ian McKellen     Orlando Bloom      1642758  377,845,905  \n",
      "6  Samuel L. Jackson      Bruce Willis      1826188  107,928,762  \n",
      "7       Ben Kingsley  Caroline Goodall      1213505   96,898,818  \n",
      "8        Elliot Page      Ken Watanabe      2067042  292,576,195  \n",
      "9          Meat Loaf      Zach Grenier      1854740   37,030,102  \n"
     ]
    }
   ],
   "source": [
    "modified_csv = pd.read_csv('modified_imdb_top_1000.csv')\n",
    "#below here type your code...\n",
    "#1 data inspection and profilling-> loading\n",
    "print(modified_csv.head(10))"
   ]
  },
  {
   "cell_type": "code",
   "execution_count": 6,
   "metadata": {},
   "outputs": [
    {
     "data": {
      "text/plain": [
       "dtype('O')"
      ]
     },
     "execution_count": 6,
     "metadata": {},
     "output_type": "execute_result"
    }
   ],
   "source": [
    "#checking data ytpes of columns\n",
    "modified_csv['Poster_Link'].dtypes\n",
    "modified_csv['Series_Title'].dtypes\n",
    "modified_csv['Released_Year'].dtypes\n",
    "modified_csv['Certificate'].dtypes\n",
    "modified_csv['Runtime'].dtypes\n"
   ]
  },
  {
   "cell_type": "code",
   "execution_count": 13,
   "metadata": {},
   "outputs": [
    {
     "data": {
      "text/plain": [
       "Poster_Link       object\n",
       "Series_Title      object\n",
       "Released_Year     object\n",
       "Certificate       object\n",
       "Runtime           object\n",
       "Genre             object\n",
       "IMDB_Rating      float64\n",
       "Overview          object\n",
       "Meta_score       float64\n",
       "Director          object\n",
       "Star1             object\n",
       "Star2             object\n",
       "Star3             object\n",
       "Star4             object\n",
       "No_of_Votes        int64\n",
       "Gross             object\n",
       "dtype: object"
      ]
     },
     "execution_count": 13,
     "metadata": {},
     "output_type": "execute_result"
    }
   ],
   "source": [
    "#checking data ytpes of columns\n",
    "modified_csv.dtypes"
   ]
  },
  {
   "cell_type": "code",
   "execution_count": null,
   "metadata": {},
   "outputs": [],
   "source": []
  },
  {
   "cell_type": "code",
   "execution_count": 14,
   "metadata": {},
   "outputs": [
    {
     "name": "stdout",
     "output_type": "stream",
     "text": [
      "/n== summery statistics==\n",
      "                                              Poster_Link Series_Title  \\\n",
      "count                                                1000         1000   \n",
      "unique                                               1000          999   \n",
      "top     https://m.media-amazon.com/images/M/MV5BMTY5OD...     Drishyam   \n",
      "freq                                                    1            2   \n",
      "mean                                                  NaN          NaN   \n",
      "std                                                   NaN          NaN   \n",
      "min                                                   NaN          NaN   \n",
      "25%                                                   NaN          NaN   \n",
      "50%                                                   NaN          NaN   \n",
      "75%                                                   NaN          NaN   \n",
      "max                                                   NaN          NaN   \n",
      "\n",
      "       Released_Year Certificate  Runtime  Genre  IMDB_Rating  \\\n",
      "count           1000         899     1000   1000  1000.000000   \n",
      "unique           100          16      140    202          NaN   \n",
      "top             2014           U  100 min  Drama          NaN   \n",
      "freq              32         234       23     85          NaN   \n",
      "mean             NaN         NaN      NaN    NaN     7.949300   \n",
      "std              NaN         NaN      NaN    NaN     0.275491   \n",
      "min              NaN         NaN      NaN    NaN     7.600000   \n",
      "25%              NaN         NaN      NaN    NaN     7.700000   \n",
      "50%              NaN         NaN      NaN    NaN     7.900000   \n",
      "75%              NaN         NaN      NaN    NaN     8.100000   \n",
      "max              NaN         NaN      NaN    NaN     9.300000   \n",
      "\n",
      "                                                 Overview  Meta_score  \\\n",
      "count                                                1000  843.000000   \n",
      "unique                                               1000         NaN   \n",
      "top     A man in London tries to help a counter-espion...         NaN   \n",
      "freq                                                    1         NaN   \n",
      "mean                                                  NaN   77.971530   \n",
      "std                                                   NaN   12.376099   \n",
      "min                                                   NaN   28.000000   \n",
      "25%                                                   NaN   70.000000   \n",
      "50%                                                   NaN   79.000000   \n",
      "75%                                                   NaN   87.000000   \n",
      "max                                                   NaN  100.000000   \n",
      "\n",
      "                Director      Star1        Star2         Star3          Star4  \\\n",
      "count               1000       1000         1000          1000           1000   \n",
      "unique               548        660          841           891            939   \n",
      "top     Alfred Hitchcock  Tom Hanks  Emma Watson  Rupert Grint  Michael Caine   \n",
      "freq                  14         12            7             5              4   \n",
      "mean                 NaN        NaN          NaN           NaN            NaN   \n",
      "std                  NaN        NaN          NaN           NaN            NaN   \n",
      "min                  NaN        NaN          NaN           NaN            NaN   \n",
      "25%                  NaN        NaN          NaN           NaN            NaN   \n",
      "50%                  NaN        NaN          NaN           NaN            NaN   \n",
      "75%                  NaN        NaN          NaN           NaN            NaN   \n",
      "max                  NaN        NaN          NaN           NaN            NaN   \n",
      "\n",
      "         No_of_Votes      Gross  \n",
      "count   1.000000e+03        831  \n",
      "unique           NaN        823  \n",
      "top              NaN  4,360,000  \n",
      "freq             NaN          5  \n",
      "mean    2.736929e+05        NaN  \n",
      "std     3.273727e+05        NaN  \n",
      "min     2.508800e+04        NaN  \n",
      "25%     5.552625e+04        NaN  \n",
      "50%     1.385485e+05        NaN  \n",
      "75%     3.741612e+05        NaN  \n",
      "max     2.343110e+06        NaN  \n"
     ]
    }
   ],
   "source": [
    "print('/n== summery statistics==')\n",
    "print(modified_csv.describe(include='all'))"
   ]
  },
  {
   "cell_type": "code",
   "execution_count": 16,
   "metadata": {},
   "outputs": [
    {
     "name": "stdout",
     "output_type": "stream",
     "text": [
      "==============\n",
      "Poster_Link        0\n",
      "Series_Title       0\n",
      "Released_Year      0\n",
      "Certificate      101\n",
      "Runtime            0\n",
      "Genre              0\n",
      "IMDB_Rating        0\n",
      "Overview           0\n",
      "Meta_score       157\n",
      "Director           0\n",
      "Star1              0\n",
      "Star2              0\n",
      "Star3              0\n",
      "Star4              0\n",
      "No_of_Votes        0\n",
      "Gross            169\n",
      "dtype: int64\n"
     ]
    }
   ],
   "source": [
    "1# detecting missing values\n",
    "print('==============')\n",
    "print(modified_csv.isnull().sum())"
   ]
  },
  {
   "cell_type": "markdown",
   "metadata": {},
   "source": [
    "2#handling duplicates\n"
   ]
  },
  {
   "cell_type": "code",
   "execution_count": 22,
   "metadata": {},
   "outputs": [
    {
     "data": {
      "text/plain": [
       "np.int64(0)"
      ]
     },
     "execution_count": 22,
     "metadata": {},
     "output_type": "execute_result"
    }
   ],
   "source": [
    "modified_csv= pd.read_csv(\"modified_imdb_top_1000.csv\")\n",
    "modified_csv.duplicated().sum()"
   ]
  },
  {
   "cell_type": "code",
   "execution_count": 21,
   "metadata": {},
   "outputs": [
    {
     "name": "stdout",
     "output_type": "stream",
     "text": [
      "===initial duplicate===\n",
      "final_duplicates:0\n",
      "Dataset size after duplication :1000\n"
     ]
    }
   ],
   "source": [
    "print('===initial duplicate===')\n",
    "modified_csv=modified_csv.drop_duplicates(keep='first').reset_index(drop=True)\n",
    "print(f'final_duplicates:{modified.duplicated().sum()}')\n",
    "print(f'Dataset size after duplication :{len(modified_csv)}')\n",
    "#print(modified_csv.duplicated().sum())"
   ]
  },
  {
   "cell_type": "code",
   "execution_count": 12,
   "metadata": {},
   "outputs": [
    {
     "name": "stdout",
     "output_type": "stream",
     "text": [
      "Empty DataFrame\n",
      "Columns: [Poster_Link, Series_Title, Released_Year, Certificate, Runtime, Genre, IMDB_Rating, Overview, Meta_score, Director, Star1, Star2, Star3, Star4, No_of_Votes, Gross]\n",
      "Index: []\n"
     ]
    }
   ],
   "source": [
    "import pandas as pd\n",
    "\n",
    "# Load the CSV file\n",
    "modified = pd.read_csv(\"modified_imdb_top_1000.csv\")\n",
    "\n",
    "# Check for duplicate rows\n",
    "modified= modified[modified.duplicated()]\n",
    "\n",
    "# Display duplicates\n",
    "print(modified)"
   ]
  },
  {
   "cell_type": "code",
   "execution_count": null,
   "metadata": {},
   "outputs": [],
   "source": []
  },
  {
   "cell_type": "code",
   "execution_count": null,
   "metadata": {},
   "outputs": [],
   "source": [
    "#removing duplicate columns\n",
    "modified = pd.read_csv(\"modified_imdb_top_1000.csv\")\n",
    "modified=modified.drop_duplicates()"
   ]
  },
  {
   "cell_type": "code",
   "execution_count": 23,
   "metadata": {},
   "outputs": [
    {
     "data": {
      "text/plain": [
       "np.int64(0)"
      ]
     },
     "execution_count": 23,
     "metadata": {},
     "output_type": "execute_result"
    }
   ],
   "source": [
    "#2_finding duplicate\n",
    "m=modified_csv.duplicated().sum().sum()\n",
    "# m.head()\n",
    "# .sum()\n",
    "m"
   ]
  },
  {
   "cell_type": "code",
   "execution_count": 24,
   "metadata": {},
   "outputs": [
    {
     "data": {
      "text/plain": [
       "16000"
      ]
     },
     "execution_count": 24,
     "metadata": {},
     "output_type": "execute_result"
    }
   ],
   "source": [
    "#checking the size of csv\n",
    "modified_csv.size"
   ]
  },
  {
   "cell_type": "code",
   "execution_count": null,
   "metadata": {},
   "outputs": [],
   "source": [
    "#removing duplicate\n",
    "modified_csv.drop_duplicates(subset='Series_Title',keep='first')\n",
    "modified_csv.to_csv('modified_imdb_top_1000.csv',index=False)\n"
   ]
  },
  {
   "cell_type": "code",
   "execution_count": null,
   "metadata": {},
   "outputs": [],
   "source": [
    "#checking the size again\n",
    "modified_csv.size"
   ]
  },
  {
   "cell_type": "markdown",
   "metadata": {},
   "source": [
    "#3\n",
    "3. Missing Value Treatment\n",
    "Fill missing directors with \"Unknown\"\n",
    "Drop rows with missing runtime values\n",
    "Impute missing genres using the mode\n",
    "Fill missing Meta_scores with column median"
   ]
  },
  {
   "cell_type": "code",
   "execution_count": 14,
   "metadata": {},
   "outputs": [
    {
     "data": {
      "text/plain": [
       "Poster_Link        0\n",
       "Series_Title       0\n",
       "Released_Year      0\n",
       "Certificate      101\n",
       "Runtime            0\n",
       "Genre              0\n",
       "IMDB_Rating        0\n",
       "Overview           0\n",
       "Meta_score       163\n",
       "Director           0\n",
       "Star1              0\n",
       "Star2              0\n",
       "Star3              0\n",
       "Star4              0\n",
       "No_of_Votes        0\n",
       "Gross              0\n",
       "dtype: int64"
      ]
     },
     "execution_count": 14,
     "metadata": {},
     "output_type": "execute_result"
    }
   ],
   "source": [
    "#checking missing values\n",
    "m=modified_csv.isnull().sum()\n",
    "m"
   ]
  },
  {
   "cell_type": "code",
   "execution_count": null,
   "metadata": {},
   "outputs": [],
   "source": [
    "modified_csv[\"Director\"]=modified_csv[\"Director\"].fillna('unknown')"
   ]
  },
  {
   "cell_type": "code",
   "execution_count": 15,
   "metadata": {},
   "outputs": [],
   "source": [
    "modified_csv= pd.read_csv('modified_imdb_top_1000.csv')\n",
    "modified_csv[\"Director\"]=modified_csv[\"Director\"].fillna('unk')\n",
    "# (value=\"known\", inplace=True)\n",
    "# df.method({\"Director\": \"unknown\"}, inplace=True)\n",
    "# df.method({\"Director\": value}, inplace=True)\n",
    "# df[\"Director\"].fillna(value=\"known\", inplace=True.....its working\n",
    "df.to_csv(\"modified_imdb_top_1000.csv\", index=False)"
   ]
  },
  {
   "cell_type": "code",
   "execution_count": 16,
   "metadata": {},
   "outputs": [
    {
     "data": {
      "text/plain": [
       "np.int64(0)"
      ]
     },
     "execution_count": 16,
     "metadata": {},
     "output_type": "execute_result"
    }
   ],
   "source": [
    "modified_csv['Director'].isnull().sum()"
   ]
  },
  {
   "cell_type": "code",
   "execution_count": 17,
   "metadata": {},
   "outputs": [],
   "source": [
    "df= pd.read_csv('modified_imdb_top_1000.csv')\n",
    "modified_csv[\"Gross\"]=modified_csv[\"Gross\"].fillna('unknown')\n",
    "# df.to_csv(\"modified_imdb_top_1000.csv\", index=False)"
   ]
  },
  {
   "cell_type": "code",
   "execution_count": 19,
   "metadata": {},
   "outputs": [
    {
     "data": {
      "text/html": [
       "<div>\n",
       "<style scoped>\n",
       "    .dataframe tbody tr th:only-of-type {\n",
       "        vertical-align: middle;\n",
       "    }\n",
       "\n",
       "    .dataframe tbody tr th {\n",
       "        vertical-align: top;\n",
       "    }\n",
       "\n",
       "    .dataframe thead th {\n",
       "        text-align: right;\n",
       "    }\n",
       "</style>\n",
       "<table border=\"1\" class=\"dataframe\">\n",
       "  <thead>\n",
       "    <tr style=\"text-align: right;\">\n",
       "      <th></th>\n",
       "      <th>Poster_Link</th>\n",
       "      <th>Series_Title</th>\n",
       "      <th>Released_Year</th>\n",
       "      <th>Certificate</th>\n",
       "      <th>Runtime</th>\n",
       "      <th>Genre</th>\n",
       "      <th>IMDB_Rating</th>\n",
       "      <th>Overview</th>\n",
       "      <th>Meta_score</th>\n",
       "      <th>Director</th>\n",
       "      <th>Star1</th>\n",
       "      <th>Star2</th>\n",
       "      <th>Star3</th>\n",
       "      <th>Star4</th>\n",
       "      <th>No_of_Votes</th>\n",
       "      <th>Gross</th>\n",
       "    </tr>\n",
       "  </thead>\n",
       "  <tbody>\n",
       "    <tr>\n",
       "      <th>472</th>\n",
       "      <td>https://m.media-amazon.com/images/M/MV5BMjEzOD...</td>\n",
       "      <td>Sing Street</td>\n",
       "      <td>2016</td>\n",
       "      <td>PG-13</td>\n",
       "      <td>106 min</td>\n",
       "      <td>Comedy, Drama, Music</td>\n",
       "      <td>7.9</td>\n",
       "      <td>A boy growing up in Dublin during the 1980s es...</td>\n",
       "      <td>79.0</td>\n",
       "      <td>John Carney</td>\n",
       "      <td>Ferdia Walsh-Peelo</td>\n",
       "      <td>Aidan Gillen</td>\n",
       "      <td>Maria Doyle Kennedy</td>\n",
       "      <td>Jack Reynor</td>\n",
       "      <td>85109</td>\n",
       "      <td>3,237,118</td>\n",
       "    </tr>\n",
       "  </tbody>\n",
       "</table>\n",
       "</div>"
      ],
      "text/plain": [
       "                                           Poster_Link Series_Title  \\\n",
       "472  https://m.media-amazon.com/images/M/MV5BMjEzOD...  Sing Street   \n",
       "\n",
       "    Released_Year Certificate  Runtime                 Genre  IMDB_Rating  \\\n",
       "472          2016       PG-13  106 min  Comedy, Drama, Music          7.9   \n",
       "\n",
       "                                              Overview  Meta_score  \\\n",
       "472  A boy growing up in Dublin during the 1980s es...        79.0   \n",
       "\n",
       "        Director               Star1         Star2                Star3  \\\n",
       "472  John Carney  Ferdia Walsh-Peelo  Aidan Gillen  Maria Doyle Kennedy   \n",
       "\n",
       "           Star4  No_of_Votes      Gross  \n",
       "472  Jack Reynor        85109  3,237,118  "
      ]
     },
     "execution_count": 19,
     "metadata": {},
     "output_type": "execute_result"
    }
   ],
   "source": [
    "modified = pd.read_csv(\"modified_imdb_top_1000.csv\")\n",
    "modified.sample()"
   ]
  },
  {
   "cell_type": "code",
   "execution_count": 9,
   "metadata": {},
   "outputs": [
    {
     "data": {
      "text/plain": [
       "(1000, 16)"
      ]
     },
     "execution_count": 9,
     "metadata": {},
     "output_type": "execute_result"
    }
   ],
   "source": [
    "modified = pd.read_csv(\"modified_imdb_top_1000.csv\") \n",
    "modified.shape"
   ]
  },
  {
   "cell_type": "code",
   "execution_count": 10,
   "metadata": {},
   "outputs": [
    {
     "data": {
      "text/plain": [
       "np.int64(0)"
      ]
     },
     "execution_count": 10,
     "metadata": {},
     "output_type": "execute_result"
    }
   ],
   "source": [
    "#checking empty runtime rows\n",
    "modified_csv['Runtime'].isnull().sum()"
   ]
  },
  {
   "cell_type": "code",
   "execution_count": 11,
   "metadata": {},
   "outputs": [],
   "source": [
    "#removing nun runtime rows\n",
    "modified_csv=pd.read_csv(\"modified_imdb_top_1000.csv\") \n",
    "modified_csv = modified_csv.dropna(subset=[\"Runtime\"]) \n",
    "modified_csv.to_csv(\"modified_imdb_top_1000.csv\",index=False) \n"
   ]
  },
  {
   "cell_type": "code",
   "execution_count": 23,
   "metadata": {},
   "outputs": [
    {
     "data": {
      "text/plain": [
       "np.int64(0)"
      ]
     },
     "execution_count": 23,
     "metadata": {},
     "output_type": "execute_result"
    }
   ],
   "source": [
    "#checking empty genre\n",
    "modified_csv['Genre'].isnull().sum()"
   ]
  },
  {
   "cell_type": "code",
   "execution_count": 24,
   "metadata": {},
   "outputs": [],
   "source": [
    "#imputing empty genre \n",
    "# df[\"column_name\"] = df[\"column_name\"].fillna(df[\"column_name\"].mean())  # Mean\n",
    "# df[\"column_name\"] = df[\"column_name\"].fillna(df[\"column_name\"].median())  # Median\n",
    "modified_csv[\"Genre\"] = modified_csv[\"Genre\"].fillna(modified_csv[\"Genre\"].mode()[0])  # Mode\n",
    "modified_csv.to_csv(\"modified_imdb_top_1000.csv\",index=False) "
   ]
  },
  {
   "cell_type": "code",
   "execution_count": 25,
   "metadata": {},
   "outputs": [
    {
     "data": {
      "text/plain": [
       "np.int64(0)"
      ]
     },
     "execution_count": 25,
     "metadata": {},
     "output_type": "execute_result"
    }
   ],
   "source": [
    "#proving the filling with fillna\n",
    "modified_csv['Genre'].isnull().sum()"
   ]
  },
  {
   "cell_type": "code",
   "execution_count": 26,
   "metadata": {},
   "outputs": [
    {
     "data": {
      "text/plain": [
       "np.int64(157)"
      ]
     },
     "execution_count": 26,
     "metadata": {},
     "output_type": "execute_result"
    }
   ],
   "source": [
    "# empty meta scores\n",
    "modified_csv['Meta_score'].isnull().sum()\t"
   ]
  },
  {
   "cell_type": "code",
   "execution_count": 38,
   "metadata": {},
   "outputs": [
    {
     "data": {
      "text/plain": [
       "np.int64(0)"
      ]
     },
     "execution_count": 38,
     "metadata": {},
     "output_type": "execute_result"
    }
   ],
   "source": [
    "#proving the filling with filln\n",
    "modified_csv['Meta_score'].isnull().sum()\t"
   ]
  },
  {
   "cell_type": "code",
   "execution_count": 29,
   "metadata": {},
   "outputs": [
    {
     "name": "stdout",
     "output_type": "stream",
     "text": [
      "Missing values imputed successfully!\n"
     ]
    }
   ],
   "source": [
    "import pandas as pd\n",
    "\n",
    "# Load the CSV file\n",
    "modified_csv = pd.read_csv(\"modified_imdb_top_1000.csv\")\n",
    "\n",
    "# Clean Meta_score column (remove non-numeric characters)\n",
    "modified_csv['Meta_score'] = modified_csv['Meta_score'].replace(r'[^0-9.]', '', regex=True)\n",
    "\n",
    "# Convert to numeric type\n",
    "modified_csv['Meta_score'] = pd.to_numeric(modified_csv['Meta_score'], errors='coerce')\n",
    "\n",
    "# Compute median separately\n",
    "median_value = modified_csv['Meta_score'].median()\n",
    "\n",
    "# Fill missing values with median\n",
    "modified_csv['Meta_score'] = modified_csv['Meta_score'].fillna(median_value)\n",
    "\n",
    "print(\"Missing values imputed successfully!\")\n"
   ]
  },
  {
   "cell_type": "markdown",
   "metadata": {},
   "source": [
    "4. Outlier Detection & Correction\n",
    "Identify movies with IMDB_Rating > 10 or < 0\n",
    "Handle invalid runtimes (e.g., \"999 min\", \"10hrs\")\n",
    "Use boxplots to detect outliers in No_of_Votes\n",
    "Correct negative/invalid Gross values"
   ]
  },
  {
   "cell_type": "code",
   "execution_count": 42,
   "metadata": {},
   "outputs": [
    {
     "data": {
      "text/html": [
       "<div>\n",
       "<style scoped>\n",
       "    .dataframe tbody tr th:only-of-type {\n",
       "        vertical-align: middle;\n",
       "    }\n",
       "\n",
       "    .dataframe tbody tr th {\n",
       "        vertical-align: top;\n",
       "    }\n",
       "\n",
       "    .dataframe thead th {\n",
       "        text-align: right;\n",
       "    }\n",
       "</style>\n",
       "<table border=\"1\" class=\"dataframe\">\n",
       "  <thead>\n",
       "    <tr style=\"text-align: right;\">\n",
       "      <th></th>\n",
       "      <th>Poster_Link</th>\n",
       "      <th>Series_Title</th>\n",
       "      <th>Released_Year</th>\n",
       "      <th>Certificate</th>\n",
       "      <th>Runtime</th>\n",
       "      <th>Genre</th>\n",
       "      <th>IMDB_Rating</th>\n",
       "      <th>Overview</th>\n",
       "      <th>Meta_score</th>\n",
       "      <th>Director</th>\n",
       "      <th>Star1</th>\n",
       "      <th>Star2</th>\n",
       "      <th>Star3</th>\n",
       "      <th>Star4</th>\n",
       "      <th>No_of_Votes</th>\n",
       "      <th>Gross</th>\n",
       "    </tr>\n",
       "  </thead>\n",
       "  <tbody>\n",
       "  </tbody>\n",
       "</table>\n",
       "</div>"
      ],
      "text/plain": [
       "Empty DataFrame\n",
       "Columns: [Poster_Link, Series_Title, Released_Year, Certificate, Runtime, Genre, IMDB_Rating, Overview, Meta_score, Director, Star1, Star2, Star3, Star4, No_of_Votes, Gross]\n",
       "Index: []"
      ]
     },
     "execution_count": 42,
     "metadata": {},
     "output_type": "execute_result"
    }
   ],
   "source": [
    "modified_csv['IMDB_Rating'] = pd.to_numeric(modified_csv['IMDB_Rating'], errors='coerce')\n",
    "modified_csv[modified_csv['IMDB_Rating']>10]"
   ]
  },
  {
   "cell_type": "code",
   "execution_count": 43,
   "metadata": {},
   "outputs": [
    {
     "data": {
      "text/html": [
       "<div>\n",
       "<style scoped>\n",
       "    .dataframe tbody tr th:only-of-type {\n",
       "        vertical-align: middle;\n",
       "    }\n",
       "\n",
       "    .dataframe tbody tr th {\n",
       "        vertical-align: top;\n",
       "    }\n",
       "\n",
       "    .dataframe thead th {\n",
       "        text-align: right;\n",
       "    }\n",
       "</style>\n",
       "<table border=\"1\" class=\"dataframe\">\n",
       "  <thead>\n",
       "    <tr style=\"text-align: right;\">\n",
       "      <th></th>\n",
       "      <th>Poster_Link</th>\n",
       "      <th>Series_Title</th>\n",
       "      <th>Released_Year</th>\n",
       "      <th>Certificate</th>\n",
       "      <th>Runtime</th>\n",
       "      <th>Genre</th>\n",
       "      <th>IMDB_Rating</th>\n",
       "      <th>Overview</th>\n",
       "      <th>Meta_score</th>\n",
       "      <th>Director</th>\n",
       "      <th>Star1</th>\n",
       "      <th>Star2</th>\n",
       "      <th>Star3</th>\n",
       "      <th>Star4</th>\n",
       "      <th>No_of_Votes</th>\n",
       "      <th>Gross</th>\n",
       "    </tr>\n",
       "  </thead>\n",
       "  <tbody>\n",
       "  </tbody>\n",
       "</table>\n",
       "</div>"
      ],
      "text/plain": [
       "Empty DataFrame\n",
       "Columns: [Poster_Link, Series_Title, Released_Year, Certificate, Runtime, Genre, IMDB_Rating, Overview, Meta_score, Director, Star1, Star2, Star3, Star4, No_of_Votes, Gross]\n",
       "Index: []"
      ]
     },
     "execution_count": 43,
     "metadata": {},
     "output_type": "execute_result"
    }
   ],
   "source": [
    "modified_csv['IMDB_Rating'] = pd.to_numeric(modified_csv['IMDB_Rating'], errors='coerce')\n",
    "modified_csv[(modified_csv['IMDB_Rating'] > 10) | (modified_csv['IMDB_Rating'] < 0)]"
   ]
  },
  {
   "cell_type": "code",
   "execution_count": 44,
   "metadata": {},
   "outputs": [],
   "source": [
    "# Handle invalid runtimes (e.g., \"999 min\", \"10hrs\")\n",
    "modified_csv['Runtime'] = pd.to_numeric(modified_csv['Runtime'], errors='coerce')"
   ]
  },
  {
   "cell_type": "markdown",
   "metadata": {},
   "source": [
    "5. Format Standardization\n",
    "Runtime:\n",
    "Extract numeric values (e.g., \"100 mins\" → 100)\n",
    "Convert to integer and standardize to minutes\n",
    "Year:\n",
    "Remove \"(re-release)\" and other suffixes\n",
    "Convert to 4-digit integer (e.g., \"1998 Original\" → 1998)\n",
    "Votes:\n",
    "Remove commas and \"K\" abbreviations (e.g., \"1.5K\" → 1500)\n",
    "Convert to integer\n",
    "Meta_score:\n",
    "Remove \"/10\" suffix and convert to numeric\n",
    "Gross:\n",
    "Remove \"$\", \"USD\", and commas\n",
    "Convert to numeric (handle \"million\" as 1,000,000)"
   ]
  },
  {
   "cell_type": "code",
   "execution_count": 90,
   "metadata": {},
   "outputs": [
    {
     "data": {
      "text/plain": [
       "0     NaN\n",
       "1     NaN\n",
       "2     NaN\n",
       "3     NaN\n",
       "4     NaN\n",
       "       ..\n",
       "96    NaN\n",
       "97    NaN\n",
       "98    NaN\n",
       "99    NaN\n",
       "100   NaN\n",
       "Name: Gross, Length: 101, dtype: float64"
      ]
     },
     "execution_count": 90,
     "metadata": {},
     "output_type": "execute_result"
    }
   ],
   "source": [
    "modified_csv['Gross']=pd.to_numeric(modified_csv['Gross'],errors='coerce')\n",
    "modified_csv.loc[0:100,'Gross']"
   ]
  },
  {
   "cell_type": "code",
   "execution_count": 35,
   "metadata": {},
   "outputs": [
    {
     "data": {
      "text/plain": [
       "0      1994\n",
       "1      1972\n",
       "2      2008\n",
       "3      1974\n",
       "4      1957\n",
       "       ... \n",
       "995    1961\n",
       "996    1956\n",
       "997    1953\n",
       "998    1944\n",
       "999    1935\n",
       "Name: Released_Year, Length: 1000, dtype: object"
      ]
     },
     "execution_count": 35,
     "metadata": {},
     "output_type": "execute_result"
    }
   ],
   "source": [
    "import re\n",
    "modified_csv['Released_Year']=modified_csv['Released_Year'].str.extract(r'(\\d{4})')\n",
    "modified_csv['Released_Year']"
   ]
  },
  {
   "cell_type": "code",
   "execution_count": 37,
   "metadata": {},
   "outputs": [
    {
     "data": {
      "text/plain": [
       "0      1994.0\n",
       "1      1972.0\n",
       "2      2008.0\n",
       "3      1974.0\n",
       "4      1957.0\n",
       "        ...  \n",
       "995    1961.0\n",
       "996    1956.0\n",
       "997    1953.0\n",
       "998    1944.0\n",
       "999    1935.0\n",
       "Name: Released_Year, Length: 1000, dtype: float64"
      ]
     },
     "execution_count": 37,
     "metadata": {},
     "output_type": "execute_result"
    }
   ],
   "source": [
    "modified_csv['Released_Year']=pd.to_numeric(modified_csv['Released_Year'],errors='coerce')\n",
    "modified_csv['Released_Year']"
   ]
  },
  {
   "cell_type": "code",
   "execution_count": 44,
   "metadata": {},
   "outputs": [
    {
     "ename": "AttributeError",
     "evalue": "Can only use .str accessor with string values!",
     "output_type": "error",
     "traceback": [
      "\u001b[1;31m---------------------------------------------------------------------------\u001b[0m",
      "\u001b[1;31mAttributeError\u001b[0m                            Traceback (most recent call last)",
      "Cell \u001b[1;32mIn[44], line 1\u001b[0m\n\u001b[1;32m----> 1\u001b[0m modified_csv[\u001b[38;5;124m'\u001b[39m\u001b[38;5;124mNo_of_Votes\u001b[39m\u001b[38;5;124m'\u001b[39m]\u001b[38;5;241m=\u001b[39m\u001b[43mmodified_csv\u001b[49m\u001b[43m[\u001b[49m\u001b[38;5;124;43m'\u001b[39;49m\u001b[38;5;124;43mNo_of_Votes\u001b[39;49m\u001b[38;5;124;43m'\u001b[39;49m\u001b[43m]\u001b[49m\u001b[38;5;241;43m.\u001b[39;49m\u001b[43mstr\u001b[49m\u001b[38;5;241m.\u001b[39mreplace(\u001b[38;5;124m'\u001b[39m\u001b[38;5;124mK\u001b[39m\u001b[38;5;124m'\u001b[39m,\u001b[38;5;124m'\u001b[39m\u001b[38;5;124m000\u001b[39m\u001b[38;5;124m'\u001b[39m)\n\u001b[0;32m      2\u001b[0m \u001b[38;5;66;03m# removing words from votes\u001b[39;00m\n",
      "File \u001b[1;32m~\\AppData\\Local\\Programs\\Python\\Python313\\Lib\\site-packages\\pandas\\core\\generic.py:6299\u001b[0m, in \u001b[0;36mNDFrame.__getattr__\u001b[1;34m(self, name)\u001b[0m\n\u001b[0;32m   6292\u001b[0m \u001b[38;5;28;01mif\u001b[39;00m (\n\u001b[0;32m   6293\u001b[0m     name \u001b[38;5;129;01mnot\u001b[39;00m \u001b[38;5;129;01min\u001b[39;00m \u001b[38;5;28mself\u001b[39m\u001b[38;5;241m.\u001b[39m_internal_names_set\n\u001b[0;32m   6294\u001b[0m     \u001b[38;5;129;01mand\u001b[39;00m name \u001b[38;5;129;01mnot\u001b[39;00m \u001b[38;5;129;01min\u001b[39;00m \u001b[38;5;28mself\u001b[39m\u001b[38;5;241m.\u001b[39m_metadata\n\u001b[0;32m   6295\u001b[0m     \u001b[38;5;129;01mand\u001b[39;00m name \u001b[38;5;129;01mnot\u001b[39;00m \u001b[38;5;129;01min\u001b[39;00m \u001b[38;5;28mself\u001b[39m\u001b[38;5;241m.\u001b[39m_accessors\n\u001b[0;32m   6296\u001b[0m     \u001b[38;5;129;01mand\u001b[39;00m \u001b[38;5;28mself\u001b[39m\u001b[38;5;241m.\u001b[39m_info_axis\u001b[38;5;241m.\u001b[39m_can_hold_identifiers_and_holds_name(name)\n\u001b[0;32m   6297\u001b[0m ):\n\u001b[0;32m   6298\u001b[0m     \u001b[38;5;28;01mreturn\u001b[39;00m \u001b[38;5;28mself\u001b[39m[name]\n\u001b[1;32m-> 6299\u001b[0m \u001b[38;5;28;01mreturn\u001b[39;00m \u001b[38;5;28;43mobject\u001b[39;49m\u001b[38;5;241;43m.\u001b[39;49m\u001b[38;5;21;43m__getattribute__\u001b[39;49m\u001b[43m(\u001b[49m\u001b[38;5;28;43mself\u001b[39;49m\u001b[43m,\u001b[49m\u001b[43m \u001b[49m\u001b[43mname\u001b[49m\u001b[43m)\u001b[49m\n",
      "File \u001b[1;32m~\\AppData\\Local\\Programs\\Python\\Python313\\Lib\\site-packages\\pandas\\core\\accessor.py:224\u001b[0m, in \u001b[0;36mCachedAccessor.__get__\u001b[1;34m(self, obj, cls)\u001b[0m\n\u001b[0;32m    221\u001b[0m \u001b[38;5;28;01mif\u001b[39;00m obj \u001b[38;5;129;01mis\u001b[39;00m \u001b[38;5;28;01mNone\u001b[39;00m:\n\u001b[0;32m    222\u001b[0m     \u001b[38;5;66;03m# we're accessing the attribute of the class, i.e., Dataset.geo\u001b[39;00m\n\u001b[0;32m    223\u001b[0m     \u001b[38;5;28;01mreturn\u001b[39;00m \u001b[38;5;28mself\u001b[39m\u001b[38;5;241m.\u001b[39m_accessor\n\u001b[1;32m--> 224\u001b[0m accessor_obj \u001b[38;5;241m=\u001b[39m \u001b[38;5;28;43mself\u001b[39;49m\u001b[38;5;241;43m.\u001b[39;49m\u001b[43m_accessor\u001b[49m\u001b[43m(\u001b[49m\u001b[43mobj\u001b[49m\u001b[43m)\u001b[49m\n\u001b[0;32m    225\u001b[0m \u001b[38;5;66;03m# Replace the property with the accessor object. Inspired by:\u001b[39;00m\n\u001b[0;32m    226\u001b[0m \u001b[38;5;66;03m# https://www.pydanny.com/cached-property.html\u001b[39;00m\n\u001b[0;32m    227\u001b[0m \u001b[38;5;66;03m# We need to use object.__setattr__ because we overwrite __setattr__ on\u001b[39;00m\n\u001b[0;32m    228\u001b[0m \u001b[38;5;66;03m# NDFrame\u001b[39;00m\n\u001b[0;32m    229\u001b[0m \u001b[38;5;28mobject\u001b[39m\u001b[38;5;241m.\u001b[39m\u001b[38;5;21m__setattr__\u001b[39m(obj, \u001b[38;5;28mself\u001b[39m\u001b[38;5;241m.\u001b[39m_name, accessor_obj)\n",
      "File \u001b[1;32m~\\AppData\\Local\\Programs\\Python\\Python313\\Lib\\site-packages\\pandas\\core\\strings\\accessor.py:191\u001b[0m, in \u001b[0;36mStringMethods.__init__\u001b[1;34m(self, data)\u001b[0m\n\u001b[0;32m    188\u001b[0m \u001b[38;5;28;01mdef\u001b[39;00m\u001b[38;5;250m \u001b[39m\u001b[38;5;21m__init__\u001b[39m(\u001b[38;5;28mself\u001b[39m, data) \u001b[38;5;241m-\u001b[39m\u001b[38;5;241m>\u001b[39m \u001b[38;5;28;01mNone\u001b[39;00m:\n\u001b[0;32m    189\u001b[0m     \u001b[38;5;28;01mfrom\u001b[39;00m\u001b[38;5;250m \u001b[39m\u001b[38;5;21;01mpandas\u001b[39;00m\u001b[38;5;21;01m.\u001b[39;00m\u001b[38;5;21;01mcore\u001b[39;00m\u001b[38;5;21;01m.\u001b[39;00m\u001b[38;5;21;01marrays\u001b[39;00m\u001b[38;5;21;01m.\u001b[39;00m\u001b[38;5;21;01mstring_\u001b[39;00m\u001b[38;5;250m \u001b[39m\u001b[38;5;28;01mimport\u001b[39;00m StringDtype\n\u001b[1;32m--> 191\u001b[0m     \u001b[38;5;28mself\u001b[39m\u001b[38;5;241m.\u001b[39m_inferred_dtype \u001b[38;5;241m=\u001b[39m \u001b[38;5;28;43mself\u001b[39;49m\u001b[38;5;241;43m.\u001b[39;49m\u001b[43m_validate\u001b[49m\u001b[43m(\u001b[49m\u001b[43mdata\u001b[49m\u001b[43m)\u001b[49m\n\u001b[0;32m    192\u001b[0m     \u001b[38;5;28mself\u001b[39m\u001b[38;5;241m.\u001b[39m_is_categorical \u001b[38;5;241m=\u001b[39m \u001b[38;5;28misinstance\u001b[39m(data\u001b[38;5;241m.\u001b[39mdtype, CategoricalDtype)\n\u001b[0;32m    193\u001b[0m     \u001b[38;5;28mself\u001b[39m\u001b[38;5;241m.\u001b[39m_is_string \u001b[38;5;241m=\u001b[39m \u001b[38;5;28misinstance\u001b[39m(data\u001b[38;5;241m.\u001b[39mdtype, StringDtype)\n",
      "File \u001b[1;32m~\\AppData\\Local\\Programs\\Python\\Python313\\Lib\\site-packages\\pandas\\core\\strings\\accessor.py:245\u001b[0m, in \u001b[0;36mStringMethods._validate\u001b[1;34m(data)\u001b[0m\n\u001b[0;32m    242\u001b[0m inferred_dtype \u001b[38;5;241m=\u001b[39m lib\u001b[38;5;241m.\u001b[39minfer_dtype(values, skipna\u001b[38;5;241m=\u001b[39m\u001b[38;5;28;01mTrue\u001b[39;00m)\n\u001b[0;32m    244\u001b[0m \u001b[38;5;28;01mif\u001b[39;00m inferred_dtype \u001b[38;5;129;01mnot\u001b[39;00m \u001b[38;5;129;01min\u001b[39;00m allowed_types:\n\u001b[1;32m--> 245\u001b[0m     \u001b[38;5;28;01mraise\u001b[39;00m \u001b[38;5;167;01mAttributeError\u001b[39;00m(\u001b[38;5;124m\"\u001b[39m\u001b[38;5;124mCan only use .str accessor with string values!\u001b[39m\u001b[38;5;124m\"\u001b[39m)\n\u001b[0;32m    246\u001b[0m \u001b[38;5;28;01mreturn\u001b[39;00m inferred_dtype\n",
      "\u001b[1;31mAttributeError\u001b[0m: Can only use .str accessor with string values!"
     ]
    }
   ],
   "source": [
    "modified_csv['No_of_Votes']=modified_csv['No_of_Votes'].str.replace('K','000')\n",
    "# removing words from votes"
   ]
  },
  {
   "cell_type": "code",
   "execution_count": 46,
   "metadata": {},
   "outputs": [
    {
     "ename": "AttributeError",
     "evalue": "Can only use .str accessor with string values!",
     "output_type": "error",
     "traceback": [
      "\u001b[1;31m---------------------------------------------------------------------------\u001b[0m",
      "\u001b[1;31mAttributeError\u001b[0m                            Traceback (most recent call last)",
      "Cell \u001b[1;32mIn[46], line 1\u001b[0m\n\u001b[1;32m----> 1\u001b[0m modified_csv[\u001b[38;5;124m'\u001b[39m\u001b[38;5;124mNo_of_Votes\u001b[39m\u001b[38;5;124m'\u001b[39m]\u001b[38;5;241m=\u001b[39m\u001b[43mmodified_csv\u001b[49m\u001b[43m[\u001b[49m\u001b[38;5;124;43m'\u001b[39;49m\u001b[38;5;124;43mNo_of_Votes\u001b[39;49m\u001b[38;5;124;43m'\u001b[39;49m\u001b[43m]\u001b[49m\u001b[38;5;241;43m.\u001b[39;49m\u001b[43mstr\u001b[49m\u001b[38;5;241m.\u001b[39mreplace(\u001b[38;5;124m'\u001b[39m\u001b[38;5;124m,\u001b[39m\u001b[38;5;124m'\u001b[39m,\u001b[38;5;124m'\u001b[39m\u001b[38;5;124m'\u001b[39m,regex\u001b[38;5;241m=\u001b[39m\u001b[38;5;28;01mFalse\u001b[39;00m)\n\u001b[0;32m      2\u001b[0m \u001b[38;5;66;03m# removing  commas and replacing space from votes\u001b[39;00m\n",
      "File \u001b[1;32m~\\AppData\\Local\\Programs\\Python\\Python313\\Lib\\site-packages\\pandas\\core\\generic.py:6299\u001b[0m, in \u001b[0;36mNDFrame.__getattr__\u001b[1;34m(self, name)\u001b[0m\n\u001b[0;32m   6292\u001b[0m \u001b[38;5;28;01mif\u001b[39;00m (\n\u001b[0;32m   6293\u001b[0m     name \u001b[38;5;129;01mnot\u001b[39;00m \u001b[38;5;129;01min\u001b[39;00m \u001b[38;5;28mself\u001b[39m\u001b[38;5;241m.\u001b[39m_internal_names_set\n\u001b[0;32m   6294\u001b[0m     \u001b[38;5;129;01mand\u001b[39;00m name \u001b[38;5;129;01mnot\u001b[39;00m \u001b[38;5;129;01min\u001b[39;00m \u001b[38;5;28mself\u001b[39m\u001b[38;5;241m.\u001b[39m_metadata\n\u001b[0;32m   6295\u001b[0m     \u001b[38;5;129;01mand\u001b[39;00m name \u001b[38;5;129;01mnot\u001b[39;00m \u001b[38;5;129;01min\u001b[39;00m \u001b[38;5;28mself\u001b[39m\u001b[38;5;241m.\u001b[39m_accessors\n\u001b[0;32m   6296\u001b[0m     \u001b[38;5;129;01mand\u001b[39;00m \u001b[38;5;28mself\u001b[39m\u001b[38;5;241m.\u001b[39m_info_axis\u001b[38;5;241m.\u001b[39m_can_hold_identifiers_and_holds_name(name)\n\u001b[0;32m   6297\u001b[0m ):\n\u001b[0;32m   6298\u001b[0m     \u001b[38;5;28;01mreturn\u001b[39;00m \u001b[38;5;28mself\u001b[39m[name]\n\u001b[1;32m-> 6299\u001b[0m \u001b[38;5;28;01mreturn\u001b[39;00m \u001b[38;5;28;43mobject\u001b[39;49m\u001b[38;5;241;43m.\u001b[39;49m\u001b[38;5;21;43m__getattribute__\u001b[39;49m\u001b[43m(\u001b[49m\u001b[38;5;28;43mself\u001b[39;49m\u001b[43m,\u001b[49m\u001b[43m \u001b[49m\u001b[43mname\u001b[49m\u001b[43m)\u001b[49m\n",
      "File \u001b[1;32m~\\AppData\\Local\\Programs\\Python\\Python313\\Lib\\site-packages\\pandas\\core\\accessor.py:224\u001b[0m, in \u001b[0;36mCachedAccessor.__get__\u001b[1;34m(self, obj, cls)\u001b[0m\n\u001b[0;32m    221\u001b[0m \u001b[38;5;28;01mif\u001b[39;00m obj \u001b[38;5;129;01mis\u001b[39;00m \u001b[38;5;28;01mNone\u001b[39;00m:\n\u001b[0;32m    222\u001b[0m     \u001b[38;5;66;03m# we're accessing the attribute of the class, i.e., Dataset.geo\u001b[39;00m\n\u001b[0;32m    223\u001b[0m     \u001b[38;5;28;01mreturn\u001b[39;00m \u001b[38;5;28mself\u001b[39m\u001b[38;5;241m.\u001b[39m_accessor\n\u001b[1;32m--> 224\u001b[0m accessor_obj \u001b[38;5;241m=\u001b[39m \u001b[38;5;28;43mself\u001b[39;49m\u001b[38;5;241;43m.\u001b[39;49m\u001b[43m_accessor\u001b[49m\u001b[43m(\u001b[49m\u001b[43mobj\u001b[49m\u001b[43m)\u001b[49m\n\u001b[0;32m    225\u001b[0m \u001b[38;5;66;03m# Replace the property with the accessor object. Inspired by:\u001b[39;00m\n\u001b[0;32m    226\u001b[0m \u001b[38;5;66;03m# https://www.pydanny.com/cached-property.html\u001b[39;00m\n\u001b[0;32m    227\u001b[0m \u001b[38;5;66;03m# We need to use object.__setattr__ because we overwrite __setattr__ on\u001b[39;00m\n\u001b[0;32m    228\u001b[0m \u001b[38;5;66;03m# NDFrame\u001b[39;00m\n\u001b[0;32m    229\u001b[0m \u001b[38;5;28mobject\u001b[39m\u001b[38;5;241m.\u001b[39m\u001b[38;5;21m__setattr__\u001b[39m(obj, \u001b[38;5;28mself\u001b[39m\u001b[38;5;241m.\u001b[39m_name, accessor_obj)\n",
      "File \u001b[1;32m~\\AppData\\Local\\Programs\\Python\\Python313\\Lib\\site-packages\\pandas\\core\\strings\\accessor.py:191\u001b[0m, in \u001b[0;36mStringMethods.__init__\u001b[1;34m(self, data)\u001b[0m\n\u001b[0;32m    188\u001b[0m \u001b[38;5;28;01mdef\u001b[39;00m\u001b[38;5;250m \u001b[39m\u001b[38;5;21m__init__\u001b[39m(\u001b[38;5;28mself\u001b[39m, data) \u001b[38;5;241m-\u001b[39m\u001b[38;5;241m>\u001b[39m \u001b[38;5;28;01mNone\u001b[39;00m:\n\u001b[0;32m    189\u001b[0m     \u001b[38;5;28;01mfrom\u001b[39;00m\u001b[38;5;250m \u001b[39m\u001b[38;5;21;01mpandas\u001b[39;00m\u001b[38;5;21;01m.\u001b[39;00m\u001b[38;5;21;01mcore\u001b[39;00m\u001b[38;5;21;01m.\u001b[39;00m\u001b[38;5;21;01marrays\u001b[39;00m\u001b[38;5;21;01m.\u001b[39;00m\u001b[38;5;21;01mstring_\u001b[39;00m\u001b[38;5;250m \u001b[39m\u001b[38;5;28;01mimport\u001b[39;00m StringDtype\n\u001b[1;32m--> 191\u001b[0m     \u001b[38;5;28mself\u001b[39m\u001b[38;5;241m.\u001b[39m_inferred_dtype \u001b[38;5;241m=\u001b[39m \u001b[38;5;28;43mself\u001b[39;49m\u001b[38;5;241;43m.\u001b[39;49m\u001b[43m_validate\u001b[49m\u001b[43m(\u001b[49m\u001b[43mdata\u001b[49m\u001b[43m)\u001b[49m\n\u001b[0;32m    192\u001b[0m     \u001b[38;5;28mself\u001b[39m\u001b[38;5;241m.\u001b[39m_is_categorical \u001b[38;5;241m=\u001b[39m \u001b[38;5;28misinstance\u001b[39m(data\u001b[38;5;241m.\u001b[39mdtype, CategoricalDtype)\n\u001b[0;32m    193\u001b[0m     \u001b[38;5;28mself\u001b[39m\u001b[38;5;241m.\u001b[39m_is_string \u001b[38;5;241m=\u001b[39m \u001b[38;5;28misinstance\u001b[39m(data\u001b[38;5;241m.\u001b[39mdtype, StringDtype)\n",
      "File \u001b[1;32m~\\AppData\\Local\\Programs\\Python\\Python313\\Lib\\site-packages\\pandas\\core\\strings\\accessor.py:245\u001b[0m, in \u001b[0;36mStringMethods._validate\u001b[1;34m(data)\u001b[0m\n\u001b[0;32m    242\u001b[0m inferred_dtype \u001b[38;5;241m=\u001b[39m lib\u001b[38;5;241m.\u001b[39minfer_dtype(values, skipna\u001b[38;5;241m=\u001b[39m\u001b[38;5;28;01mTrue\u001b[39;00m)\n\u001b[0;32m    244\u001b[0m \u001b[38;5;28;01mif\u001b[39;00m inferred_dtype \u001b[38;5;129;01mnot\u001b[39;00m \u001b[38;5;129;01min\u001b[39;00m allowed_types:\n\u001b[1;32m--> 245\u001b[0m     \u001b[38;5;28;01mraise\u001b[39;00m \u001b[38;5;167;01mAttributeError\u001b[39;00m(\u001b[38;5;124m\"\u001b[39m\u001b[38;5;124mCan only use .str accessor with string values!\u001b[39m\u001b[38;5;124m\"\u001b[39m)\n\u001b[0;32m    246\u001b[0m \u001b[38;5;28;01mreturn\u001b[39;00m inferred_dtype\n",
      "\u001b[1;31mAttributeError\u001b[0m: Can only use .str accessor with string values!"
     ]
    }
   ],
   "source": [
    "modified_csv['No_of_Votes']=modified_csv['No_of_Votes'].str.replace(',','',regex=False)\n",
    "# removing  commas and replacing space from votes"
   ]
  },
  {
   "cell_type": "code",
   "execution_count": 54,
   "metadata": {},
   "outputs": [
    {
     "data": {
      "text/plain": [
       "0      2343110\n",
       "1      1620367\n",
       "2      2303232\n",
       "3      1129952\n",
       "4       689845\n",
       "        ...   \n",
       "995     166544\n",
       "996      34075\n",
       "997      43374\n",
       "998      26471\n",
       "999      51853\n",
       "Name: No_of_Votes, Length: 1000, dtype: int64"
      ]
     },
     "execution_count": 54,
     "metadata": {},
     "output_type": "execute_result"
    }
   ],
   "source": [
    "modified_csv['No_of_Votes']"
   ]
  },
  {
   "cell_type": "code",
   "execution_count": 43,
   "metadata": {},
   "outputs": [],
   "source": [
    "#coverting to interger\n",
    "modified_csv['No_of_Votes']=pd.to_numeric(modified_csv['No_of_Votes'],errors='coerce')"
   ]
  },
  {
   "cell_type": "code",
   "execution_count": 76,
   "metadata": {},
   "outputs": [],
   "source": [
    "modified_csv['Genre']=modified_csv['Genre'].str.title().replace('','')\n",
    "modified_csv['Genre']=modified_csv['Genre'].replace({'Drama':'Crime','Dr':'Drama','Comedyy':'Comedy','Action':'kelvin'\n",
    "    })"
   ]
  },
  {
   "cell_type": "code",
   "execution_count": 77,
   "metadata": {},
   "outputs": [
    {
     "data": {
      "text/plain": [
       "0                          Crime\n",
       "1                   Crime, Drama\n",
       "2           Action, Crime, Drama\n",
       "3                   Crime, Drama\n",
       "4                   Crime, Drama\n",
       "5       Action, Adventure, Drama\n",
       "6                   Crime, Drama\n",
       "7      Biography, Drama, History\n",
       "8      Action, Adventure, Sci-Fi\n",
       "9                          Crime\n",
       "10      Action, Adventure, Drama\n",
       "11                Drama, Romance\n",
       "12                       Western\n",
       "13      Action, Adventure, Drama\n",
       "14                Action, Sci-Fi\n",
       "15       Biography, Crime, Drama\n",
       "16    Action, Adventure, Fantasy\n",
       "17                         Crime\n",
       "18     Biography, Drama, History\n",
       "19       Comedy, Drama, Thriller\n",
       "20                         Crime\n",
       "Name: Genre, dtype: object"
      ]
     },
     "execution_count": 77,
     "metadata": {},
     "output_type": "execute_result"
    }
   ],
   "source": [
    "modified_csv.loc[0:20,'Genre']"
   ]
  },
  {
   "cell_type": "code",
   "execution_count": 95,
   "metadata": {},
   "outputs": [],
   "source": [
    "modified_csv['Certificate']=modified_csv['Certificate'].str.title().replace('','')\n",
    "modified_csv['Certificate']=modified_csv['Certificate'].replace({'A':'PG18'\n",
    "                                                                 ,'U':'unknown',\n",
    "                                                                 'Ua':'PG13',\n",
    "                                                                 ' ':'unknownn'\n",
    "    })\n",
    "modified_csv.to_csv('modified_imdb_top_1000.csv',index=False)"
   ]
  },
  {
   "cell_type": "code",
   "execution_count": 96,
   "metadata": {},
   "outputs": [
    {
     "data": {
      "text/plain": [
       "0         Pg18\n",
       "1         Pg18\n",
       "2         Pg13\n",
       "3         Pg18\n",
       "4      Unknown\n",
       "        ...   \n",
       "696         Pg\n",
       "697       Pg18\n",
       "698    Unknown\n",
       "699       Pg18\n",
       "700    Unknown\n",
       "Name: Certificate, Length: 701, dtype: object"
      ]
     },
     "execution_count": 96,
     "metadata": {},
     "output_type": "execute_result"
    }
   ],
   "source": [
    "modified_csv.loc[0:700,'Certificate']"
   ]
  },
  {
   "cell_type": "code",
   "execution_count": null,
   "metadata": {},
   "outputs": [],
   "source": [
    "8. Complex Pattern Handling\n",
    "Parse mixed-format runtimes (e.g., \"2h30m\" → 150)\n",
    "Handle currency conversions (e.g., \"€2.5M\" → 2,500,000)"
   ]
  },
  {
   "cell_type": "code",
   "execution_count": 93,
   "metadata": {},
   "outputs": [],
   "source": [
    "modified_csv['Runtime']=modified_csv['Runtime'].str.replace('M','000000')"
   ]
  },
  {
   "cell_type": "code",
   "execution_count": 94,
   "metadata": {},
   "outputs": [
    {
     "data": {
      "text/plain": [
       "0      142 min\n",
       "1      175 min\n",
       "2      152 min\n",
       "3      202 min\n",
       "4       96 min\n",
       "        ...   \n",
       "995    115 min\n",
       "996    201 min\n",
       "997    118 min\n",
       "998     97 min\n",
       "999     86 min\n",
       "Name: Runtime, Length: 1000, dtype: object"
      ]
     },
     "execution_count": 94,
     "metadata": {},
     "output_type": "execute_result"
    }
   ],
   "source": [
    "modified_csv.loc[0:1000,'Runtime']"
   ]
  },
  {
   "cell_type": "markdown",
   "metadata": {},
   "source": [
    "Year:\n",
    "Remove \"(re-release)\" and other suffixes\n",
    "Convert to 4-digit integer (e.g., \"1998 Original\" → 1998)\n",
    "Votes:\n",
    "Remove commas and \"K\" abbreviations (e.g., \"1.5K\" → 1500)\n",
    "Convert to integer\n",
    "Meta_score:"
   ]
  }
 ],
 "metadata": {
  "kernelspec": {
   "display_name": "Python 3 (ipykernel)",
   "language": "python",
   "name": "python3"
  },
  "language_info": {
   "codemirror_mode": {
    "name": "ipython",
    "version": 3
   },
   "file_extension": ".py",
   "mimetype": "text/x-python",
   "name": "python",
   "nbconvert_exporter": "python",
   "pygments_lexer": "ipython3",
   "version": "3.13.2"
  }
 },
 "nbformat": 4,
 "nbformat_minor": 4
}
