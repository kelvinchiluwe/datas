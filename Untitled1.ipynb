{
 "cells": [
  {
   "cell_type": "code",
   "execution_count": 1,
   "id": "03643459-cf8a-4964-8f40-4354b83737ed",
   "metadata": {},
   "outputs": [],
   "source": [
    "import pandas as pd\n",
    "import csv as csv\n",
    "import random\n",
    "with open('Banking_system_management.csv','w') as file:\n",
    "    fieldnames = ['Name', 'Email', 'Nationality', 'Gender', 'Phone','sourceOFMoney','Amount','NationalID_No','Account_number']\n",
    "    writer = csv.DictWriter(file, fieldnames=fieldnames)\n",
    "    writer.writeheader()"
   ]
  },
  {
   "cell_type": "code",
   "execution_count": 2,
   "id": "526540fa-270a-4825-b4e2-52eb818233f7",
   "metadata": {},
   "outputs": [],
   "source": [
    "def create_account():\n",
    "    while True:\n",
    "        name = input('Enter your full name:  ')\n",
    "        email = input('Type your email address:   ')\n",
    "        if not email.endswith('@gmail.com'):\n",
    "            print(\"Invalid email. Please ensure it ends with '@gmail.com'.\")\n",
    "            continue\n",
    "        nationality = input('Enter your country of origin:  ')\n",
    "        gender = input('Enter your gender:  ')\n",
    "        # account_number=0\n",
    "        account_number=random.randint(100000000,200000000)\n",
    "        # for account_number in account_numbe:\n",
    "        #     account_number +=1\n",
    "        # print(account_number)0\n",
    "        phone = input('Enter your phone:  ')\n",
    "        if not phone.isdigit() and not len(phone)>=10:\n",
    "            print('access denied!')\n",
    "            continue\n",
    "        sourceOFMoney=input('enter your source of money')\n",
    "        amount=float(input('enter amount you recieve each month: '))\n",
    "        if amount<100:\n",
    "            print('insufficient fund!')\n",
    "            break\n",
    "        nationalID_No=input('enter your national id number')\n",
    "        print(f'dear customer {name} your account number is {account_number}')\n",
    "    \n",
    "\n",
    "\n",
    "        \n",
    "        data = {'Name': name,'Email': email,'Nationality':nationality, 'Gender': gender, 'Phone': phone,'SourceOFMoney':sourceOFMoney, 'Amount':amount, 'NationalID_No':nationalID_No,'Account_number':account_number}\n",
    "        with open('Banking_system_management.csv','a') as file:\n",
    "            writer = csv.DictWriter(file,delimiter=',' ,fieldnames=data)\n",
    "            writer.writerow(data)\n",
    "            print(writer)\n",
    "        \n",
    "        break\n",
    "                \n",
    "            # if sex=='M':\n",
    "            #     print(f'Mr{name} your account has been created and your account number is {random_number}')\n",
    "            # elif sex=='F':\n",
    "            #     print(f'mrs {name} your account has been created  and your account number is {random_number}' )\n",
    "            # else:\n",
    "            #     print('enter appropriate information')\n",
    "        \n",
    "            #     continue"
   ]
  },
  {
   "cell_type": "code",
   "execution_count": 3,
   "id": "6634ffdc-8107-41fe-832e-1c022e8522bd",
   "metadata": {},
   "outputs": [],
   "source": [
    "def updating():\n",
    "        data=pd.read_csv('Banking_system_management.csv')\n",
    "        column_name_location=input('enter column name:   ')\n",
    "        column_valeu_lo=input('enter the value of column_name:   ')\n",
    "        column_name_t_update=input('enter the column name you want to update:  ')\n",
    "        value_of_name_t_update=input('enter what you want to replace:   ')\n",
    "        data.loc[data[column_name_location]==column_valeu_lo,column_name_t_update]=value_of_name_t_update\n",
    "        data.to_csv('Banking_system_management.csv',index=False)"
   ]
  },
  {
   "cell_type": "code",
   "execution_count": 4,
   "id": "492adb29-0bdd-4610-b5e6-81c9196b4995",
   "metadata": {},
   "outputs": [],
   "source": [
    "import pandas as pd\n",
    "\n",
    "def deposit():\n",
    "    # Load  or read the data from the CSV file\n",
    "    data = pd.read_csv('Banking_system_management.csv')\n",
    "    Name= input('Enter the account number you want to update: ')\n",
    "    deposit_amount =float(input('Enter the amount you want to deposit: '))\n",
    "    if deposit_amount<1:\n",
    "        print('you cant deposit money less than 1')\n",
    "    data.loc[data['Name'] ==Name, 'Amount'] += deposit_amount\n",
    "    print(f\"Successfully deposited {deposit_amount} to account {Name}.\")\n",
    "    # else:\n",
    "        # print(f\"{Name} not found.\")\n",
    "    \n",
    "    # Save the updated data back to the CSV file\n",
    "    data.to_csv('Banking_system_management.csv', index=False)\n",
    "    print(\"Data saved successfully.\")"
   ]
  },
  {
   "cell_type": "code",
   "execution_count": 5,
   "id": "ec28bb71-d7b6-4d43-b2f4-e52cedeaa58b",
   "metadata": {},
   "outputs": [
    {
     "ename": "IndentationError",
     "evalue": "unexpected indent (2951090899.py, line 2)",
     "output_type": "error",
     "traceback": [
      "  \u001b[36mCell\u001b[39m\u001b[36m \u001b[39m\u001b[32mIn[5]\u001b[39m\u001b[32m, line 2\u001b[39m\n\u001b[31m    \u001b[39m\u001b[31mdata=pd.read_csv('Banking_system_management.csv')\u001b[39m\n    ^\n\u001b[31mIndentationError\u001b[39m\u001b[31m:\u001b[39m unexpected indent\n"
     ]
    }
   ],
   "source": [
    "# def deposit():\n",
    "    data=pd.read_csv('Banking_system_management.csv')\n",
    "    Name=input('enter the account name :  ')\n",
    "    deposit_amount=float(input('enter amount you wanna deposit:  '))\n",
    "    if deposit_amount<1:\n",
    "      print('you cant deposit negative money!')\n",
    "    data.loc[data[\"Name\"]==Name,'Amount'] += deposit_amount\n",
    "    print('you have successfully deposited money')\n",
    "    data.to_csv('Banking_system_management.csv',index=False)\n",
    "    print('data saved')"
   ]
  },
  {
   "cell_type": "code",
   "execution_count": 6,
   "id": "50805286-df6c-46a4-ab66-b61c305d70e8",
   "metadata": {},
   "outputs": [],
   "source": [
    "import pandas as pd\n",
    "\n",
    "def withdrawal():\n",
    "    # Load  or read the data from the CSV file\n",
    "    data = pd.read_csv('Banking_system_management.csv')\n",
    "    Name= input('Enter the account number you want to update: ')\n",
    "    withdrawal_amount =float(input('Enter the amount you want to deposit: '))\n",
    "    if withdrawal_amount<=0:\n",
    "        print('insufficent fund!')\n",
    "    # if withdrawal_amount>'Amount':\n",
    "    #     print('its too high than your balance!')\n",
    "    data.loc[data['Name'] == Name, 'Amount'] -= withdrawal_amount\n",
    "    print(f\"Successfully deposited {withdrawal_amount} to account {Name}.\")\n",
    "    # else:\n",
    "        # print(f\"{Name} not found.\")\n",
    "    \n",
    "    # Save the updated data back to the CSV file\n",
    "    data.to_csv('Banking_system_management.csv', index=False)\n",
    "    print(\"Data saved successfully.\")"
   ]
  },
  {
   "cell_type": "code",
   "execution_count": 7,
   "id": "b5871c54-a5af-4272-9e72-741260417ed0",
   "metadata": {},
   "outputs": [
    {
     "ename": "IndentationError",
     "evalue": "unexpected indent (752153115.py, line 5)",
     "output_type": "error",
     "traceback": [
      "  \u001b[36mCell\u001b[39m\u001b[36m \u001b[39m\u001b[32mIn[7]\u001b[39m\u001b[32m, line 5\u001b[39m\n\u001b[31m    \u001b[39m\u001b[31mdata = pd.read_csv('Banking_system_management.csv')\u001b[39m\n    ^\n\u001b[31mIndentationError\u001b[39m\u001b[31m:\u001b[39m unexpected indent\n"
     ]
    }
   ],
   "source": [
    "import pandas as pd\n",
    "\n",
    "# def deposit():\n",
    "    # Load  or readthe data from the CSV file\n",
    "    data = pd.read_csv('Banking_system_management.csv')\n",
    "\n",
    "    # User input\n",
    "    Account_number= input('Enter the account number you want to update: ')\n",
    "    deposit_amount =float(input('Enter the amount you want to deposit: '))\n",
    "    data.loc[data['Account_number'] == Account_number, 'Amount'] += deposit_amount\n",
    "    print(f\"Successfully deposited {deposit_amount} to account {Account_number}.\")\n",
    "    # else:\n",
    "        # print(\"Account number not found.\")\n",
    "    \n",
    "    # Save the updated data back to the CSV file\n",
    "    data.to_csv('Banking_system_management.csv', index=False)\n",
    "    # print(\"Data saved successfully.\")\n",
    "\n",
    "# Run the function\n",
    "# deposit()\n"
   ]
  },
  {
   "cell_type": "code",
   "execution_count": 8,
   "id": "e7d8e7ce-0c63-4a9d-9c51-bf92d69d80f3",
   "metadata": {},
   "outputs": [],
   "source": [
    "import pandas as pd\n",
    "import csv as csv\n",
    "def view():\n",
    "    data=pd.read_csv('Banking_system_management.csv')\n",
    "    print(data)"
   ]
  },
  {
   "cell_type": "code",
   "execution_count": 9,
   "id": "93038ebb-1865-4928-ba37-fa329b926155",
   "metadata": {},
   "outputs": [],
   "source": [
    "def menu():\n",
    "     while True:\n",
    "         print('1.create account')\n",
    "         print('2.deposit')\n",
    "         print('3.view')\n",
    "         print('4.update')\n",
    "         print('5.withdrawal')\n",
    "         print('6.exit')\n",
    "         option=int(input('enter your option'))\n",
    "         if option==1:\n",
    "             create_account()\n",
    "         elif option==2:\n",
    "             deposit()\n",
    "         elif option==3:\n",
    "             view()\n",
    "         elif option==4:\n",
    "             updating()\n",
    "         elif option==5:\n",
    "             withdrawal()\n",
    "         elif option==6:\n",
    "             print('exit')\n",
    "             break"
   ]
  },
  {
   "cell_type": "code",
   "execution_count": null,
   "id": "2e6d790d-a9c4-429f-9a8f-610d78100712",
   "metadata": {},
   "outputs": [
    {
     "name": "stdout",
     "output_type": "stream",
     "text": [
      "1.create account\n",
      "2.deposit\n",
      "3.view\n",
      "4.update\n",
      "5.withdrawal\n",
      "6.exit\n"
     ]
    },
    {
     "name": "stdin",
     "output_type": "stream",
     "text": [
      "enter your option 1\n",
      "Enter your full name:   kelvin \n",
      "Type your email address:    kelvin@gmail.com\n"
     ]
    }
   ],
   "source": [
    "menu()"
   ]
  },
  {
   "cell_type": "code",
   "execution_count": null,
   "id": "aac1e7b0-5ad2-4d82-966d-432d1c7b2573",
   "metadata": {},
   "outputs": [],
   "source": []
  }
 ],
 "metadata": {
  "kernelspec": {
   "display_name": "Python 3 (ipykernel)",
   "language": "python",
   "name": "python3"
  },
  "language_info": {
   "codemirror_mode": {
    "name": "ipython",
    "version": 3
   },
   "file_extension": ".py",
   "mimetype": "text/x-python",
   "name": "python",
   "nbconvert_exporter": "python",
   "pygments_lexer": "ipython3",
   "version": "3.13.2"
  }
 },
 "nbformat": 4,
 "nbformat_minor": 5
}
