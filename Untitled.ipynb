{
 "cells": [
  {
   "cell_type": "code",
   "execution_count": 9,
   "id": "efbb6dc1-3ed2-4799-8f64-31664584b14e",
   "metadata": {},
   "outputs": [],
   "source": [
    "# searching information"
   ]
  },
  {
   "cell_type": "code",
   "execution_count": 1,
   "id": "e1a41e83-bc6e-4254-be5a-f8f61044dce2",
   "metadata": {},
   "outputs": [],
   "source": [
    "import pandas as pd"
   ]
  },
  {
   "cell_type": "code",
   "execution_count": 2,
   "id": "118fa040-2d89-4562-9621-856e06b87002",
   "metadata": {},
   "outputs": [
    {
     "data": {
      "text/html": [
       "<div>\n",
       "<style scoped>\n",
       "    .dataframe tbody tr th:only-of-type {\n",
       "        vertical-align: middle;\n",
       "    }\n",
       "\n",
       "    .dataframe tbody tr th {\n",
       "        vertical-align: top;\n",
       "    }\n",
       "\n",
       "    .dataframe thead th {\n",
       "        text-align: right;\n",
       "    }\n",
       "</style>\n",
       "<table border=\"1\" class=\"dataframe\">\n",
       "  <thead>\n",
       "    <tr style=\"text-align: right;\">\n",
       "      <th></th>\n",
       "      <th>First_Name</th>\n",
       "      <th>Gender</th>\n",
       "      <th>Start_Date</th>\n",
       "      <th>Last_Login_Time</th>\n",
       "      <th>Salary</th>\n",
       "      <th>Bonus_%</th>\n",
       "      <th>Senior_Management</th>\n",
       "      <th>Team</th>\n",
       "    </tr>\n",
       "  </thead>\n",
       "  <tbody>\n",
       "    <tr>\n",
       "      <th>26</th>\n",
       "      <td>Craig</td>\n",
       "      <td>Male</td>\n",
       "      <td>2/27/2000</td>\n",
       "      <td>7:45 AM</td>\n",
       "      <td>37598</td>\n",
       "      <td>7.757</td>\n",
       "      <td>True</td>\n",
       "      <td>Marketing</td>\n",
       "    </tr>\n",
       "  </tbody>\n",
       "</table>\n",
       "</div>"
      ],
      "text/plain": [
       "   First_Name Gender Start_Date Last_Login_Time  Salary  Bonus_%  \\\n",
       "26      Craig   Male  2/27/2000         7:45 AM   37598    7.757   \n",
       "\n",
       "   Senior_Management       Team  \n",
       "26              True  Marketing  "
      ]
     },
     "execution_count": 2,
     "metadata": {},
     "output_type": "execute_result"
    }
   ],
   "source": [
    "df=pd.read_csv('employees.csv')\n",
    "df.columns=[column.replace(' ','_') for column in df.columns]\n",
    "df.query('Senior_Management==True and Gender==\"Male\" and Salary<43455 and Team==\"Marketing\"',inplace=True)\n",
    "# and Gender==\"Male\" and Salary<43455 and Team==\"Marketing\"',inplace=True)\n",
    "df"
   ]
  },
  {
   "cell_type": "code",
   "execution_count": 3,
   "id": "99649b67-d072-48e8-a8f1-1f659faa90eb",
   "metadata": {},
   "outputs": [
    {
     "ename": "KeyError",
     "evalue": "10",
     "output_type": "error",
     "traceback": [
      "\u001b[1;31m---------------------------------------------------------------------------\u001b[0m",
      "\u001b[1;31mKeyError\u001b[0m                                  Traceback (most recent call last)",
      "File \u001b[1;32m~\\AppData\\Local\\Programs\\Python\\Python313\\Lib\\site-packages\\pandas\\core\\indexes\\base.py:3805\u001b[0m, in \u001b[0;36mIndex.get_loc\u001b[1;34m(self, key)\u001b[0m\n\u001b[0;32m   3804\u001b[0m \u001b[38;5;28;01mtry\u001b[39;00m:\n\u001b[1;32m-> 3805\u001b[0m     \u001b[38;5;28;01mreturn\u001b[39;00m \u001b[38;5;28;43mself\u001b[39;49m\u001b[38;5;241;43m.\u001b[39;49m\u001b[43m_engine\u001b[49m\u001b[38;5;241;43m.\u001b[39;49m\u001b[43mget_loc\u001b[49m\u001b[43m(\u001b[49m\u001b[43mcasted_key\u001b[49m\u001b[43m)\u001b[49m\n\u001b[0;32m   3806\u001b[0m \u001b[38;5;28;01mexcept\u001b[39;00m \u001b[38;5;167;01mKeyError\u001b[39;00m \u001b[38;5;28;01mas\u001b[39;00m err:\n",
      "File \u001b[1;32mindex.pyx:167\u001b[0m, in \u001b[0;36mpandas._libs.index.IndexEngine.get_loc\u001b[1;34m()\u001b[0m\n",
      "File \u001b[1;32mindex.pyx:196\u001b[0m, in \u001b[0;36mpandas._libs.index.IndexEngine.get_loc\u001b[1;34m()\u001b[0m\n",
      "File \u001b[1;32mpandas\\\\_libs\\\\hashtable_class_helper.pxi:2606\u001b[0m, in \u001b[0;36mpandas._libs.hashtable.Int64HashTable.get_item\u001b[1;34m()\u001b[0m\n",
      "File \u001b[1;32mpandas\\\\_libs\\\\hashtable_class_helper.pxi:2630\u001b[0m, in \u001b[0;36mpandas._libs.hashtable.Int64HashTable.get_item\u001b[1;34m()\u001b[0m\n",
      "\u001b[1;31mKeyError\u001b[0m: 10",
      "\nThe above exception was the direct cause of the following exception:\n",
      "\u001b[1;31mKeyError\u001b[0m                                  Traceback (most recent call last)",
      "Cell \u001b[1;32mIn[3], line 1\u001b[0m\n\u001b[1;32m----> 1\u001b[0m \u001b[43mdf\u001b[49m\u001b[38;5;241;43m.\u001b[39;49m\u001b[43mloc\u001b[49m\u001b[43m[\u001b[49m\u001b[38;5;241;43m10\u001b[39;49m\u001b[43m,\u001b[49m\u001b[43m[\u001b[49m\u001b[38;5;124;43m'\u001b[39;49m\u001b[38;5;124;43mStart_Date\u001b[39;49m\u001b[38;5;124;43m'\u001b[39;49m\u001b[43m,\u001b[49m\u001b[38;5;124;43m'\u001b[39;49m\u001b[38;5;124;43mGender\u001b[39;49m\u001b[38;5;124;43m'\u001b[39;49m\u001b[43m]\u001b[49m\u001b[43m]\u001b[49m\n",
      "File \u001b[1;32m~\\AppData\\Local\\Programs\\Python\\Python313\\Lib\\site-packages\\pandas\\core\\indexing.py:1184\u001b[0m, in \u001b[0;36m_LocationIndexer.__getitem__\u001b[1;34m(self, key)\u001b[0m\n\u001b[0;32m   1182\u001b[0m     \u001b[38;5;28;01mif\u001b[39;00m \u001b[38;5;28mself\u001b[39m\u001b[38;5;241m.\u001b[39m_is_scalar_access(key):\n\u001b[0;32m   1183\u001b[0m         \u001b[38;5;28;01mreturn\u001b[39;00m \u001b[38;5;28mself\u001b[39m\u001b[38;5;241m.\u001b[39mobj\u001b[38;5;241m.\u001b[39m_get_value(\u001b[38;5;241m*\u001b[39mkey, takeable\u001b[38;5;241m=\u001b[39m\u001b[38;5;28mself\u001b[39m\u001b[38;5;241m.\u001b[39m_takeable)\n\u001b[1;32m-> 1184\u001b[0m     \u001b[38;5;28;01mreturn\u001b[39;00m \u001b[38;5;28;43mself\u001b[39;49m\u001b[38;5;241;43m.\u001b[39;49m\u001b[43m_getitem_tuple\u001b[49m\u001b[43m(\u001b[49m\u001b[43mkey\u001b[49m\u001b[43m)\u001b[49m\n\u001b[0;32m   1185\u001b[0m \u001b[38;5;28;01melse\u001b[39;00m:\n\u001b[0;32m   1186\u001b[0m     \u001b[38;5;66;03m# we by definition only have the 0th axis\u001b[39;00m\n\u001b[0;32m   1187\u001b[0m     axis \u001b[38;5;241m=\u001b[39m \u001b[38;5;28mself\u001b[39m\u001b[38;5;241m.\u001b[39maxis \u001b[38;5;129;01mor\u001b[39;00m \u001b[38;5;241m0\u001b[39m\n",
      "File \u001b[1;32m~\\AppData\\Local\\Programs\\Python\\Python313\\Lib\\site-packages\\pandas\\core\\indexing.py:1368\u001b[0m, in \u001b[0;36m_LocIndexer._getitem_tuple\u001b[1;34m(self, tup)\u001b[0m\n\u001b[0;32m   1366\u001b[0m \u001b[38;5;28;01mwith\u001b[39;00m suppress(IndexingError):\n\u001b[0;32m   1367\u001b[0m     tup \u001b[38;5;241m=\u001b[39m \u001b[38;5;28mself\u001b[39m\u001b[38;5;241m.\u001b[39m_expand_ellipsis(tup)\n\u001b[1;32m-> 1368\u001b[0m     \u001b[38;5;28;01mreturn\u001b[39;00m \u001b[38;5;28;43mself\u001b[39;49m\u001b[38;5;241;43m.\u001b[39;49m\u001b[43m_getitem_lowerdim\u001b[49m\u001b[43m(\u001b[49m\u001b[43mtup\u001b[49m\u001b[43m)\u001b[49m\n\u001b[0;32m   1370\u001b[0m \u001b[38;5;66;03m# no multi-index, so validate all of the indexers\u001b[39;00m\n\u001b[0;32m   1371\u001b[0m tup \u001b[38;5;241m=\u001b[39m \u001b[38;5;28mself\u001b[39m\u001b[38;5;241m.\u001b[39m_validate_tuple_indexer(tup)\n",
      "File \u001b[1;32m~\\AppData\\Local\\Programs\\Python\\Python313\\Lib\\site-packages\\pandas\\core\\indexing.py:1065\u001b[0m, in \u001b[0;36m_LocationIndexer._getitem_lowerdim\u001b[1;34m(self, tup)\u001b[0m\n\u001b[0;32m   1061\u001b[0m \u001b[38;5;28;01mfor\u001b[39;00m i, key \u001b[38;5;129;01min\u001b[39;00m \u001b[38;5;28menumerate\u001b[39m(tup):\n\u001b[0;32m   1062\u001b[0m     \u001b[38;5;28;01mif\u001b[39;00m is_label_like(key):\n\u001b[0;32m   1063\u001b[0m         \u001b[38;5;66;03m# We don't need to check for tuples here because those are\u001b[39;00m\n\u001b[0;32m   1064\u001b[0m         \u001b[38;5;66;03m#  caught by the _is_nested_tuple_indexer check above.\u001b[39;00m\n\u001b[1;32m-> 1065\u001b[0m         section \u001b[38;5;241m=\u001b[39m \u001b[38;5;28;43mself\u001b[39;49m\u001b[38;5;241;43m.\u001b[39;49m\u001b[43m_getitem_axis\u001b[49m\u001b[43m(\u001b[49m\u001b[43mkey\u001b[49m\u001b[43m,\u001b[49m\u001b[43m \u001b[49m\u001b[43maxis\u001b[49m\u001b[38;5;241;43m=\u001b[39;49m\u001b[43mi\u001b[49m\u001b[43m)\u001b[49m\n\u001b[0;32m   1067\u001b[0m         \u001b[38;5;66;03m# We should never have a scalar section here, because\u001b[39;00m\n\u001b[0;32m   1068\u001b[0m         \u001b[38;5;66;03m#  _getitem_lowerdim is only called after a check for\u001b[39;00m\n\u001b[0;32m   1069\u001b[0m         \u001b[38;5;66;03m#  is_scalar_access, which that would be.\u001b[39;00m\n\u001b[0;32m   1070\u001b[0m         \u001b[38;5;28;01mif\u001b[39;00m section\u001b[38;5;241m.\u001b[39mndim \u001b[38;5;241m==\u001b[39m \u001b[38;5;28mself\u001b[39m\u001b[38;5;241m.\u001b[39mndim:\n\u001b[0;32m   1071\u001b[0m             \u001b[38;5;66;03m# we're in the middle of slicing through a MultiIndex\u001b[39;00m\n\u001b[0;32m   1072\u001b[0m             \u001b[38;5;66;03m# revise the key wrt to `section` by inserting an _NS\u001b[39;00m\n",
      "File \u001b[1;32m~\\AppData\\Local\\Programs\\Python\\Python313\\Lib\\site-packages\\pandas\\core\\indexing.py:1431\u001b[0m, in \u001b[0;36m_LocIndexer._getitem_axis\u001b[1;34m(self, key, axis)\u001b[0m\n\u001b[0;32m   1429\u001b[0m \u001b[38;5;66;03m# fall thru to straight lookup\u001b[39;00m\n\u001b[0;32m   1430\u001b[0m \u001b[38;5;28mself\u001b[39m\u001b[38;5;241m.\u001b[39m_validate_key(key, axis)\n\u001b[1;32m-> 1431\u001b[0m \u001b[38;5;28;01mreturn\u001b[39;00m \u001b[38;5;28;43mself\u001b[39;49m\u001b[38;5;241;43m.\u001b[39;49m\u001b[43m_get_label\u001b[49m\u001b[43m(\u001b[49m\u001b[43mkey\u001b[49m\u001b[43m,\u001b[49m\u001b[43m \u001b[49m\u001b[43maxis\u001b[49m\u001b[38;5;241;43m=\u001b[39;49m\u001b[43maxis\u001b[49m\u001b[43m)\u001b[49m\n",
      "File \u001b[1;32m~\\AppData\\Local\\Programs\\Python\\Python313\\Lib\\site-packages\\pandas\\core\\indexing.py:1381\u001b[0m, in \u001b[0;36m_LocIndexer._get_label\u001b[1;34m(self, label, axis)\u001b[0m\n\u001b[0;32m   1379\u001b[0m \u001b[38;5;28;01mdef\u001b[39;00m\u001b[38;5;250m \u001b[39m\u001b[38;5;21m_get_label\u001b[39m(\u001b[38;5;28mself\u001b[39m, label, axis: AxisInt):\n\u001b[0;32m   1380\u001b[0m     \u001b[38;5;66;03m# GH#5567 this will fail if the label is not present in the axis.\u001b[39;00m\n\u001b[1;32m-> 1381\u001b[0m     \u001b[38;5;28;01mreturn\u001b[39;00m \u001b[38;5;28;43mself\u001b[39;49m\u001b[38;5;241;43m.\u001b[39;49m\u001b[43mobj\u001b[49m\u001b[38;5;241;43m.\u001b[39;49m\u001b[43mxs\u001b[49m\u001b[43m(\u001b[49m\u001b[43mlabel\u001b[49m\u001b[43m,\u001b[49m\u001b[43m \u001b[49m\u001b[43maxis\u001b[49m\u001b[38;5;241;43m=\u001b[39;49m\u001b[43maxis\u001b[49m\u001b[43m)\u001b[49m\n",
      "File \u001b[1;32m~\\AppData\\Local\\Programs\\Python\\Python313\\Lib\\site-packages\\pandas\\core\\generic.py:4301\u001b[0m, in \u001b[0;36mNDFrame.xs\u001b[1;34m(self, key, axis, level, drop_level)\u001b[0m\n\u001b[0;32m   4299\u001b[0m             new_index \u001b[38;5;241m=\u001b[39m index[loc]\n\u001b[0;32m   4300\u001b[0m \u001b[38;5;28;01melse\u001b[39;00m:\n\u001b[1;32m-> 4301\u001b[0m     loc \u001b[38;5;241m=\u001b[39m \u001b[43mindex\u001b[49m\u001b[38;5;241;43m.\u001b[39;49m\u001b[43mget_loc\u001b[49m\u001b[43m(\u001b[49m\u001b[43mkey\u001b[49m\u001b[43m)\u001b[49m\n\u001b[0;32m   4303\u001b[0m     \u001b[38;5;28;01mif\u001b[39;00m \u001b[38;5;28misinstance\u001b[39m(loc, np\u001b[38;5;241m.\u001b[39mndarray):\n\u001b[0;32m   4304\u001b[0m         \u001b[38;5;28;01mif\u001b[39;00m loc\u001b[38;5;241m.\u001b[39mdtype \u001b[38;5;241m==\u001b[39m np\u001b[38;5;241m.\u001b[39mbool_:\n",
      "File \u001b[1;32m~\\AppData\\Local\\Programs\\Python\\Python313\\Lib\\site-packages\\pandas\\core\\indexes\\base.py:3812\u001b[0m, in \u001b[0;36mIndex.get_loc\u001b[1;34m(self, key)\u001b[0m\n\u001b[0;32m   3807\u001b[0m     \u001b[38;5;28;01mif\u001b[39;00m \u001b[38;5;28misinstance\u001b[39m(casted_key, \u001b[38;5;28mslice\u001b[39m) \u001b[38;5;129;01mor\u001b[39;00m (\n\u001b[0;32m   3808\u001b[0m         \u001b[38;5;28misinstance\u001b[39m(casted_key, abc\u001b[38;5;241m.\u001b[39mIterable)\n\u001b[0;32m   3809\u001b[0m         \u001b[38;5;129;01mand\u001b[39;00m \u001b[38;5;28many\u001b[39m(\u001b[38;5;28misinstance\u001b[39m(x, \u001b[38;5;28mslice\u001b[39m) \u001b[38;5;28;01mfor\u001b[39;00m x \u001b[38;5;129;01min\u001b[39;00m casted_key)\n\u001b[0;32m   3810\u001b[0m     ):\n\u001b[0;32m   3811\u001b[0m         \u001b[38;5;28;01mraise\u001b[39;00m InvalidIndexError(key)\n\u001b[1;32m-> 3812\u001b[0m     \u001b[38;5;28;01mraise\u001b[39;00m \u001b[38;5;167;01mKeyError\u001b[39;00m(key) \u001b[38;5;28;01mfrom\u001b[39;00m\u001b[38;5;250m \u001b[39m\u001b[38;5;21;01merr\u001b[39;00m\n\u001b[0;32m   3813\u001b[0m \u001b[38;5;28;01mexcept\u001b[39;00m \u001b[38;5;167;01mTypeError\u001b[39;00m:\n\u001b[0;32m   3814\u001b[0m     \u001b[38;5;66;03m# If we have a listlike key, _check_indexing_error will raise\u001b[39;00m\n\u001b[0;32m   3815\u001b[0m     \u001b[38;5;66;03m#  InvalidIndexError. Otherwise we fall through and re-raise\u001b[39;00m\n\u001b[0;32m   3816\u001b[0m     \u001b[38;5;66;03m#  the TypeError.\u001b[39;00m\n\u001b[0;32m   3817\u001b[0m     \u001b[38;5;28mself\u001b[39m\u001b[38;5;241m.\u001b[39m_check_indexing_error(key)\n",
      "\u001b[1;31mKeyError\u001b[0m: 10"
     ]
    }
   ],
   "source": [
    "df.loc[10,['Start_Date','Gender']]"
   ]
  },
  {
   "cell_type": "code",
   "execution_count": null,
   "id": "69d90e46-10d3-442e-a30d-8680c65e8365",
   "metadata": {},
   "outputs": [],
   "source": []
  },
  {
   "cell_type": "code",
   "execution_count": null,
   "id": "8fb9b9de-b9ee-4b72-af75-8aaae4e768bb",
   "metadata": {},
   "outputs": [],
   "source": [
    "query=input('enter')\n",
    "name=input('enter')\n",
    "df=pd.read_csv('employees.csv')\n",
    "df.columns=[column.replace(' ','_') for column in df.columns]\n",
    "df.query(f'{query}==\"{name}\"',inplace=True)\n",
    "df"
   ]
  },
  {
   "cell_type": "code",
   "execution_count": null,
   "id": "73a54b26-08de-4dbd-b427-b321fa15c34c",
   "metadata": {},
   "outputs": [],
   "source": []
  },
  {
   "cell_type": "code",
   "execution_count": null,
   "id": "e6bccbf2-4939-4938-afcc-4a047b5c30ba",
   "metadata": {},
   "outputs": [],
   "source": [
    "with open('headsample.csv','w') as file:\n",
    "   me=file.writelines('')\n",
    "   print(me)"
   ]
  },
  {
   "cell_type": "code",
   "execution_count": null,
   "id": "0a807eff-161f-4e6f-91a7-8c326421f673",
   "metadata": {},
   "outputs": [],
   "source": [
    "import pandas as pd\n",
    "import csv as csv\n",
    "header=['Full_name','Age','Nationality','Location','M_status','Phone']\n",
    "with open('head_sample.csv.xlsx','w') as file:\n",
    "    file_write=csv.DictWriter(file,delimiter=',', fieldnames=header)\n",
    "    file_write.writeheader()\n",
    "file_content=pd.read_csv('head_sample.csv.xlsx')\n",
    "file_content"
   ]
  },
  {
   "cell_type": "code",
   "execution_count": null,
   "id": "c2d10ea3-55dd-4d00-9910-613157a1c190",
   "metadata": {},
   "outputs": [],
   "source": [
    "data={}"
   ]
  },
  {
   "cell_type": "code",
   "execution_count": 20,
   "id": "fc9cbd1e-4c6d-4424-a913-b48098c6b659",
   "metadata": {},
   "outputs": [],
   "source": [
    "import csv\n",
    "import pandas as pd\n",
    "with open('personal_details.csv', 'w') as file:\n",
    "    fieldnames = ['Name', 'Age', 'Email', 'Location', 'Nationality', 'Gender', 'Phone', 'M_Status', 'Salary']\n",
    "    writer = csv.DictWriter(file, delimiter=',',fieldnames=fieldnames)\n",
    "    writer.writeheader()\n",
    "def add_details():    \n",
    "    while True:\n",
    "        Name = input('Enter your full name:  ')\n",
    "        age = input('Enter your age:  ')\n",
    "        if not age.isdigit():\n",
    "            print('access denied!')\n",
    "            continue\n",
    "        email = input('Type your email address:   ')\n",
    "        if not email.endswith('@gmail.com'):\n",
    "            print(\"Invalid email. Please ensure it ends with '@gmail.com'.\")\n",
    "            continue\n",
    "        location = input('Type your location:  ')\n",
    "        nationality = input('Enter your country of origin:  ')\n",
    "        gender = input('Enter your gender:  ')\n",
    "        # if gender!=Male or gender!=Female:\n",
    "        #     print('access denied!')\n",
    "        #     continue\n",
    "        phone = input('Enter your phone:  ')\n",
    "        if not phone.isdigit() and not len(phone)>10:\n",
    "            print('access denied!')\n",
    "            continue\n",
    "            \n",
    "        M_status = input('Enter your marital status:  ')\n",
    "        salary = input('Enter your monthly salary:   ')\n",
    "        \n",
    "\n",
    "\n",
    "        # Name = input('Enter your full name:  ')\n",
    "        # age = input('Enter your age:  ')\n",
    "        # email = input('Type your email address:   ')\n",
    "        # if not email.endswitch('@gmail.com'):\n",
    "        #         break\n",
    "        #         print('wrong')\n",
    "        # location = input('Type your location:  ')\n",
    "        # nationality = input('Enter your country of origin:  ')\n",
    "        # gender = input('Enter your gender:  ')\n",
    "        # phone = input('Enter your phone:  ')\n",
    "        # M_status = input('Enter your marital status:  ')\n",
    "        # salary = input('Enter your monthly salary:   ')\n",
    "        \n",
    "        # while True:\n",
    "        #     if email!=(f'{Name}@gmail.com'):\n",
    "        #         break\n",
    "        #     else:\n",
    "        #         print('wrong')\n",
    "        #    if age!=age.isdigit():\n",
    "        #        break\n",
    "        #    if email!=(f'{Name}@gmail.com'):\n",
    "        #        break\n",
    "            # if Gender!=M or Gender!=F:\n",
    "            #     break\n",
    "            # else:\n",
    "            #     print('wrong')\n",
    "        #        break\n",
    "        #    if salary<20000:\n",
    "        #        break\n",
    "           \n",
    "                   \n",
    "               \n",
    "\n",
    "\n",
    "        data = {'Name': Name, 'Age': age, 'Email': email, 'Location': location, 'Nationality': nationality, 'Gender': gender, 'Phone': phone, 'M_Status': M_status, 'Salary': salary}\n",
    "\n",
    "        with open('personal_details.csv', 'a') as file:\n",
    "                  # ,newline='') as file:\n",
    "            writer = csv.DictWriter(file,delimiter=',', fieldnames=data)\n",
    "            writer.writerow(data)\n",
    "            answer=input('do you want to continue?:   ')\n",
    "            if answer!='yes':\n",
    "                print('thank you!')\n",
    "                break\n",
    "            else:\n",
    "                continue\n",
    "                print('\\n==starting a new details===')\n"
   ]
  },
  {
   "cell_type": "code",
   "execution_count": 21,
   "id": "38049edd-474d-47aa-bfdd-68473ea45c7e",
   "metadata": {},
   "outputs": [],
   "source": [
    "def view_details():\n",
    "    df = pd.read_csv('personal_details.csv')\n",
    "    print(df)"
   ]
  },
  {
   "cell_type": "code",
   "execution_count": 22,
   "id": "f4fe782c-4a5e-4429-8b28-83ad592f9b65",
   "metadata": {},
   "outputs": [],
   "source": [
    "import pandas as pd\n",
    "def filtering():\n",
    "    column_name=input('enter what you want to filter:  ')\n",
    "    value=input('enter the value of column')\n",
    "    df=pd.read_csv('personal_details.csv')\n",
    "    df.columns=[column.replace(' ','_') for column in df.columns]\n",
    "    df.query(f\"{column_name}=='{value}'\",inplace=True)\n",
    "    print(df)\n",
    "    "
   ]
  },
  {
   "cell_type": "code",
   "execution_count": 23,
   "id": "614041ab-124b-40bf-bbac-a87cb0198348",
   "metadata": {},
   "outputs": [],
   "source": [
    "def delete():\n",
    "    column_name=input('enter what you want to delete:  ')\n",
    "    df=pd.read_csv('personal_details.csv')\n",
    "    df=df[df['Name'] != column_name]\n",
    "    df.to_csv('personal_details.csv',index=False)\n",
    "    print(f'you have deleted{column_name}')\n",
    "    \n",
    "    # value=input('enter the value of column')\n",
    "    # df=pd.read_csv('personal_details.csv')\n",
    "    # df.columns=[column.replace(' ','_') for column in df.columns]\n",
    "    # df.drop(f\"{column_name}=='{value}'\",inplace=True)"
   ]
  },
  {
   "cell_type": "code",
   "execution_count": 24,
   "id": "f2b6490b-07cc-4951-89c8-1de154b5fa57",
   "metadata": {},
   "outputs": [],
   "source": [
    "def removing_duplicate():\n",
    "    df=pd.read_csv('personal_details.csv')\n",
    "    df=df.drop_duplicates(subset='Name',keep='first')\n",
    "    df.to_csv('personal_details.csv',index=False)\n",
    "    print('1st duplicate removed')"
   ]
  },
  {
   "cell_type": "code",
   "execution_count": 25,
   "id": "4787dbe7-1efb-4a40-90df-058f4d2e35a8",
   "metadata": {},
   "outputs": [],
   "source": [
    "def updating():\n",
    "        data=pd.read_csv('personal_details.csv')\n",
    "        column_name_location=input('enter column name:   ')\n",
    "        column_valeu_lo=input('enter the value of column_name:   ')\n",
    "        column_name_t_update=input('enter the column name you want to update:  ')\n",
    "        value_of_name_t_update=input('enter what you want to replace:   ')\n",
    "        data.loc[data[column_name_location]==column_valeu_lo,column_name_t_update]=value_of_name_t_update\n",
    "        data.to_csv('personal_details.csv',index=False)\n",
    "        "
   ]
  },
  {
   "cell_type": "code",
   "execution_count": 26,
   "id": "ab069339-8606-457b-95b7-a252c528774c",
   "metadata": {},
   "outputs": [],
   "source": [
    "def menu():\n",
    "    while True:\n",
    "        print('\\n====enter your option====')\n",
    "        print('1.add personal details')\n",
    "        print('2.view personal details')\n",
    "        print('3.filter')\n",
    "        print('4.delete')\n",
    "        print('5.removing duplicate')\n",
    "        print('6.updating')\n",
    "        print('7.exit')\n",
    "        option=int(input('enter your option: '))\n",
    "        # if not option.isdigit():\n",
    "        #     option=int(option)\n",
    "        #     print('access denied!')\n",
    "        #     continue  \n",
    "        if option==1:\n",
    "            add_details()\n",
    "        elif option==2:\n",
    "            view_details()\n",
    "        elif option==3:\n",
    "            filtering()\n",
    "        elif option==4:\n",
    "            delete()\n",
    "        elif option==5:\n",
    "            removing_duplicate()\n",
    "        elif option==6:\n",
    "            updating()\n",
    "        elif option==7:\n",
    "            print('\\n==thank you for your time==')\n",
    "            break\n",
    "            \n",
    "            "
   ]
  },
  {
   "cell_type": "code",
   "execution_count": null,
   "id": "d2bd3722-84d3-4f8a-9910-eefc2ef877ff",
   "metadata": {},
   "outputs": [
    {
     "name": "stdout",
     "output_type": "stream",
     "text": [
      "\n",
      "====enter your option====\n",
      "1.add personal details\n",
      "2.view personal details\n",
      "3.filter\n",
      "4.delete\n",
      "5.removing duplicate\n",
      "6.updating\n",
      "7.exit\n"
     ]
    },
    {
     "name": "stdin",
     "output_type": "stream",
     "text": [
      "enter your option:  1\n",
      "Enter your full name:   w\n",
      "Enter your age:   12\n",
      "Type your email address:    q@gmail.com\n",
      "Type your location:   m\n",
      "Enter your country of origin:   m\n",
      "Enter your gender:   m\n",
      "Enter your phone:   9999999999999\n",
      "Enter your marital status:   s\n",
      "Enter your monthly salary:    2222222222222\n",
      "do you want to continue?:    n\n"
     ]
    },
    {
     "name": "stdout",
     "output_type": "stream",
     "text": [
      "thank you!\n",
      "\n",
      "====enter your option====\n",
      "1.add personal details\n",
      "2.view personal details\n",
      "3.filter\n",
      "4.delete\n",
      "5.removing duplicate\n",
      "6.updating\n",
      "7.exit\n"
     ]
    },
    {
     "name": "stdin",
     "output_type": "stream",
     "text": [
      "enter your option:  2\n"
     ]
    },
    {
     "name": "stdout",
     "output_type": "stream",
     "text": [
      "  Name  Age        Email Location Nationality Gender          Phone M_Status  \\\n",
      "0    w   12  q@gmail.com        m           m      m  9999999999999        s   \n",
      "\n",
      "          Salary  \n",
      "0  2222222222222  \n",
      "\n",
      "====enter your option====\n",
      "1.add personal details\n",
      "2.view personal details\n",
      "3.filter\n",
      "4.delete\n",
      "5.removing duplicate\n",
      "6.updating\n",
      "7.exit\n"
     ]
    },
    {
     "name": "stdin",
     "output_type": "stream",
     "text": [
      "enter your option:  6\n",
      "enter column name:    Name\n",
      "enter the value of column_name:    w\n",
      "enter the column name you want to update:   Age\n",
      "enter what you want to replace:    24\n"
     ]
    },
    {
     "name": "stderr",
     "output_type": "stream",
     "text": [
      "C:\\Users\\Student.DESK-13\\AppData\\Local\\Temp\\ipykernel_7536\\1596503152.py:7: FutureWarning: Setting an item of incompatible dtype is deprecated and will raise an error in a future version of pandas. Value '24' has dtype incompatible with int64, please explicitly cast to a compatible dtype first.\n",
      "  data.loc[data[column_name_location]==column_valeu_lo,column_name_t_update]=value_of_name_t_update\n"
     ]
    },
    {
     "name": "stdout",
     "output_type": "stream",
     "text": [
      "  Name Age        Email Location Nationality Gender          Phone M_Status  \\\n",
      "0    w  24  q@gmail.com        m           m      m  9999999999999        s   \n",
      "\n",
      "          Salary  \n",
      "0  2222222222222  \n",
      "\n",
      "====enter your option====\n",
      "1.add personal details\n",
      "2.view personal details\n",
      "3.filter\n",
      "4.delete\n",
      "5.removing duplicate\n",
      "6.updating\n",
      "7.exit\n"
     ]
    }
   ],
   "source": [
    "menu()"
   ]
  },
  {
   "cell_type": "code",
   "execution_count": null,
   "id": "1390510b-bc0f-4b72-a0f8-9fddb93c13b0",
   "metadata": {},
   "outputs": [],
   "source": [
    "# import pandas as pd\n",
    "# def filtering():\n",
    "#     column_name=input('enter what you want to filter:  ')\n",
    "#     value=input('enter the value of column')\n",
    "#     df=pd.read_csv('personal_details.csv')\n",
    "#     df.columns=[column.replace(' ','_') for column in df.columns]\n",
    "#     df.query(f\"{column_name}=='{value}'\",inplace=True)\n",
    "#     df\n",
    "    "
   ]
  },
  {
   "cell_type": "code",
   "execution_count": 49,
   "id": "73931ee1-f785-4b3b-8c70-628a9a69ca49",
   "metadata": {},
   "outputs": [],
   "source": [
    "import csv\n",
    "import pandas as pd\n",
    "\n",
    "class addi_details():\n",
    "    def __init__(self):\n",
    "        with open('personal_details.csv', 'w') as file:\n",
    "            fieldnames = ['Name', 'Age', 'Email', 'Location', 'Nationality', 'Gender', 'Phone', 'M_Status', 'Salary']\n",
    "            writer = csv.DictWriter(file, fieldnames=fieldnames)\n",
    "            writer.writeheader()\n",
    "    def add_details(self):\n",
    "        while True:\n",
    "            Name = input('Enter your full name:  ')\n",
    "            age = input('Enter your age:  ')\n",
    "            if not age.isdigit():\n",
    "                print('access denied!')\n",
    "                continue\n",
    "            email = input('Type your email address:   ')\n",
    "            if not email.endswith('@gmail.com'):\n",
    "                print(\"Invalid email. Please ensure it ends with '@gmail.com'.\")\n",
    "                continue\n",
    "            location = input('Type your location:  ')\n",
    "            nationality = input('Enter your country of origin:  ')\n",
    "            gender = input('Enter your gender:  ')\n",
    "            # if gender!=Male or gender!=Female:\n",
    "            #     print('access denied!')\n",
    "            #     continue\n",
    "            phone = input('Enter your phone:  ')\n",
    "            if not phone.isdigit() and not len(phone)>10:\n",
    "                print('access denied!')\n",
    "                continue\n",
    "            \n",
    "            M_status = input('Enter your marital status:  ')\n",
    "            salary = input('Enter your monthly salary:   ')\n",
    "            data = {'Name': Name, 'Age': age, 'Email': email, 'Location': location, 'Nationality': nationality, 'Gender': gender, 'Phone': phone, 'M_Status': M_status, 'Salary': salary}\n",
    "\n",
    "            with open('personal_details.csv', 'a') as file:\n",
    "                  # ,newline='') as file:\n",
    "                writer = csv.DictWriter(file, fieldnames=data)\n",
    "                writer.writerow(data)\n",
    "                answer=input('do you want to continue?:   ')\n",
    "                if answer!='yes':\n",
    "                    print('thank you!')\n",
    "                    break\n",
    "                else:\n",
    "                    continue\n",
    "                    print('\\n==starting a new details===')\n"
   ]
  },
  {
   "cell_type": "code",
   "execution_count": null,
   "id": "7be8114e-03b4-41ff-88db-29516af14f35",
   "metadata": {},
   "outputs": [],
   "source": [
    "def updating(self):\n",
    "        column_name_location=input('enter column name:   ')\n",
    "        column_valeu_lo=input('enter the value of column_name:   ')\n",
    "        column_name_t_update=input('enter the column name you want to update:  ')\n",
    "        value_of_name_t_update=input('enter what you want to replace:   ')\n",
    "        update=data.loc[data['column_name_location']=='column_valeu_lo','column_name_t_update']='value_of _name_t_update'\n",
    "        print(update)\n",
    "        "
   ]
  },
  {
   "cell_type": "code",
   "execution_count": 50,
   "id": "98d574c3-e122-4ef4-9d9f-9e773b99df2d",
   "metadata": {},
   "outputs": [],
   "source": [
    "class view_detail:\n",
    "    def __init__(self):\n",
    "        with open('personal_details.csv','r') as file:\n",
    "            pd=file\n",
    "\n",
    "        \n",
    "    def view_details(self):\n",
    "        df = pd.read_csv('personal_details.csv')\n",
    "        print(df)"
   ]
  },
  {
   "cell_type": "code",
   "execution_count": 51,
   "id": "d1b6ac64-2a43-49c6-bbae-3f7d0c5e3ce9",
   "metadata": {},
   "outputs": [],
   "source": [
    "class filters:\n",
    "    def __init__(self):\n",
    "        with open('personal_details.csv','r') as file:\n",
    "            pd=file\n",
    "\n",
    "    def filtering(file):\n",
    "        column_name=input('enter what you want to filter:  ')\n",
    "        value=input('enter the value of column')\n",
    "        df=pd.read_csv('personal_details.csv')\n",
    "        df.columns=[column.replace(' ','_') for column in df.columns]\n",
    "        df.query(f\"{column_name}=='{value}'\",inplace=True)\n",
    "        print(df)"
   ]
  },
  {
   "cell_type": "code",
   "execution_count": 52,
   "id": "0a0fcf0d-f9b9-429f-9bfc-b7dead838af8",
   "metadata": {},
   "outputs": [],
   "source": [
    "class dele():\n",
    "    def __init__(self):\n",
    "        with open('personal_details.csv','r') as file:\n",
    "            pd=file\n",
    "    def delete(self):\n",
    "        column_name=input('enter what you want to delete:  ')\n",
    "        df=pd.read_csv('personal_details.csv')\n",
    "        df=df[df['Name'] != column_name]\n",
    "        df.to_csv('personal_details.csv',index=False)\n",
    "        print(f'you have deleted{column_name}')"
   ]
  },
  {
   "cell_type": "code",
   "execution_count": 53,
   "id": "fbef49eb-e8cc-43de-a098-57dc6c935720",
   "metadata": {},
   "outputs": [],
   "source": [
    "class remove_duplicate:\n",
    "    def __init__(self):\n",
    "        with open('personal_details.csv','r') as file:\n",
    "            pd=file\n",
    "    \n",
    "\n",
    "    def removing_duplicate(self):\n",
    "        df=pd.read_csv('personal_details.csv')\n",
    "        df=df.drop_duplicates(subset='Name',keep='first')\n",
    "        df.to_csv('personal_details.csv',index=False)\n",
    "        print('1st duplicate removed')"
   ]
  },
  {
   "cell_type": "code",
   "execution_count": 54,
   "id": "1fa0680b-705c-4aa5-9d3e-ed5ba66ad3cd",
   "metadata": {},
   "outputs": [],
   "source": [
    "class update:\n",
    "    def __init__(self):\n",
    "        with open('personal_details.csv','r') as file:\n",
    "            pd=file\n",
    "    def updating(self):\n",
    "        column_name_location=input('enter column name:   ')\n",
    "        column_valeu_lo=input('enter the value of column_name:   ')\n",
    "        column_name_t_update=input('enter the column name you want to update:  ')\n",
    "        value_of_name_t_update=input('enter what you want to replace:   ')\n",
    "        update=data.loc[data['column_name_location']=='column_valeu_lo','column_name_t_update']='value_of _name_t_update'\n",
    "        print(update)\n",
    "        \n",
    "        "
   ]
  },
  {
   "cell_type": "code",
   "execution_count": 55,
   "id": "ef88c314-9282-4fb6-a6b4-efba0a13301e",
   "metadata": {},
   "outputs": [
    {
     "name": "stdin",
     "output_type": "stream",
     "text": [
      "enter column name:    Name\n",
      "enter the value of column_name:    kelvin\n",
      "enter the column name you want to update:   Name\n",
      "enter what you want to replace:    k\n"
     ]
    },
    {
     "ename": "NameError",
     "evalue": "name 'data' is not defined",
     "output_type": "error",
     "traceback": [
      "\u001b[1;31m---------------------------------------------------------------------------\u001b[0m",
      "\u001b[1;31mNameError\u001b[0m                                 Traceback (most recent call last)",
      "Cell \u001b[1;32mIn[55], line 2\u001b[0m\n\u001b[0;32m      1\u001b[0m m\u001b[38;5;241m=\u001b[39mupdate()\n\u001b[1;32m----> 2\u001b[0m \u001b[43mm\u001b[49m\u001b[38;5;241;43m.\u001b[39;49m\u001b[43mupdating\u001b[49m\u001b[43m(\u001b[49m\u001b[43m)\u001b[49m\n",
      "Cell \u001b[1;32mIn[54], line 10\u001b[0m, in \u001b[0;36mupdate.updating\u001b[1;34m(self)\u001b[0m\n\u001b[0;32m      8\u001b[0m column_name_t_update\u001b[38;5;241m=\u001b[39m\u001b[38;5;28minput\u001b[39m(\u001b[38;5;124m'\u001b[39m\u001b[38;5;124menter the column name you want to update:  \u001b[39m\u001b[38;5;124m'\u001b[39m)\n\u001b[0;32m      9\u001b[0m value_of_name_t_update\u001b[38;5;241m=\u001b[39m\u001b[38;5;28minput\u001b[39m(\u001b[38;5;124m'\u001b[39m\u001b[38;5;124menter what you want to replace:   \u001b[39m\u001b[38;5;124m'\u001b[39m)\n\u001b[1;32m---> 10\u001b[0m update\u001b[38;5;241m=\u001b[39m\u001b[43mdata\u001b[49m\u001b[38;5;241m.\u001b[39mloc[data[\u001b[38;5;124m'\u001b[39m\u001b[38;5;124mcolumn_name_location\u001b[39m\u001b[38;5;124m'\u001b[39m]\u001b[38;5;241m==\u001b[39m\u001b[38;5;124m'\u001b[39m\u001b[38;5;124mcolumn_valeu_lo\u001b[39m\u001b[38;5;124m'\u001b[39m,\u001b[38;5;124m'\u001b[39m\u001b[38;5;124mcolumn_name_t_update\u001b[39m\u001b[38;5;124m'\u001b[39m]\u001b[38;5;241m=\u001b[39m\u001b[38;5;124m'\u001b[39m\u001b[38;5;124mvalue_of _name_t_update\u001b[39m\u001b[38;5;124m'\u001b[39m\n\u001b[0;32m     11\u001b[0m \u001b[38;5;28mprint\u001b[39m(update)\n",
      "\u001b[1;31mNameError\u001b[0m: name 'data' is not defined"
     ]
    }
   ],
   "source": [
    "m=update()\n",
    "m.updating()"
   ]
  },
  {
   "cell_type": "code",
   "execution_count": null,
   "id": "a64cd1b5-f40f-4e94-8f8f-9ef71a628969",
   "metadata": {},
   "outputs": [],
   "source": [
    "def menu():\n",
    "    while True:\n",
    "        print('\\n====enter your option====')\n",
    "        print('1.add personal details')\n",
    "        print('2.view personal details')\n",
    "        print('3.filter')\n",
    "        print('4.delete')\n",
    "        print('5.removing duplicate')\n",
    "        print('6.exit')\n",
    "        option=input('enter your option: ')\n",
    "        if not option.isdigit():\n",
    "            option=int(option)\n",
    "            print('access denied!')\n",
    "            continue  \n",
    "        if option==1:\n",
    "            i=addi_details()\n",
    "            i.add_details()\n",
    "        elif option==2:\n",
    "            j=view_detail()\n",
    "            j.view_details()\n",
    "        elif option==3:\n",
    "            k=filters()\n",
    "            k.filtering()\n",
    "        elif option==4:\n",
    "            d=dele()\n",
    "            d.delete()\n",
    "        elif option==5:\n",
    "            g=remove_duplicate()\n",
    "            g.removing_duplicate()\n",
    "        elif option==6:\n",
    "            print('\\n==thank you for your time==')\n",
    "            break"
   ]
  }
 ],
 "metadata": {
  "kernelspec": {
   "display_name": "Python 3 (ipykernel)",
   "language": "python",
   "name": "python3"
  },
  "language_info": {
   "codemirror_mode": {
    "name": "ipython",
    "version": 3
   },
   "file_extension": ".py",
   "mimetype": "text/x-python",
   "name": "python",
   "nbconvert_exporter": "python",
   "pygments_lexer": "ipython3",
   "version": "3.13.2"
  }
 },
 "nbformat": 4,
 "nbformat_minor": 5
}
