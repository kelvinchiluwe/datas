{
 "cells": [
  {
   "cell_type": "code",
   "execution_count": 8,
   "id": "a93708a2-2c39-4520-adba-e872263bd666",
   "metadata": {},
   "outputs": [],
   "source": [
    "import csv\n",
    "import pandas as pd\n",
    "\n",
    "\n",
    "\n",
    "\n",
    "\n",
    "\n",
    "\n",
    "with open('personal_details.csv', 'w') as file:\n",
    "    fieldnames = ['Name', 'Age', 'Email', 'Location', 'Nationality', 'Gender', 'Phone', 'M_Status', 'Salary']\n",
    "    writer = csv.DictWriter(file, fieldnames=fieldnames)\n",
    "    writer.writeheader()\n",
    "\n",
    "\n",
    "\n",
    "def add_details():    \n",
    "    while True:\n",
    "        Name = input('Enter your full name:  ')\n",
    "        age = input('Enter your age:  ')\n",
    "        if not age.isdigit():\n",
    "            print('access denied!')\n",
    "            continue\n",
    "        email = input('Type your email address:   ')\n",
    "        if not email.endswith('@gmail.com'):\n",
    "            print(\"Invalid email. Please ensure it ends with '@gmail.com'.\")\n",
    "            continue\n",
    "        location = input('Type your location:  ')\n",
    "        nationality = input('Enter your country of origin:  ')\n",
    "        gender = input('Enter your gender:  ')\n",
    "        # if not gender!=Male or gender!=Female:\n",
    "        #     print('access denied!')\n",
    "        #     continue\n",
    "        phone = input('Enter your phone:  ')\n",
    "        if not phone.isdigit() and not len(phone)>10:\n",
    "            print('access denied!')\n",
    "            continue\n",
    "            \n",
    "        M_status = input('Enter your marital status:  ')\n",
    "        salary = input('Enter your monthly salary:   ')\n",
    "        \n",
    "\n",
    "\n",
    "        data = {'Name': Name, 'Age': age, 'Email': email, 'Location': location, 'Nationality': nationality, 'Gender': gender, 'Phone': phone, 'M_Status': M_status, 'Salary': salary}\n",
    "\n",
    "        with open('personal_details.csv', 'a') as file:\n",
    "                  # ,newline='') as file:\n",
    "            writer = csv.DictWriter(file, fieldnames=data)\n",
    "            writer.writerow(data)\n",
    "            answer=input('do you want to continue?:   ')\n",
    "            if answer!='yes':\n",
    "                print('thank you!')\n",
    "                break\n",
    "            else:\n",
    "                continue\n",
    "                print('\\n==starting a new details===')"
   ]
  },
  {
   "cell_type": "code",
   "execution_count": 9,
   "id": "c4142c3e-c891-415d-9eb3-5346e998a846",
   "metadata": {},
   "outputs": [],
   "source": [
    "def view_details():\n",
    "    df = pd.read_csv('personal_details.csv')\n",
    "    print(df)"
   ]
  },
  {
   "cell_type": "code",
   "execution_count": 10,
   "id": "926547e4-b509-4688-a105-977b5a4dfac2",
   "metadata": {},
   "outputs": [],
   "source": [
    "import pandas as pd\n",
    "def filtering():\n",
    "    column_name=input('enter what you want to filter:  ')\n",
    "    value=input('enter the value of column')\n",
    "    df=pd.read_csv('personal_details.csv')\n",
    "    df.columns=[column.replace(' ','_') for column in df.columns]\n",
    "    df.query(f\"{column_name}=='{value}'\",inplace=True)\n",
    "    print(df)"
   ]
  },
  {
   "cell_type": "code",
   "execution_count": 11,
   "id": "0438e114-db35-4512-a462-f9ab4302ef87",
   "metadata": {},
   "outputs": [],
   "source": [
    "def delete():\n",
    "    column_name=input('enter what you want to delete:  ')\n",
    "    df=pd.read_csv('personal_details.csv')\n",
    "    df=df[df['Name'] != column_name]\n",
    "    df.to_csv('personal_details.csv',index=False)\n",
    "    print(f'you have deleted{column_name}')"
   ]
  },
  {
   "cell_type": "code",
   "execution_count": 12,
   "id": "e6f55f9c-326c-4fe7-8ee1-df62aefca4fa",
   "metadata": {},
   "outputs": [],
   "source": [
    "def removing_duplicate():\n",
    "    df=pd.read_csv('personal_details.csv')\n",
    "    df=df.drop_duplicates(subset='Name',keep='first')\n",
    "    df.to_csv('personal_details.csv',index=False)\n",
    "    print('1st duplicate removed')"
   ]
  },
  {
   "cell_type": "code",
   "execution_count": 13,
   "id": "7b6fc86f-5067-4b15-ac58-759eb498f34e",
   "metadata": {},
   "outputs": [],
   "source": [
    "def menu():\n",
    "    while True:\n",
    "        print('\\n====enter your option====')\n",
    "        print('1.add personal details')\n",
    "        print('2.view personal details')\n",
    "        print('3.filter')\n",
    "        print('4.delete')\n",
    "        print('5.removing duplicate')\n",
    "        print('6.exit')\n",
    "        option=int(input('enter your option: '))\n",
    "        # option!=option.isdigit()\n",
    "        # break\n",
    "           \n",
    "        if option==1:\n",
    "            add_details()\n",
    "        elif option==2:\n",
    "            view_details()\n",
    "        elif option==3:\n",
    "            filtering()\n",
    "        elif option==4:\n",
    "            delete()\n",
    "        elif option==5:\n",
    "            removing_duplicate()\n",
    "        elif option==6:\n",
    "            print('\\n==thank you for your time==')\n",
    "            break"
   ]
  },
  {
   "cell_type": "code",
   "execution_count": 15,
   "id": "3cb987e9-2981-4eca-b521-18a8fe841eae",
   "metadata": {},
   "outputs": [
    {
     "name": "stdout",
     "output_type": "stream",
     "text": [
      "\n",
      "====enter your option====\n",
      "1.add personal details\n",
      "2.view personal details\n",
      "3.filter\n",
      "4.delete\n",
      "5.removing duplicate\n",
      "6.exit\n"
     ]
    },
    {
     "name": "stdin",
     "output_type": "stream",
     "text": [
      "enter your option:  2\n"
     ]
    },
    {
     "name": "stdout",
     "output_type": "stream",
     "text": [
      "  Name  Age        Email Location Nationality  Gender       Phone M_Status  \\\n",
      "0    k   12   @gmail.com       LL          MW    male   999999999        w   \n",
      "1    w   13  a@gmail.com       BT          MW  female  8989898989        m   \n",
      "\n",
      "    Salary  \n",
      "0   100000  \n",
      "1  2000000  \n",
      "\n",
      "====enter your option====\n",
      "1.add personal details\n",
      "2.view personal details\n",
      "3.filter\n",
      "4.delete\n",
      "5.removing duplicate\n",
      "6.exit\n"
     ]
    },
    {
     "name": "stdin",
     "output_type": "stream",
     "text": [
      "enter your option:  3\n",
      "enter what you want to filter:   Name\n",
      "enter the value of column k\n"
     ]
    },
    {
     "name": "stdout",
     "output_type": "stream",
     "text": [
      "  Name  Age       Email Location Nationality Gender      Phone M_Status  \\\n",
      "0    k   12  @gmail.com       LL          MW   male  999999999        w   \n",
      "\n",
      "   Salary  \n",
      "0  100000  \n",
      "\n",
      "====enter your option====\n",
      "1.add personal details\n",
      "2.view personal details\n",
      "3.filter\n",
      "4.delete\n",
      "5.removing duplicate\n",
      "6.exit\n"
     ]
    },
    {
     "name": "stdin",
     "output_type": "stream",
     "text": [
      "enter your option:  6\n"
     ]
    },
    {
     "name": "stdout",
     "output_type": "stream",
     "text": [
      "\n",
      "==thank you for your time==\n"
     ]
    }
   ],
   "source": [
    "menu()"
   ]
  },
  {
   "cell_type": "code",
   "execution_count": null,
   "id": "5b4e8a92-dc84-4f50-839d-5f26e93ec1cc",
   "metadata": {},
   "outputs": [],
   "source": []
  },
  {
   "cell_type": "code",
   "execution_count": null,
   "id": "23eb8b6f-9350-4861-8a3a-a6923c9b2a56",
   "metadata": {},
   "outputs": [],
   "source": []
  }
 ],
 "metadata": {
  "kernelspec": {
   "display_name": "Python 3 (ipykernel)",
   "language": "python",
   "name": "python3"
  },
  "language_info": {
   "codemirror_mode": {
    "name": "ipython",
    "version": 3
   },
   "file_extension": ".py",
   "mimetype": "text/x-python",
   "name": "python",
   "nbconvert_exporter": "python",
   "pygments_lexer": "ipython3",
   "version": "3.13.2"
  }
 },
 "nbformat": 4,
 "nbformat_minor": 5
}
