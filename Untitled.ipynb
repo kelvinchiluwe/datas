{
 "cells": [
  {
   "cell_type": "code",
   "execution_count": 9,
   "id": "efbb6dc1-3ed2-4799-8f64-31664584b14e",
   "metadata": {},
   "outputs": [],
   "source": [
    "# searching information"
   ]
  },
  {
   "cell_type": "code",
   "execution_count": 1,
   "id": "e1a41e83-bc6e-4254-be5a-f8f61044dce2",
   "metadata": {},
   "outputs": [],
   "source": [
    "import pandas as pd"
   ]
  },
  {
   "cell_type": "code",
   "execution_count": 2,
   "id": "118fa040-2d89-4562-9621-856e06b87002",
   "metadata": {},
   "outputs": [
    {
     "data": {
      "text/html": [
       "<div>\n",
       "<style scoped>\n",
       "    .dataframe tbody tr th:only-of-type {\n",
       "        vertical-align: middle;\n",
       "    }\n",
       "\n",
       "    .dataframe tbody tr th {\n",
       "        vertical-align: top;\n",
       "    }\n",
       "\n",
       "    .dataframe thead th {\n",
       "        text-align: right;\n",
       "    }\n",
       "</style>\n",
       "<table border=\"1\" class=\"dataframe\">\n",
       "  <thead>\n",
       "    <tr style=\"text-align: right;\">\n",
       "      <th></th>\n",
       "      <th>First_Name</th>\n",
       "      <th>Gender</th>\n",
       "      <th>Start_Date</th>\n",
       "      <th>Last_Login_Time</th>\n",
       "      <th>Salary</th>\n",
       "      <th>Bonus_%</th>\n",
       "      <th>Senior_Management</th>\n",
       "      <th>Team</th>\n",
       "    </tr>\n",
       "  </thead>\n",
       "  <tbody>\n",
       "    <tr>\n",
       "      <th>26</th>\n",
       "      <td>Craig</td>\n",
       "      <td>Male</td>\n",
       "      <td>2/27/2000</td>\n",
       "      <td>7:45 AM</td>\n",
       "      <td>37598</td>\n",
       "      <td>7.757</td>\n",
       "      <td>True</td>\n",
       "      <td>Marketing</td>\n",
       "    </tr>\n",
       "  </tbody>\n",
       "</table>\n",
       "</div>"
      ],
      "text/plain": [
       "   First_Name Gender Start_Date Last_Login_Time  Salary  Bonus_%  \\\n",
       "26      Craig   Male  2/27/2000         7:45 AM   37598    7.757   \n",
       "\n",
       "   Senior_Management       Team  \n",
       "26              True  Marketing  "
      ]
     },
     "execution_count": 2,
     "metadata": {},
     "output_type": "execute_result"
    }
   ],
   "source": [
    "df=pd.read_csv('employees.csv')\n",
    "df.columns=[column.replace(' ','_') for column in df.columns]\n",
    "df.query('Senior_Management==True and Gender==\"Male\" and Salary<43455 and Team==\"Marketing\"',inplace=True)\n",
    "# and Gender==\"Male\" and Salary<43455 and Team==\"Marketing\"',inplace=True)\n",
    "df"
   ]
  },
  {
   "cell_type": "code",
   "execution_count": null,
   "id": "99649b67-d072-48e8-a8f1-1f659faa90eb",
   "metadata": {},
   "outputs": [],
   "source": []
  },
  {
   "cell_type": "code",
   "execution_count": null,
   "id": "69d90e46-10d3-442e-a30d-8680c65e8365",
   "metadata": {},
   "outputs": [],
   "source": []
  },
  {
   "cell_type": "code",
   "execution_count": null,
   "id": "8fb9b9de-b9ee-4b72-af75-8aaae4e768bb",
   "metadata": {},
   "outputs": [],
   "source": [
    "query=input('enter')\n",
    "name=input('enter')\n",
    "df=pd.read_csv('employees.csv')\n",
    "df.columns=[column.replace(' ','_') for column in df.columns]\n",
    "df.query(f'{query}==\"{name}\"',inplace=True)\n",
    "df"
   ]
  },
  {
   "cell_type": "code",
   "execution_count": null,
   "id": "73a54b26-08de-4dbd-b427-b321fa15c34c",
   "metadata": {},
   "outputs": [],
   "source": []
  },
  {
   "cell_type": "code",
   "execution_count": null,
   "id": "e6bccbf2-4939-4938-afcc-4a047b5c30ba",
   "metadata": {},
   "outputs": [],
   "source": [
    "with open('headsample.csv','w') as file:\n",
    "   me=file.writelines('')\n",
    "   print(me)"
   ]
  },
  {
   "cell_type": "code",
   "execution_count": null,
   "id": "0a807eff-161f-4e6f-91a7-8c326421f673",
   "metadata": {},
   "outputs": [],
   "source": [
    "import pandas as pd\n",
    "import csv as csv\n",
    "header=['Full_name','Age','Nationality','Location','M_status','Phone']\n",
    "with open('head_sample.csv.xlsx','w') as file:\n",
    "    file_write=csv.DictWriter(file,delimiter=',', fieldnames=header)\n",
    "    file_write.writeheader()\n",
    "file_content=pd.read_csv('head_sample.csv.xlsx')\n",
    "file_content"
   ]
  },
  {
   "cell_type": "code",
   "execution_count": null,
   "id": "c2d10ea3-55dd-4d00-9910-613157a1c190",
   "metadata": {},
   "outputs": [],
   "source": [
    "data={}"
   ]
  },
  {
   "cell_type": "code",
   "execution_count": 20,
   "id": "fc9cbd1e-4c6d-4424-a913-b48098c6b659",
   "metadata": {},
   "outputs": [],
   "source": [
    "import csv\n",
    "import pandas as pd\n",
    "with open('personal_details.csv', 'w') as file:\n",
    "    fieldnames = ['Name', 'Age', 'Email', 'Location', 'Nationality', 'Gender', 'Phone', 'M_Status', 'Salary']\n",
    "    writer = csv.DictWriter(file, delimiter=',',fieldnames=fieldnames)\n",
    "    writer.writeheader()\n",
    "def add_details():    \n",
    "    while True:\n",
    "        Name = input('Enter your full name:  ')\n",
    "        age = input('Enter your age:  ')\n",
    "        if not age.isdigit():\n",
    "            print('access denied!')\n",
    "            continue\n",
    "        email = input('Type your email address:   ')\n",
    "        if not email.endswith('@gmail.com'):\n",
    "            print(\"Invalid email. Please ensure it ends with '@gmail.com'.\")\n",
    "            continue\n",
    "        location = input('Type your location:  ')\n",
    "        nationality = input('Enter your country of origin:  ')\n",
    "        gender = input('Enter your gender:  ')\n",
    "        # if gender!=Male or gender!=Female:\n",
    "        #     print('access denied!')\n",
    "        #     continue\n",
    "        phone = input('Enter your phone:  ')\n",
    "        if not phone.isdigit() and not len(phone)>10:\n",
    "            print('access denied!')\n",
    "            continue\n",
    "            \n",
    "        M_status = input('Enter your marital status:  ')\n",
    "        salary = input('Enter your monthly salary:   ')\n",
    "        \n",
    "\n",
    "\n",
    "        # Name = input('Enter your full name:  ')\n",
    "        # age = input('Enter your age:  ')\n",
    "        # email = input('Type your email address:   ')\n",
    "        # if not email.endswitch('@gmail.com'):\n",
    "        #         break\n",
    "        #         print('wrong')\n",
    "        # location = input('Type your location:  ')\n",
    "        # nationality = input('Enter your country of origin:  ')\n",
    "        # gender = input('Enter your gender:  ')\n",
    "        # phone = input('Enter your phone:  ')\n",
    "        # M_status = input('Enter your marital status:  ')\n",
    "        # salary = input('Enter your monthly salary:   ')\n",
    "        \n",
    "        # while True:\n",
    "        #     if email!=(f'{Name}@gmail.com'):\n",
    "        #         break\n",
    "        #     else:\n",
    "        #         print('wrong')\n",
    "        #    if age!=age.isdigit():\n",
    "        #        break\n",
    "        #    if email!=(f'{Name}@gmail.com'):\n",
    "        #        break\n",
    "            # if Gender!=M or Gender!=F:\n",
    "            #     break\n",
    "            # else:\n",
    "            #     print('wrong')\n",
    "        #        break\n",
    "        #    if salary<20000:\n",
    "        #        break\n",
    "           \n",
    "                   \n",
    "               \n",
    "\n",
    "\n",
    "        data = {'Name': Name, 'Age': age, 'Email': email, 'Location': location, 'Nationality': nationality, 'Gender': gender, 'Phone': phone, 'M_Status': M_status, 'Salary': salary}\n",
    "\n",
    "        with open('personal_details.csv', 'a') as file:\n",
    "                  # ,newline='') as file:\n",
    "            writer = csv.DictWriter(file,delimiter=',', fieldnames=data)\n",
    "            writer.writerow(data)\n",
    "            answer=input('do you want to continue?:   ')\n",
    "            if answer!='yes':\n",
    "                print('thank you!')\n",
    "                break\n",
    "            else:\n",
    "                continue\n",
    "                print('\\n==starting a new details===')\n"
   ]
  },
  {
   "cell_type": "code",
   "execution_count": 21,
   "id": "38049edd-474d-47aa-bfdd-68473ea45c7e",
   "metadata": {},
   "outputs": [],
   "source": [
    "def view_details():\n",
    "    df = pd.read_csv('personal_details.csv')\n",
    "    print(df)"
   ]
  },
  {
   "cell_type": "code",
   "execution_count": 22,
   "id": "f4fe782c-4a5e-4429-8b28-83ad592f9b65",
   "metadata": {},
   "outputs": [],
   "source": [
    "import pandas as pd\n",
    "def filtering():\n",
    "    column_name=input('enter what you want to filter:  ')\n",
    "    value=input('enter the value of column')\n",
    "    df=pd.read_csv('personal_details.csv')\n",
    "    df.columns=[column.replace(' ','_') for column in df.columns]\n",
    "    df.query(f\"{column_name}=='{value}'\",inplace=True)\n",
    "    print(df)\n",
    "    "
   ]
  },
  {
   "cell_type": "code",
   "execution_count": 23,
   "id": "614041ab-124b-40bf-bbac-a87cb0198348",
   "metadata": {},
   "outputs": [],
   "source": [
    "def delete():\n",
    "    column_name=input('enter what you want to delete:  ')\n",
    "    df=pd.read_csv('personal_details.csv')\n",
    "    df=df[df['Name'] != column_name]\n",
    "    df.to_csv('personal_details.csv',index=False)\n",
    "    print(f'you have deleted{column_name}')\n",
    "    \n",
    "    # value=input('enter the value of column')\n",
    "    # df=pd.read_csv('personal_details.csv')\n",
    "    # df.columns=[column.replace(' ','_') for column in df.columns]\n",
    "    # df.drop(f\"{column_name}=='{value}'\",inplace=True)"
   ]
  },
  {
   "cell_type": "code",
   "execution_count": 24,
   "id": "f2b6490b-07cc-4951-89c8-1de154b5fa57",
   "metadata": {},
   "outputs": [],
   "source": [
    "def removing_duplicate():\n",
    "    df=pd.read_csv('personal_details.csv')\n",
    "    df=df.drop_duplicates(subset='Name',keep='first')\n",
    "    df.to_csv('personal_details.csv',index=False)\n",
    "    print('1st duplicate removed')"
   ]
  },
  {
   "cell_type": "code",
   "execution_count": 25,
   "id": "4787dbe7-1efb-4a40-90df-058f4d2e35a8",
   "metadata": {},
   "outputs": [],
   "source": [
    "def updating():\n",
    "        data=pd.read_csv('personal_details.csv')\n",
    "        column_name_location=input('enter column name:   ')\n",
    "        column_valeu_lo=input('enter the value of column_name:   ')\n",
    "        column_name_t_update=input('enter the column name you want to update:  ')\n",
    "        value_of_name_t_update=input('enter what you want to replace:   ')\n",
    "        data.loc[data[column_name_location]==column_valeu_lo,column_name_t_update]=value_of_name_t_update\n",
    "        data.to_csv('personal_details.csv',index=False)\n",
    "        "
   ]
  },
  {
   "cell_type": "code",
   "execution_count": 26,
   "id": "ab069339-8606-457b-95b7-a252c528774c",
   "metadata": {},
   "outputs": [],
   "source": [
    "def menu():\n",
    "    while True:\n",
    "        print('\\n====enter your option====')\n",
    "        print('1.add personal details')\n",
    "        print('2.view personal details')\n",
    "        print('3.filter')\n",
    "        print('4.delete')\n",
    "        print('5.removing duplicate')\n",
    "        print('6.updating')\n",
    "        print('7.exit')\n",
    "        option=int(input('enter your option: '))\n",
    "        # if not option.isdigit():\n",
    "        #     option=int(option)\n",
    "        #     print('access denied!')\n",
    "        #     continue  \n",
    "        if option==1:\n",
    "            add_details()\n",
    "        elif option==2:\n",
    "            view_details()\n",
    "        elif option==3:\n",
    "            filtering()\n",
    "        elif option==4:\n",
    "            delete()\n",
    "        elif option==5:\n",
    "            removing_duplicate()\n",
    "        elif option==6:\n",
    "            updating()\n",
    "        elif option==7:\n",
    "            print('\\n==thank you for your time==')\n",
    "            break\n",
    "            \n",
    "            "
   ]
  },
  {
   "cell_type": "code",
   "execution_count": null,
   "id": "d2bd3722-84d3-4f8a-9910-eefc2ef877ff",
   "metadata": {},
   "outputs": [
    {
     "name": "stdout",
     "output_type": "stream",
     "text": [
      "\n",
      "====enter your option====\n",
      "1.add personal details\n",
      "2.view personal details\n",
      "3.filter\n",
      "4.delete\n",
      "5.removing duplicate\n",
      "6.updating\n",
      "7.exit\n"
     ]
    },
    {
     "name": "stdin",
     "output_type": "stream",
     "text": [
      "enter your option:  1\n",
      "Enter your full name:   w\n",
      "Enter your age:   12\n",
      "Type your email address:    q@gmail.com\n",
      "Type your location:   m\n",
      "Enter your country of origin:   m\n",
      "Enter your gender:   m\n",
      "Enter your phone:   9999999999999\n",
      "Enter your marital status:   s\n",
      "Enter your monthly salary:    2222222222222\n",
      "do you want to continue?:    n\n"
     ]
    },
    {
     "name": "stdout",
     "output_type": "stream",
     "text": [
      "thank you!\n",
      "\n",
      "====enter your option====\n",
      "1.add personal details\n",
      "2.view personal details\n",
      "3.filter\n",
      "4.delete\n",
      "5.removing duplicate\n",
      "6.updating\n",
      "7.exit\n"
     ]
    },
    {
     "name": "stdin",
     "output_type": "stream",
     "text": [
      "enter your option:  2\n"
     ]
    },
    {
     "name": "stdout",
     "output_type": "stream",
     "text": [
      "  Name  Age        Email Location Nationality Gender          Phone M_Status  \\\n",
      "0    w   12  q@gmail.com        m           m      m  9999999999999        s   \n",
      "\n",
      "          Salary  \n",
      "0  2222222222222  \n",
      "\n",
      "====enter your option====\n",
      "1.add personal details\n",
      "2.view personal details\n",
      "3.filter\n",
      "4.delete\n",
      "5.removing duplicate\n",
      "6.updating\n",
      "7.exit\n"
     ]
    },
    {
     "name": "stdin",
     "output_type": "stream",
     "text": [
      "enter your option:  6\n",
      "enter column name:    Name\n",
      "enter the value of column_name:    w\n",
      "enter the column name you want to update:   Age\n",
      "enter what you want to replace:    24\n"
     ]
    },
    {
     "name": "stderr",
     "output_type": "stream",
     "text": [
      "C:\\Users\\Student.DESK-13\\AppData\\Local\\Temp\\ipykernel_7536\\1596503152.py:7: FutureWarning: Setting an item of incompatible dtype is deprecated and will raise an error in a future version of pandas. Value '24' has dtype incompatible with int64, please explicitly cast to a compatible dtype first.\n",
      "  data.loc[data[column_name_location]==column_valeu_lo,column_name_t_update]=value_of_name_t_update\n"
     ]
    },
    {
     "name": "stdout",
     "output_type": "stream",
     "text": [
      "  Name Age        Email Location Nationality Gender          Phone M_Status  \\\n",
      "0    w  24  q@gmail.com        m           m      m  9999999999999        s   \n",
      "\n",
      "          Salary  \n",
      "0  2222222222222  \n",
      "\n",
      "====enter your option====\n",
      "1.add personal details\n",
      "2.view personal details\n",
      "3.filter\n",
      "4.delete\n",
      "5.removing duplicate\n",
      "6.updating\n",
      "7.exit\n"
     ]
    }
   ],
   "source": [
    "menu()"
   ]
  },
  {
   "cell_type": "code",
   "execution_count": null,
   "id": "1390510b-bc0f-4b72-a0f8-9fddb93c13b0",
   "metadata": {},
   "outputs": [],
   "source": [
    "# import pandas as pd\n",
    "# def filtering():\n",
    "#     column_name=input('enter what you want to filter:  ')\n",
    "#     value=input('enter the value of column')\n",
    "#     df=pd.read_csv('personal_details.csv')\n",
    "#     df.columns=[column.replace(' ','_') for column in df.columns]\n",
    "#     df.query(f\"{column_name}=='{value}'\",inplace=True)\n",
    "#     df\n",
    "    "
   ]
  },
  {
   "cell_type": "code",
   "execution_count": 49,
   "id": "73931ee1-f785-4b3b-8c70-628a9a69ca49",
   "metadata": {},
   "outputs": [],
   "source": [
    "import csv\n",
    "import pandas as pd\n",
    "\n",
    "class addi_details():\n",
    "    def __init__(self):\n",
    "        with open('personal_details.csv', 'w') as file:\n",
    "            fieldnames = ['Name', 'Age', 'Email', 'Location', 'Nationality', 'Gender', 'Phone', 'M_Status', 'Salary']\n",
    "            writer = csv.DictWriter(file, fieldnames=fieldnames)\n",
    "            writer.writeheader()\n",
    "    def add_details(self):\n",
    "        while True:\n",
    "            Name = input('Enter your full name:  ')\n",
    "            age = input('Enter your age:  ')\n",
    "            if not age.isdigit():\n",
    "                print('access denied!')\n",
    "                continue\n",
    "            email = input('Type your email address:   ')\n",
    "            if not email.endswith('@gmail.com'):\n",
    "                print(\"Invalid email. Please ensure it ends with '@gmail.com'.\")\n",
    "                continue\n",
    "            location = input('Type your location:  ')\n",
    "            nationality = input('Enter your country of origin:  ')\n",
    "            gender = input('Enter your gender:  ')\n",
    "            # if gender!=Male or gender!=Female:\n",
    "            #     print('access denied!')\n",
    "            #     continue\n",
    "            phone = input('Enter your phone:  ')\n",
    "            if not phone.isdigit() and not len(phone)>10:\n",
    "                print('access denied!')\n",
    "                continue\n",
    "            \n",
    "            M_status = input('Enter your marital status:  ')\n",
    "            salary = input('Enter your monthly salary:   ')\n",
    "            data = {'Name': Name, 'Age': age, 'Email': email, 'Location': location, 'Nationality': nationality, 'Gender': gender, 'Phone': phone, 'M_Status': M_status, 'Salary': salary}\n",
    "\n",
    "            with open('personal_details.csv', 'a') as file:\n",
    "                  # ,newline='') as file:\n",
    "                writer = csv.DictWriter(file, fieldnames=data)\n",
    "                writer.writerow(data)\n",
    "                answer=input('do you want to continue?:   ')\n",
    "                if answer!='yes':\n",
    "                    print('thank you!')\n",
    "                    break\n",
    "                else:\n",
    "                    continue\n",
    "                    print('\\n==starting a new details===')\n"
   ]
  },
  {
   "cell_type": "code",
   "execution_count": null,
   "id": "7be8114e-03b4-41ff-88db-29516af14f35",
   "metadata": {},
   "outputs": [],
   "source": [
    "def updating(self):\n",
    "        column_name_location=input('enter column name:   ')\n",
    "        column_valeu_lo=input('enter the value of column_name:   ')\n",
    "        column_name_t_update=input('enter the column name you want to update:  ')\n",
    "        value_of_name_t_update=input('enter what you want to replace:   ')\n",
    "        update=data.loc[data['column_name_location']=='column_valeu_lo','column_name_t_update']='value_of _name_t_update'\n",
    "        print(update)\n",
    "        "
   ]
  },
  {
   "cell_type": "code",
   "execution_count": 50,
   "id": "98d574c3-e122-4ef4-9d9f-9e773b99df2d",
   "metadata": {},
   "outputs": [],
   "source": [
    "class view_detail:\n",
    "    def __init__(self):\n",
    "        with open('personal_details.csv','r') as file:\n",
    "            pd=file\n",
    "\n",
    "        \n",
    "    def view_details(self):\n",
    "        df = pd.read_csv('personal_details.csv')\n",
    "        print(df)"
   ]
  },
  {
   "cell_type": "code",
   "execution_count": 51,
   "id": "d1b6ac64-2a43-49c6-bbae-3f7d0c5e3ce9",
   "metadata": {},
   "outputs": [],
   "source": [
    "class filters:\n",
    "    def __init__(self):\n",
    "        with open('personal_details.csv','r') as file:\n",
    "            pd=file\n",
    "\n",
    "    def filtering(file):\n",
    "        column_name=input('enter what you want to filter:  ')\n",
    "        value=input('enter the value of column')\n",
    "        df=pd.read_csv('personal_details.csv')\n",
    "        df.columns=[column.replace(' ','_') for column in df.columns]\n",
    "        df.query(f\"{column_name}=='{value}'\",inplace=True)\n",
    "        print(df)"
   ]
  },
  {
   "cell_type": "code",
   "execution_count": 52,
   "id": "0a0fcf0d-f9b9-429f-9bfc-b7dead838af8",
   "metadata": {},
   "outputs": [],
   "source": [
    "class dele():\n",
    "    def __init__(self):\n",
    "        with open('personal_details.csv','r') as file:\n",
    "            pd=file\n",
    "    def delete(self):\n",
    "        column_name=input('enter what you want to delete:  ')\n",
    "        df=pd.read_csv('personal_details.csv')\n",
    "        df=df[df['Name'] != column_name]\n",
    "        df.to_csv('personal_details.csv',index=False)\n",
    "        print(f'you have deleted{column_name}')"
   ]
  },
  {
   "cell_type": "code",
   "execution_count": 53,
   "id": "fbef49eb-e8cc-43de-a098-57dc6c935720",
   "metadata": {},
   "outputs": [],
   "source": [
    "class remove_duplicate:\n",
    "    def __init__(self):\n",
    "        with open('personal_details.csv','r') as file:\n",
    "            pd=file\n",
    "    \n",
    "\n",
    "    def removing_duplicate(self):\n",
    "        df=pd.read_csv('personal_details.csv')\n",
    "        df=df.drop_duplicates(subset='Name',keep='first')\n",
    "        df.to_csv('personal_details.csv',index=False)\n",
    "        print('1st duplicate removed')"
   ]
  },
  {
   "cell_type": "code",
   "execution_count": 54,
   "id": "1fa0680b-705c-4aa5-9d3e-ed5ba66ad3cd",
   "metadata": {},
   "outputs": [],
   "source": [
    "class update:\n",
    "    def __init__(self):\n",
    "        with open('personal_details.csv','r') as file:\n",
    "            pd=file\n",
    "    def updating(self):\n",
    "        column_name_location=input('enter column name:   ')\n",
    "        column_valeu_lo=input('enter the value of column_name:   ')\n",
    "        column_name_t_update=input('enter the column name you want to update:  ')\n",
    "        value_of_name_t_update=input('enter what you want to replace:   ')\n",
    "        update=data.loc[data['column_name_location']=='column_valeu_lo','column_name_t_update']='value_of _name_t_update'\n",
    "        print(update)\n",
    "        \n",
    "        "
   ]
  },
  {
   "cell_type": "code",
   "execution_count": null,
   "id": "ef88c314-9282-4fb6-a6b4-efba0a13301e",
   "metadata": {},
   "outputs": [],
   "source": []
  },
  {
   "cell_type": "code",
   "execution_count": null,
   "id": "a64cd1b5-f40f-4e94-8f8f-9ef71a628969",
   "metadata": {},
   "outputs": [],
   "source": [
    "def menu():\n",
    "    while True:\n",
    "        print('\\n====enter your option====')\n",
    "        print('1.add personal details')\n",
    "        print('2.view personal details')\n",
    "        print('3.filter')\n",
    "        print('4.delete')\n",
    "        print('5.removing duplicate')\n",
    "        print('6.exit')\n",
    "        option=input('enter your option: ')\n",
    "        if not option.isdigit():\n",
    "            option=int(option)\n",
    "            print('access denied!')\n",
    "            continue  \n",
    "        if option==1:\n",
    "            i=addi_details()\n",
    "            i.add_details()\n",
    "        elif option==2:\n",
    "            j=view_detail()\n",
    "            j.view_details()\n",
    "        elif option==3:\n",
    "            k=filters()\n",
    "            k.filtering()\n",
    "        elif option==4:\n",
    "            d=dele()\n",
    "            d.delete()\n",
    "        elif option==5:\n",
    "            g=remove_duplicate()\n",
    "            g.removing_duplicate()\n",
    "        elif option==6:\n",
    "            print('\\n==thank you for your time==')\n",
    "            break"
   ]
  }
 ],
 "metadata": {
  "kernelspec": {
   "display_name": "Python 3 (ipykernel)",
   "language": "python",
   "name": "python3"
  },
  "language_info": {
   "codemirror_mode": {
    "name": "ipython",
    "version": 3
   },
   "file_extension": ".py",
   "mimetype": "text/x-python",
   "name": "python",
   "nbconvert_exporter": "python",
   "pygments_lexer": "ipython3",
   "version": "3.13.2"
  }
 },
 "nbformat": 4,
 "nbformat_minor": 5
}
