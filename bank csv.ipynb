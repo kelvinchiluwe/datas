{
 "cells": [
  {
   "cell_type": "code",
   "execution_count": 9,
   "id": "49ba32b8-c602-4663-9735-4cecbde0d9ad",
   "metadata": {},
   "outputs": [],
   "source": [
    "\n",
    "import pandas as pd\n",
    "import csv as csv\n",
    "import random\n",
    "with open('Banking_system_management.csv','w') as file:\n",
    "    fieldnames = ['Name', 'Email', 'Nationality', 'Gender', 'Phone','sourceOFMoney','Amount','NationalID_No','Account_number']\n",
    "    writer = csv.DictWriter(file, fieldnames=fieldnames)\n",
    "    writer.writeheader()"
   ]
  },
  {
   "cell_type": "code",
   "execution_count": 7,
   "id": "705f79dc-376c-45dc-9f45-67d8cfa0d685",
   "metadata": {},
   "outputs": [],
   "source": [
    "def create_account():\n",
    "    while True:\n",
    "        name = input('Enter your full name:  ')\n",
    "        email = input('Type your email address:   ')\n",
    "        if not email.endswith('@gmail.com'):\n",
    "            print(\"Invalid email. Please ensure it ends with '@gmail.com'.\")\n",
    "            continue\n",
    "        nationality = input('Enter your country of origin:  ')\n",
    "        gender = input('Enter your gender:  ')\n",
    "        # account_number=0\n",
    "        account_number=random.randint(100000000,200000000)\n",
    "        # for account_number in account_numbe:\n",
    "        #     account_number +=1\n",
    "        # print(account_number)0\n",
    "        phone = input('Enter your phone:  ')\n",
    "        if not phone.isdigit() and not len(phone)>=10:\n",
    "            print('access denied!')\n",
    "            continue\n",
    "        sourceOFMoney=input('enter your source of money')\n",
    "        amount=float(input('enter amount you recieve each month: '))\n",
    "        if amount<100:\n",
    "            print('insufficient fund!')\n",
    "            break\n",
    "        nationalID_No=input('enter your national id number')\n",
    "        print(f'dear customer {name} your account number is {account_number}')\n",
    "    \n",
    "\n",
    "\n",
    "        \n",
    "        data = {'Name': name,'Email': email,'Nationality':nationality, 'Gender': gender, 'Phone': phone,'SourceOFMoney':sourceOFMoney, 'Amount':amount, 'NationalID_No':nationalID_No,'Account_number':account_number}\n",
    "        with open('Banking_system_management.csv','a') as file:\n",
    "            writer = csv.DictWriter(file,delimiter=',' ,fieldnames=data)\n",
    "            writer.writerow(data)\n",
    "            print(writer)\n",
    "        \n",
    "        break\n",
    "                \n",
    "            # if sex=='M':\n",
    "            #     print(f'Mr{name} your account has been created and your account number is {random_number}')\n",
    "            # elif sex=='F':\n",
    "            #     print(f'mrs {name} your account has been created  and your account number is {random_number}' )\n",
    "            # else:\n",
    "            #     print('enter appropriate information')\n",
    "            #     continue"
   ]
  },
  {
   "cell_type": "code",
   "execution_count": 8,
   "id": "001c49a2-9263-449a-84a4-dd38c1e77733",
   "metadata": {},
   "outputs": [],
   "source": [
    "def updating():\n",
    "        data=pd.read_csv('Banking_system_management.csv')\n",
    "        column_name_location=input('enter column name:   ')\n",
    "        column_valeu_lo=input('enter the value of column_name:   ')\n",
    "        column_name_t_update=input('enter the column name you want to update:  ')\n",
    "        value_of_name_t_update=input('enter what you want to replace:   ')\n",
    "        data.loc[data[column_name_location]==column_valeu_lo,column_name_t_update]=value_of_name_t_update\n",
    "        data.to_csv('Banking_system_management.csv',index=False)\n",
    "        "
   ]
  },
  {
   "cell_type": "code",
   "execution_count": null,
   "id": "1bf3d062-d446-4820-ba7d-0ed3faa84f7f",
   "metadata": {},
   "outputs": [],
   "source": [
    " data=pd.read_csv('Banking_system_management.csv')\n",
    "        column_name_location=input('enter column name:   ')\n",
    "        \n",
    "        column_valeu_lo=input('enter the value of column_name:   ')\n",
    "        account_number=input('enter the column name you want to update:  ')\n",
    "        deposit=input('enter amount you wanna deposit:   ')\n",
    "        balance=Amount+= deposit\n",
    "        data.loc[data[Account_number] == account_number,Amount]=balance\n",
    "        data.to_csv('Banking_system_management.csv',index=False)"
   ]
  },
  {
   "cell_type": "code",
   "execution_count": 9,
   "id": "e0e47573-db44-4a23-91d7-0cc7438448d1",
   "metadata": {},
   "outputs": [],
   "source": [
    "import pandas as pd\n",
    "import csv as csv\n",
    "def view():\n",
    "    data=pd.read_csv('Banking_system_management.csv')\n",
    "    print(data)"
   ]
  },
  {
   "cell_type": "code",
   "execution_count": 10,
   "id": "b5a5eb58-749e-4850-bcfb-fe72ae246925",
   "metadata": {},
   "outputs": [],
   "source": [
    " def menu():\n",
    "     while True:\n",
    "         print('1.create account')\n",
    "         print('2.deposit')\n",
    "         print('3.view')\n",
    "         print('4.update')\n",
    "         print('5.exit')\n",
    "         option=int(input('enter your option'))\n",
    "         if option==1:\n",
    "             create_account()\n",
    "         elif option==2:\n",
    "             deposit()\n",
    "         elif option==3:\n",
    "             view()\n",
    "         elif option==4:\n",
    "             updating()\n",
    "         elif option==5:\n",
    "             print('exit')\n",
    "             break"
   ]
  },
  {
   "cell_type": "code",
   "execution_count": 11,
   "id": "43fad6f8-413f-469f-8be4-0fec59c2fe2c",
   "metadata": {},
   "outputs": [
    {
     "name": "stdout",
     "output_type": "stream",
     "text": [
      "1.create account\n",
      "2.deposit\n",
      "3.view\n",
      "4.update\n",
      "5.exit\n"
     ]
    },
    {
     "name": "stdin",
     "output_type": "stream",
     "text": [
      "enter your option 3\n"
     ]
    },
    {
     "name": "stdout",
     "output_type": "stream",
     "text": [
      "     Name        Email Nationality Gender         Phone sourceOFMoney  \\\n",
      "0  gloria  q@gmail.com           j      f  999999999999          work   \n",
      "\n",
      "      Amount NationalID_No  Account_number  \n",
      "0  2000000.0          2w3e       193995521  \n",
      "1.create account\n",
      "2.deposit\n",
      "3.view\n",
      "4.update\n",
      "5.exit\n"
     ]
    },
    {
     "name": "stdin",
     "output_type": "stream",
     "text": [
      "enter your option 5\n"
     ]
    },
    {
     "name": "stdout",
     "output_type": "stream",
     "text": [
      "exit\n"
     ]
    }
   ],
   "source": [
    "menu()"
   ]
  },
  {
   "cell_type": "code",
   "execution_count": 25,
   "id": "c10ffa75-8b4c-40ba-8d9c-be69806e4554",
   "metadata": {},
   "outputs": [],
   "source": [
    "def deposit():\n",
    "    # create_account()\n",
    "    data = {'Name': name,'Email': email,'Nationality':nationality, 'Gender': gender, 'Phone': phone,'SourceOFMoney':sourceOFMoney, 'Amount':amount, 'NationalID_No':nationalID_No,'Account_number':account_number}\n",
    "    df=pd.read_csv('Banking_system_management.csv')\n",
    "    df\n",
    "    account_number=input('enter account number:  ')\n",
    "    deposit=float(input('enter money you wanna deposit:  '))\n",
    "    # data={'Amount':amount}\n",
    "    amount['amount'] =+ deposit\n",
    "    print(f'you have deposited{deposit}')\n",
    "    # def deposit():\n",
    "    # Acount_source=input('enter either savings or anything else:')\n",
    "    # Amount=float(input('enter amount'))\n",
    "    # balance['balance'] +=Amount\n",
    "    # if Amount>0:\n",
    "    #     print(f'you have deposit MKW.{Amount}')\n",
    "    # elif Amount<0:\n",
    "    #     print(f'you cant deposit a negative money')\n",
    "    # else:\n",
    "    #     print('invalid input!')"
   ]
  },
  {
   "cell_type": "code",
   "execution_count": 32,
   "id": "33f8fac6-ee8b-4dc8-9a06-2967bf9469e4",
   "metadata": {},
   "outputs": [],
   "source": [
    "import pandas as pd\n",
    "\n",
    "def deposit():\n",
    "    # Read the existing CSV file\n",
    "    df = pd.read_csv('Banking_system_management.csv')\n",
    "\n",
    "    # Get account number and deposit amount\n",
    "    account_number = input('Enter account number: ')\n",
    "    deposit = float(input('Enter money you want to deposit: '))\n",
    "\n",
    "    # Find the row with the matching account number\n",
    "    if account_number in df['Account_number'].values:\n",
    "        # Update the Amount field\n",
    "        df.loc[data['Account_number'] == account_number, 'Amount'] += deposit\n",
    "        print(f'You have deposited {deposit}.')\n",
    "    else:\n",
    "        print('Account number not found.')\n",
    "\n",
    "    # Save the updated DataFrame back to the CSV file\n",
    "    df.to_csv('Banking_system_management.csv', index=False)\n"
   ]
  },
  {
   "cell_type": "code",
   "execution_count": 33,
   "id": "aabcfb7d-448b-476a-9e9f-10ec223bf482",
   "metadata": {},
   "outputs": [
    {
     "name": "stdin",
     "output_type": "stream",
     "text": [
      "Enter account number:  176199059\n",
      "Enter money you want to deposit:  70000\n"
     ]
    },
    {
     "name": "stdout",
     "output_type": "stream",
     "text": [
      "Account number not found.\n"
     ]
    }
   ],
   "source": [
    "deposit()"
   ]
  },
  {
   "cell_type": "code",
   "execution_count": null,
   "id": "822d121c-174f-4476-bdc6-b92bc7634c1c",
   "metadata": {},
   "outputs": [],
   "source": []
  }
 ],
 "metadata": {
  "kernelspec": {
   "display_name": "Python 3 (ipykernel)",
   "language": "python",
   "name": "python3"
  },
  "language_info": {
   "codemirror_mode": {
    "name": "ipython",
    "version": 3
   },
   "file_extension": ".py",
   "mimetype": "text/x-python",
   "name": "python",
   "nbconvert_exporter": "python",
   "pygments_lexer": "ipython3",
   "version": "3.13.2"
  }
 },
 "nbformat": 4,
 "nbformat_minor": 5
}
