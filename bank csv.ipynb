{
 "cells": [
  {
   "cell_type": "code",
   "execution_count": 85,
   "id": "49ba32b8-c602-4663-9735-4cecbde0d9ad",
   "metadata": {},
   "outputs": [],
   "source": [
    "\n",
    "import pandas as pd\n",
    "import csv as csv\n",
    "import random\n",
    "with open('Banking_system_management.csv','w') as file:\n",
    "    fieldnames = ['Name', 'Email', 'Nationality', 'Gender', 'Phone','sourceOFMoney','Amount','NationalID_No','Account_number']\n",
    "    writer = csv.DictWriter(file, fieldnames=fieldnames)\n",
    "    writer.writeheader()"
   ]
  },
  {
   "cell_type": "code",
   "execution_count": 86,
   "id": "705f79dc-376c-45dc-9f45-67d8cfa0d685",
   "metadata": {},
   "outputs": [],
   "source": [
    "import pandas as pd\n",
    "import csv as csv\n",
    "import random\n",
    "def create_account():\n",
    "    while True:\n",
    "        name = input('Enter your full name:  ')\n",
    "        email = input('Type your email address:   ')\n",
    "        if not email.endswith('@gmail.com'):\n",
    "            print(\"Invalid email. Please ensure it ends with '@gmail.com'.\")\n",
    "            continue\n",
    "        nationality = input('Enter your country of origin:  ')\n",
    "        gender = input('Enter your gender:  ')\n",
    "        # account_number=0\n",
    "        account_number=random.randint(100000000,200000000)\n",
    "        # for account_number in account_numbe:\n",
    "        #     account_number +=1\n",
    "        # print(account_number)0\n",
    "        phone = input('Enter your phone:  ')\n",
    "        if not phone.isdigit() and not len(phone)>=10:\n",
    "            print('access denied!')\n",
    "            continue\n",
    "        sourceOFMoney=input('enter your source of money')\n",
    "        amount=float(input('enter amount you recieve each month: '))\n",
    "        if amount<100:\n",
    "            print('insufficient fund!')\n",
    "            break\n",
    "        nationalID_No=input('enter your national id number')\n",
    "        if not nationalID_No.alphanumerical:\n",
    "            print('invalid ! id number')\n",
    "            continue\n",
    "        print(f'dear customer {name} your account number is {account_number}')\n",
    "    \n",
    "\n",
    "\n",
    "        \n",
    "        data = {'Name': name,'Email': email,'Nationality':nationality, 'Gender': gender, 'Phone': phone,'SourceOFMoney':sourceOFMoney, 'Amount':amount, 'NationalID_No':nationalID_No,'Account_number':account_number}\n",
    "        with open('Banking_system_management.csv','a') as file:\n",
    "            writer = csv.DictWriter(file,delimiter=',' ,fieldnames=data)\n",
    "            writer.writerow(data)\n",
    "            print(writer)\n",
    "        \n",
    "        break\n",
    "                \n",
    "            # if sex=='M':\n",
    "            #     print(f'Mr{name} your account has been created and your account number is {random_number}')\n",
    "            # elif sex=='F':\n",
    "            #     print(f'mrs {name} your account has been created  and your account number is {random_number}' )\n",
    "            # else:\n",
    "            #     print('enter appropriate information')\n",
    "            #     continue"
   ]
  },
  {
   "cell_type": "code",
   "execution_count": 87,
   "id": "001c49a2-9263-449a-84a4-dd38c1e77733",
   "metadata": {},
   "outputs": [],
   "source": [
    "def updating():\n",
    "        data=pd.read_csv('Banking_system_management.csv')\n",
    "        Account_number=input('enter the Account_number :   ')\n",
    "        column_name_t_update=input('enter the column name you want to update:  ')\n",
    "        value_of_name_t_update=input('enter what you want to replace:   ')\n",
    "        Account_number=int(Account_number)\n",
    "        infor=data.loc[data['Account_number']==Account_number,column_name_t_update]\n",
    "        if infor.empty:\n",
    "            print('invalid account number')\n",
    "        else:   \n",
    "            data.loc[data['Account_number']==Account_number,column_name_t_update]=value_of_name_t_update\n",
    "            print(f'you have updated {column_name_t_update} of {Account_number} account number')\n",
    "            data.to_csv('Banking_system_management.csv',index=False)\n",
    "            print('data saved!')\n",
    "        "
   ]
  },
  {
   "cell_type": "code",
   "execution_count": 88,
   "id": "e0e47573-db44-4a23-91d7-0cc7438448d1",
   "metadata": {},
   "outputs": [],
   "source": [
    "import pandas as pd\n",
    "import csv as csv\n",
    "def view():\n",
    "    data=pd.read_csv('Banking_system_management.csv')\n",
    "    print(data)\n",
    "    "
   ]
  },
  {
   "cell_type": "code",
   "execution_count": 89,
   "id": "1ae3d2c1-cdd1-4096-b12b-efa90bcc5d37",
   "metadata": {},
   "outputs": [],
   "source": [
    "import pandas as pd\n",
    "\n",
    "def withdrawal():\n",
    "    # Load  or read the data from the CSV file\n",
    "    data = pd.read_csv('Banking_system_management.csv')\n",
    "    Account_number= input('Enter the account number you want to update: ')\n",
    "    Account_number=int(Account_number)\n",
    "    withdrawal_amount =float(input('Enter the amount you want to deposit: '))\n",
    "    if withdrawal_amount<=0:\n",
    "        print('insufficent fund!')\n",
    "\n",
    "    balance=data.loc[data['Account_number'] == Account_number, 'Amount']\n",
    "    if balance.empty:\n",
    "        print('account number not available or wrong account number!')\n",
    "    # if withdrawal_amount>'Amount':\n",
    "    #     print('its too high than your balance!')\n",
    "    else:\n",
    "        data.loc[data['Account_number'] == Account_number, 'Amount'] -= withdrawal_amount\n",
    "        print(f\"Successfully deposited {withdrawal_amount} to account {Account_number}.\")\n",
    "    # else:\n",
    "        # print(f\"{Name} not found.\")\n",
    "    \n",
    "    # Save the updated data back to the CSV file\n",
    "        data.to_csv('Banking_system_management.csv', index=False)\n",
    "        print(\"Data saved successfully.\")"
   ]
  },
  {
   "cell_type": "code",
   "execution_count": 90,
   "id": "8864c6d2-3074-4c2a-8abe-3e6048009eb7",
   "metadata": {},
   "outputs": [],
   "source": [
    "import pandas as pd\n",
    "\n",
    "def deposit():\n",
    "    # Load  or read the data from the CSV file\n",
    "    data = pd.read_csv('Banking_system_management.csv')\n",
    "    Account_number= input('Enter the account number you want to update: ')\n",
    "    Account_number=int(Account_number)\n",
    "    deposit_amount =float(input('Enter the amount you want to deposit: '))\n",
    "    if deposit_amount<1:\n",
    "        print('you cant deposit money less than 1')\n",
    "\n",
    "    balance=data.loc[data['Account_number']==Account_number,'Amount']\n",
    "    if balance.empty:\n",
    "        print('account number not available or incorrect!')\n",
    "    else:\n",
    "        data.loc[data['Account_number'] ==Account_number, 'Amount'] += deposit_amount\n",
    "        print(f\"Successfully deposited {deposit_amount} to account {Account_number}.\")\n",
    "    # else:\n",
    "        # print(f\"{Name} not found.\")\n",
    "    \n",
    "    # Save the updated data back to the CSV file\n",
    "        data.to_csv('Banking_system_management.csv', index=False)\n",
    "        print(\"Data saved successfully.\")"
   ]
  },
  {
   "cell_type": "code",
   "execution_count": 91,
   "id": "11301339-a59b-416d-b439-894032199386",
   "metadata": {},
   "outputs": [],
   "source": [
    " def menu():\n",
    "     while True:\n",
    "         print('1.create account')\n",
    "         print('2.deposit')\n",
    "         print('3.view')\n",
    "         print('4.update')\n",
    "         print('5.withdrawal')\n",
    "         print('6.exit')\n",
    "         option=int(input('enter your option'))\n",
    "         if option==1:\n",
    "             create_account()\n",
    "         elif option==2:\n",
    "             deposit()\n",
    "         elif option==3:\n",
    "             view()\n",
    "         elif option==4:\n",
    "             updating()\n",
    "         elif option==5:\n",
    "             withdrawal()\n",
    "         elif option==6: \n",
    "             print('exit')\n",
    "             break\n",
    "    "
   ]
  },
  {
   "cell_type": "code",
   "execution_count": 93,
   "id": "b4c5cda1-ab99-4620-a5ce-aa3bc6b1d7b4",
   "metadata": {},
   "outputs": [
    {
     "name": "stdout",
     "output_type": "stream",
     "text": [
      "1.create account\n",
      "2.deposit\n",
      "3.view\n",
      "4.update\n",
      "5.withdrawal\n",
      "6.exit\n"
     ]
    },
    {
     "name": "stdin",
     "output_type": "stream",
     "text": [
      "enter your option 1\n",
      "Enter your full name:   thokozan Rodrick\n",
      "Type your email address:    thok@gmail.com\n",
      "Enter your country of origin:   Mw\n",
      "Enter your gender:   M\n",
      "Enter your phone:   05467383765\n",
      "enter your source of money pocket money\n",
      "enter amount you recieve each month:  700000\n",
      "enter your national id number 6y7h\n"
     ]
    },
    {
     "name": "stdout",
     "output_type": "stream",
     "text": [
      "dear customer thokozan Rodrick your account number is 101061482\n",
      "<csv.DictWriter object at 0x0000026D78AA94F0>\n",
      "1.create account\n",
      "2.deposit\n",
      "3.view\n",
      "4.update\n",
      "5.withdrawal\n",
      "6.exit\n"
     ]
    },
    {
     "name": "stdin",
     "output_type": "stream",
     "text": [
      "enter your option 1\n",
      "Enter your full name:   audry\n",
      "Type your email address:    ad@gmail.com\n",
      "Enter your country of origin:   mw\n",
      "Enter your gender:   m\n",
      "Enter your phone:   09673543637\n",
      "enter your source of money business\n",
      "enter amount you recieve each month:  600000\n",
      "enter your national id number 6y7u\n"
     ]
    },
    {
     "name": "stdout",
     "output_type": "stream",
     "text": [
      "dear customer audry your account number is 181403433\n",
      "<csv.DictWriter object at 0x0000026D78AA99A0>\n",
      "1.create account\n",
      "2.deposit\n",
      "3.view\n",
      "4.update\n",
      "5.withdrawal\n",
      "6.exit\n"
     ]
    },
    {
     "name": "stdin",
     "output_type": "stream",
     "text": [
      "enter your option 1\n",
      "Enter your full name:   amos\n",
      "Type your email address:    ae@gmail.com\n",
      "Enter your country of origin:   Rwandan\n",
      "Enter your gender:   m\n",
      "Enter your phone:   98765456786\n",
      "enter your source of money pocket money\n",
      "enter amount you recieve each month:  700000\n",
      "enter your national id number 7u8i\n"
     ]
    },
    {
     "name": "stdout",
     "output_type": "stream",
     "text": [
      "dear customer amos your account number is 199448426\n",
      "<csv.DictWriter object at 0x0000026D789F5EF0>\n",
      "1.create account\n",
      "2.deposit\n",
      "3.view\n",
      "4.update\n",
      "5.withdrawal\n",
      "6.exit\n"
     ]
    },
    {
     "name": "stdin",
     "output_type": "stream",
     "text": [
      "enter your option 1\n",
      "Enter your full name:   kelvin\n",
      "Type your email address:    kelvin@gmail.com\n",
      "Enter your country of origin:   mw\n",
      "Enter your gender:   m\n",
      "Enter your phone:   09876543456\n",
      "enter your source of money business\n",
      "enter amount you recieve each month:  1000000\n",
      "enter your national id number 6y7h\n"
     ]
    },
    {
     "name": "stdout",
     "output_type": "stream",
     "text": [
      "dear customer kelvin your account number is 130421117\n",
      "<csv.DictWriter object at 0x0000026D789F5710>\n",
      "1.create account\n",
      "2.deposit\n",
      "3.view\n",
      "4.update\n",
      "5.withdrawal\n",
      "6.exit\n"
     ]
    },
    {
     "name": "stdin",
     "output_type": "stream",
     "text": [
      "enter your option 1\n",
      "Enter your full name:   cedric\n",
      "Type your email address:    cfg@gmail.com\n",
      "Enter your country of origin:   congoliz\n",
      "Enter your gender:   m\n",
      "Enter your phone:   098765434567\n",
      "enter your source of money business\n",
      "enter amount you recieve each month:  6000100\n",
      "enter your national id number 5t67y\n"
     ]
    },
    {
     "name": "stdout",
     "output_type": "stream",
     "text": [
      "dear customer cedric your account number is 153807945\n",
      "<csv.DictWriter object at 0x0000026D78A7D230>\n",
      "1.create account\n",
      "2.deposit\n",
      "3.view\n",
      "4.update\n",
      "5.withdrawal\n",
      "6.exit\n"
     ]
    },
    {
     "name": "stdin",
     "output_type": "stream",
     "text": [
      "enter your option 6\n"
     ]
    },
    {
     "name": "stdout",
     "output_type": "stream",
     "text": [
      "exit\n"
     ]
    }
   ],
   "source": [
    "menu()"
   ]
  },
  {
   "cell_type": "code",
   "execution_count": 11,
   "id": "0774d759-b800-40e9-a7af-9bcfc19f1d2d",
   "metadata": {},
   "outputs": [],
   "source": [
    "# import pandas as pd\n",
    "\n",
    "# # def deposit():\n",
    "#     # Load  or read the data from the CSV file\n",
    "#     data = pd.read_csv('Banking_system_management.csv')\n",
    "#     Name= input('Enter the account number you want to update: ')\n",
    "#     deposit_amount =float(input('Enter the amount you want to deposit: '))\n",
    "#     if deposit_amount<1:\n",
    "#         print('you cant deposit money less than 1')\n",
    "#     data.loc[data['Name'] ==Name, 'Amount'] += deposit_amount\n",
    "#     print(f\"Successfully deposited {deposit_amount} to account {Name}.\")\n",
    "#     # else:\n",
    "#         # print(f\"{Name} not found.\")\n",
    "    \n",
    "#     # Save the updated data back to the CSV file\n",
    "#     data.to_csv('Banking_system_management.csv', index=False)\n",
    "#     print(\"Data saved successfully.\")"
   ]
  },
  {
   "cell_type": "code",
   "execution_count": null,
   "id": "822d121c-174f-4476-bdc6-b92bc7634c1c",
   "metadata": {},
   "outputs": [],
   "source": []
  }
 ],
 "metadata": {
  "kernelspec": {
   "display_name": "Python 3 (ipykernel)",
   "language": "python",
   "name": "python3"
  },
  "language_info": {
   "codemirror_mode": {
    "name": "ipython",
    "version": 3
   },
   "file_extension": ".py",
   "mimetype": "text/x-python",
   "name": "python",
   "nbconvert_exporter": "python",
   "pygments_lexer": "ipython3",
   "version": "3.13.2"
  }
 },
 "nbformat": 4,
 "nbformat_minor": 5
}
